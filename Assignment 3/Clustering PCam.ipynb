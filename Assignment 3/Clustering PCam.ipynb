{
 "cells": [
  {
   "cell_type": "code",
   "execution_count": 1,
   "metadata": {},
   "outputs": [
    {
     "name": "stderr",
     "output_type": "stream",
     "text": [
      "Using TensorFlow backend.\n"
     ]
    }
   ],
   "source": [
    "import tensorflow as tf\n",
    "from keras.backend.tensorflow_backend import set_session\n",
    "config = tf.ConfigProto()\n",
    "config.gpu_options.allow_growth = True  # dynamically grow the memory used on the GPU\n",
    "config.log_device_placement = True  # to log device placement (on which device the operation ran)\n",
    "                                    # (nothing gets printed in Jupyter, only if you run it standalone)\n",
    "sess = tf.Session(config=config)\n",
    "set_session(sess)  # set this TensorFlow session as the default session for Keras"
   ]
  },
  {
   "cell_type": "code",
   "execution_count": 2,
   "metadata": {
    "_cell_guid": "b1076dfc-b9ad-4769-8c92-a6c4dae69d19",
    "_uuid": "8f2839f25d086af736a60e9eeb907d3b93b6e0e5",
    "scrolled": false
   },
   "outputs": [],
   "source": [
    "#Load the modules\n",
    "\n",
    "from glob import glob \n",
    "import numpy as np\n",
    "import pandas as pd\n",
    "import keras,cv2,os\n",
    "import gc\n",
    "\n",
    "from keras import Model\n",
    "from keras.models import Sequential\n",
    "from keras.layers import Dense, Dropout, Flatten, BatchNormalization, Activation\n",
    "from keras.layers import Conv2D, MaxPool2D, Input, MaxPooling2D, UpSampling2D\n",
    "#just some network parameters, see above link regarding the layers for details\n",
    "from keras.optimizers import Adam\n",
    "from keras_tqdm import TQDMNotebookCallback\n",
    "\n",
    "\n",
    "from keras.utils import plot_model\n",
    "\n",
    "from keras_tqdm import TQDMNotebookCallback\n",
    "from tqdm import tqdm_notebook,trange\n",
    "import matplotlib.pyplot as plt\n",
    "import time\n",
    "\n",
    "from sklearn.cluster import KMeans\n",
    "from sklearn.mixture import GaussianMixture\n",
    "from sklearn import metrics\n",
    "from sklearn.decomposition import PCA, FastICA\n",
    "from sklearn.preprocessing import scale\n",
    "from sklearn.random_projection import GaussianRandomProjection\n",
    "\n",
    "from scipy.stats import kurtosis\n",
    "\n",
    "import matplotlib.pyplot as plt\n"
   ]
  },
  {
   "cell_type": "markdown",
   "metadata": {
    "_uuid": "077d54fd1297b6707ea5f202ec706085599225c6"
   },
   "source": [
    "# 3. Loading the data\n",
    "We'll start by creating a pandas data frame containing the path of all the files in the `train_path` folder and then read the matching labels from the provided csv file.\n",
    "\n",
    "## Load the labels and filenames"
   ]
  },
  {
   "cell_type": "code",
   "execution_count": 3,
   "metadata": {
    "_uuid": "d72f6d8131277d5a1452d92677bcaaae8117165b"
   },
   "outputs": [
    {
     "data": {
      "text/html": [
       "<div>\n",
       "<style scoped>\n",
       "    .dataframe tbody tr th:only-of-type {\n",
       "        vertical-align: middle;\n",
       "    }\n",
       "\n",
       "    .dataframe tbody tr th {\n",
       "        vertical-align: top;\n",
       "    }\n",
       "\n",
       "    .dataframe thead th {\n",
       "        text-align: right;\n",
       "    }\n",
       "</style>\n",
       "<table border=\"1\" class=\"dataframe\">\n",
       "  <thead>\n",
       "    <tr style=\"text-align: right;\">\n",
       "      <th></th>\n",
       "      <th>path</th>\n",
       "      <th>id</th>\n",
       "      <th>label</th>\n",
       "    </tr>\n",
       "  </thead>\n",
       "  <tbody>\n",
       "    <tr>\n",
       "      <th>0</th>\n",
       "      <td>..\\data\\PCam\\train\\00001b2b5609af42ab0ab276dd4...</td>\n",
       "      <td>00001b2b5609af42ab0ab276dd4cd41c3e7745b5</td>\n",
       "      <td>1</td>\n",
       "    </tr>\n",
       "    <tr>\n",
       "      <th>1</th>\n",
       "      <td>..\\data\\PCam\\train\\000020de2aa6193f4c160e398a8...</td>\n",
       "      <td>000020de2aa6193f4c160e398a8edea95b1da598</td>\n",
       "      <td>0</td>\n",
       "    </tr>\n",
       "    <tr>\n",
       "      <th>2</th>\n",
       "      <td>..\\data\\PCam\\train\\00004aab08381d25d315384d646...</td>\n",
       "      <td>00004aab08381d25d315384d646f5ce413ea24b1</td>\n",
       "      <td>0</td>\n",
       "    </tr>\n",
       "  </tbody>\n",
       "</table>\n",
       "</div>"
      ],
      "text/plain": [
       "                                                path  \\\n",
       "0  ..\\data\\PCam\\train\\00001b2b5609af42ab0ab276dd4...   \n",
       "1  ..\\data\\PCam\\train\\000020de2aa6193f4c160e398a8...   \n",
       "2  ..\\data\\PCam\\train\\00004aab08381d25d315384d646...   \n",
       "\n",
       "                                         id  label  \n",
       "0  00001b2b5609af42ab0ab276dd4cd41c3e7745b5      1  \n",
       "1  000020de2aa6193f4c160e398a8edea95b1da598      0  \n",
       "2  00004aab08381d25d315384d646f5ce413ea24b1      0  "
      ]
     },
     "execution_count": 3,
     "metadata": {},
     "output_type": "execute_result"
    }
   ],
   "source": [
    "#set paths to training and test data\n",
    "path = '..\\\\data\\\\PCam\\\\' #adapt this path, when running locally\n",
    "train_path = path + 'train\\\\'\n",
    "test_path = path + 'test\\\\'\n",
    "\n",
    "df = pd.DataFrame({'path': glob(os.path.join(train_path,'*.tif'))}) # load the filenames\n",
    "df['id'] = df.path.map(lambda x: x.split(\"\\\\\")[-1].split(\".\")[0]) # keep only the file names in 'id'\n",
    "labels = pd.read_csv(path + \"train_labels.csv\") # read the provided labels\n",
    "df = df.merge(labels, on = \"id\") # merge labels and filepaths\n",
    "df.head(3) # print the first three entrys"
   ]
  },
  {
   "cell_type": "markdown",
   "metadata": {
    "_uuid": "e32d37b60a88fb0c038ab2a6938bd46198e79740"
   },
   "source": [
    "## Load the images\n",
    "\n",
    "Now, we will load some of the images. As [interactive kernels with GPU](https://www.kaggle.com/docs/kernels#the-kernels-environment) currently offer about 14 GB of RAM, we will take care to keep the images in the uint8 format (i.e. pixel values are integers between 0 and 255) to reduce the memory footprint. Processing of the images often requires converting them to float32, which would require additional space.\n",
    "\n",
    "We'll declare a function to load a set number of images and then load 10000 images."
   ]
  },
  {
   "cell_type": "code",
   "execution_count": 4,
   "metadata": {
    "_uuid": "5087ee421fbaf96cbd18df1467cf14c34b4f7289"
   },
   "outputs": [],
   "source": [
    "def load_data(N,df):\n",
    "    \"\"\" This functions loads N images using the data df\n",
    "    \"\"\"\n",
    "    gc.collect()\n",
    "    # allocate a numpy array for the images (N, 96x96px, 3 channels, values 0 - 255)\n",
    "    X = np.zeros([N,32*32],dtype=np.uint8) \n",
    "    #convert the labels to a numpy array too\n",
    "    y = np.squeeze(df.as_matrix(columns=['label']))[0:N]\n",
    "    #read images one by one, tdqm notebook displays a progress bar\n",
    "    for i, row in tqdm_notebook(df.iterrows(), total=N):\n",
    "        if i == N:\n",
    "            break\n",
    "            \n",
    "        if i % 9000 == 0:\n",
    "            gc.collect()\n",
    "            print(\"COLLECTED MEMORY\")\n",
    "        \n",
    "        img = cv2.imread(row['path'])\n",
    "        img = cv2.cvtColor(img, cv2.COLOR_BGR2GRAY)\n",
    "        width, height = img.shape   # Get dimensions\n",
    "#         print(X[i].shape)\n",
    "        left = (width - 32)//2\n",
    "        top = (height - 32)//2\n",
    "        right = (width + 32)//2\n",
    "        bottom = (height + 32)//2\n",
    "        cropped = img[top:bottom, left:right].ravel()\n",
    "        X[i] = cropped\n",
    "          \n",
    "    return X,y\n",
    "\n",
    "def load_data_CNN(N,df):\n",
    "    \"\"\" This functions loads N images using the data df\n",
    "    \"\"\"\n",
    "    gc.collect()\n",
    "    # allocate a numpy array for the images (N, 96x96px, 3 channels, values 0 - 255)\n",
    "    X = np.zeros([N,32,32,1],dtype=np.uint8) \n",
    "    #convert the labels to a numpy array too\n",
    "    y = np.squeeze(df.as_matrix(columns=['label']))[0:N]\n",
    "    #read images one by one, tdqm notebook displays a progress bar\n",
    "    for i, row in tqdm_notebook(df.iterrows(), total=N):\n",
    "        if i == N:\n",
    "            break\n",
    "            \n",
    "        if i % 9000 == 0:\n",
    "            gc.collect()\n",
    "            print(\"COLLECTED MEMORY\")\n",
    "        \n",
    "        img = cv2.imread(row['path'])\n",
    "        img = cv2.cvtColor(img, cv2.COLOR_BGR2GRAY)\n",
    "        width, height = img.shape   # Get dimensions\n",
    "#         print(X[i].shape)\n",
    "        left = (width - 32)//2\n",
    "        top = (height - 32)//2\n",
    "        right = (width + 32)//2\n",
    "        bottom = (height + 32)//2\n",
    "        cropped = img[top:bottom, left:right].reshape(32, 32, 1)\n",
    "        X[i] = cropped\n",
    "          \n",
    "    return X,y"
   ]
  },
  {
   "cell_type": "code",
   "execution_count": 5,
   "metadata": {},
   "outputs": [],
   "source": [
    "def purity_score(y_true, y_pred):\n",
    "    # compute contingency matrix (also called confusion matrix)\n",
    "    contingency_matrix = metrics.cluster.contingency_matrix(y_true, y_pred)\n",
    "    # return purity\n",
    "    return np.sum(np.amax(contingency_matrix, axis=0)) / np.sum(contingency_matrix) "
   ]
  },
  {
   "cell_type": "markdown",
   "metadata": {
    "_uuid": "c3bd89f6d9e00472c46b1c9c617e3d090c9fccce"
   },
   "source": [
    "# Setup the model\n",
    "We will now focus on creating a simple model for this problem. This is usually the point, where you would want to start considering our previous conclusions, but to keep it simple, we will assume, we did not draw any meaningful conclusions. As the data is - in comparison to other Kaggle challenges - relatively well balanced and accesible, this should be ok. You can use the insight to craft a better model later!\n",
    "\n",
    "Let's start by loading all the data, not just a subset as before. This will likely require a few minutes. However, we only need to do it once."
   ]
  },
  {
   "cell_type": "code",
   "execution_count": 6,
   "metadata": {
    "_uuid": "30e69a2a034e279da6eeb0fc09f1a58b58fc0401"
   },
   "outputs": [
    {
     "name": "stderr",
     "output_type": "stream",
     "text": [
      "C:\\ProgramData\\Anaconda3\\lib\\site-packages\\ipykernel_launcher.py:8: FutureWarning: Method .as_matrix will be removed in a future version. Use .values instead.\n",
      "  \n"
     ]
    },
    {
     "data": {
      "application/vnd.jupyter.widget-view+json": {
       "model_id": "a1b09e84f0284a91a4accdbb44e27b62",
       "version_major": 2,
       "version_minor": 0
      },
      "text/plain": [
       "HBox(children=(IntProgress(value=0, max=220025), HTML(value='')))"
      ]
     },
     "metadata": {},
     "output_type": "display_data"
    },
    {
     "name": "stdout",
     "output_type": "stream",
     "text": [
      "COLLECTED MEMORY\n",
      "COLLECTED MEMORY\n",
      "COLLECTED MEMORY\n",
      "COLLECTED MEMORY\n",
      "COLLECTED MEMORY\n",
      "COLLECTED MEMORY\n",
      "COLLECTED MEMORY\n",
      "COLLECTED MEMORY\n",
      "COLLECTED MEMORY\n",
      "COLLECTED MEMORY\n",
      "COLLECTED MEMORY\n",
      "COLLECTED MEMORY\n",
      "COLLECTED MEMORY\n",
      "COLLECTED MEMORY\n",
      "COLLECTED MEMORY\n",
      "COLLECTED MEMORY\n",
      "COLLECTED MEMORY\n",
      "COLLECTED MEMORY\n",
      "COLLECTED MEMORY\n",
      "COLLECTED MEMORY\n",
      "COLLECTED MEMORY\n",
      "COLLECTED MEMORY\n",
      "COLLECTED MEMORY\n",
      "COLLECTED MEMORY\n",
      "COLLECTED MEMORY\n",
      "\n"
     ]
    }
   ],
   "source": [
    "N = df[\"path\"].size # get the number of images in the training data set\n",
    "X,y = load_data(N=N,df=df)"
   ]
  },
  {
   "cell_type": "markdown",
   "metadata": {
    "_uuid": "2e5b2386785b29f3a332daffa0160d14aa3a562e"
   },
   "source": [
    "We will use the garbage collector and unbind some variables to free up space in our RAM."
   ]
  },
  {
   "cell_type": "code",
   "execution_count": 7,
   "metadata": {
    "_uuid": "e14b07edae9d62cc873b1b10c5288c72bfbf9671"
   },
   "outputs": [],
   "source": [
    "#Collect garbage\n",
    "positives_samples = None\n",
    "negative_samples = None\n",
    "gc.collect();"
   ]
  },
  {
   "cell_type": "markdown",
   "metadata": {
    "_uuid": "c56525b3ee4c5f65255422ec035c057d350de292"
   },
   "source": [
    "Now, we will split the data into a [training and validation set](https://en.wikipedia.org/wiki/Training,_validation,_and_test_sets). Due to the RAM limitations, we will just do this in-place by specifying an index at which we will split. We'll use 80% of the data for training and 20% to validate that our model can generalize to new data. After that, to avoid any influence of a possible previous sorting of data we will shuffle the data (in-place)."
   ]
  },
  {
   "cell_type": "code",
   "execution_count": 8,
   "metadata": {
    "_uuid": "60644d18d00811a12f6270ac42f8c745902018a8"
   },
   "outputs": [
    {
     "data": {
      "text/plain": [
       "0"
      ]
     },
     "execution_count": 8,
     "metadata": {},
     "output_type": "execute_result"
    }
   ],
   "source": [
    "training_portion = 0.4 # Specify training/validation ratio\n",
    "split_idx = int(np.round(training_portion * y.shape[0])) #Compute split idx\n",
    "\n",
    "np.random.seed(420) #set the seed to ensure reproducibility\n",
    "\n",
    "#shuffle\n",
    "idx = np.arange(y.shape[0])\n",
    "np.random.shuffle(idx)\n",
    "X = X[idx]\n",
    "y = y[idx]\n",
    "\n",
    "X_train = X[:split_idx]\n",
    "y_train = y[:split_idx]\n",
    "X_test = X[split_idx:]\n",
    "y_test = y[split_idx:]\n",
    "\n",
    "X = None\n",
    "y = None\n",
    "\n",
    "gc.collect()"
   ]
  },
  {
   "cell_type": "code",
   "execution_count": 9,
   "metadata": {},
   "outputs": [
    {
     "data": {
      "text/plain": [
       "(88010, 1024)"
      ]
     },
     "execution_count": 9,
     "metadata": {},
     "output_type": "execute_result"
    }
   ],
   "source": [
    "X_train.shape"
   ]
  },
  {
   "cell_type": "code",
   "execution_count": 10,
   "metadata": {},
   "outputs": [],
   "source": [
    "non_cancer_count = np.count_nonzero(y_test==0)\n",
    "cancer_count = np.count_nonzero(y_test==1)"
   ]
  },
  {
   "cell_type": "code",
   "execution_count": 11,
   "metadata": {
    "scrolled": true
   },
   "outputs": [
    {
     "data": {
      "text/plain": [
       "0.404370715449002"
      ]
     },
     "execution_count": 11,
     "metadata": {},
     "output_type": "execute_result"
    }
   ],
   "source": [
    "cancer_count / (non_cancer_count + cancer_count)"
   ]
  },
  {
   "cell_type": "code",
   "execution_count": 12,
   "metadata": {},
   "outputs": [
    {
     "data": {
      "text/plain": [
       "0.595629284550998"
      ]
     },
     "execution_count": 12,
     "metadata": {},
     "output_type": "execute_result"
    }
   ],
   "source": [
    "non_cancer_count / (non_cancer_count + cancer_count)"
   ]
  },
  {
   "cell_type": "code",
   "execution_count": 13,
   "metadata": {},
   "outputs": [
    {
     "data": {
      "text/plain": [
       "78632"
      ]
     },
     "execution_count": 13,
     "metadata": {},
     "output_type": "execute_result"
    }
   ],
   "source": [
    "non_cancer_count"
   ]
  },
  {
   "cell_type": "code",
   "execution_count": 14,
   "metadata": {},
   "outputs": [
    {
     "data": {
      "image/png": "[encoded data removed]",
      "text/plain": [
       "<Figure size 432x288 with 1 Axes>"
      ]
     },
     "metadata": {},
     "output_type": "display_data"
    }
   ],
   "source": [
    "labels = [\"Metastasized (40.4 %)\\n53383 Samples\", \"Not Metastasized (59.5 %)\\n78632 Samples\"]\n",
    "sizes = [cancer_count, non_cancer_count]\n",
    "patches, texts = plt.pie(sizes, startangle=90)\n",
    "plt.legend(patches, labels, loc=\"best\")\n",
    "# Set aspect ratio to be equal so that pie is drawn as a circle.\n",
    "plt.axis('equal')\n",
    "plt.tight_layout()\n",
    "plt.show()"
   ]
  },
  {
   "cell_type": "code",
   "execution_count": 15,
   "metadata": {},
   "outputs": [],
   "source": [
    "def kmean_fitter(X_data):\n",
    "    kmeans_models = []\n",
    "    kmeans_times = []\n",
    "    for i in range(1, 11):\n",
    "        start_time = time.time();\n",
    "        kmeans = KMeans(n_clusters=i, random_state=420).fit(X_data)\n",
    "        kmeans_times.append(time.time() - start_time)\n",
    "        kmeans_models.append(kmeans)\n",
    "        print(\"COMPLETED \" + str(i))\n",
    "    \n",
    "    return kmeans_models, kmeans_times"
   ]
  },
  {
   "cell_type": "code",
   "execution_count": 15,
   "metadata": {},
   "outputs": [
    {
     "name": "stdout",
     "output_type": "stream",
     "text": [
      "COMPLETED 1\n",
      "COMPLETED 2\n",
      "COMPLETED 3\n",
      "COMPLETED 4\n",
      "COMPLETED 5\n",
      "COMPLETED 6\n",
      "COMPLETED 7\n",
      "COMPLETED 8\n",
      "COMPLETED 9\n",
      "COMPLETED 10\n"
     ]
    }
   ],
   "source": [
    "kmeans_models, kmeans_times = kmean_fitter(X_train)"
   ]
  },
  {
   "cell_type": "code",
   "execution_count": 16,
   "metadata": {},
   "outputs": [],
   "source": [
    "def gmm_fitter(X_data):\n",
    "    gmm_models = []\n",
    "    gmm_times = []\n",
    "    for i in range(1, 11):\n",
    "        start_time = time.time();\n",
    "        gmm_model = GaussianMixture(n_components=i, random_state=420).fit(X_data)\n",
    "        gmm_times.append(time.time() - start_time)\n",
    "        gmm_models.append(gmm_model)\n",
    "        print(\"COMPLETED \" + str(i))\n",
    "    return gmm_models, gmm_times"
   ]
  },
  {
   "cell_type": "code",
   "execution_count": 17,
   "metadata": {},
   "outputs": [
    {
     "name": "stdout",
     "output_type": "stream",
     "text": [
      "COMPLETED 1\n",
      "COMPLETED 2\n",
      "COMPLETED 3\n",
      "COMPLETED 4\n",
      "COMPLETED 5\n",
      "COMPLETED 6\n",
      "COMPLETED 7\n",
      "COMPLETED 8\n",
      "COMPLETED 9\n",
      "COMPLETED 10\n"
     ]
    }
   ],
   "source": [
    "gmm_models, gmm_times = gmm_fitter(X_train)"
   ]
  },
  {
   "cell_type": "code",
   "execution_count": 18,
   "metadata": {},
   "outputs": [],
   "source": [
    "def kmean_stats(X_data, y_data, kmeans_models):\n",
    "    cluster_kmeans=[]\n",
    "    sse_kmeans=[]\n",
    "    purity_kmeans=[]\n",
    "    homo_kmeans=[]\n",
    "    for i in range(0, 10):\n",
    "        pred = kmeans_models[i].predict(X_data)\n",
    "        sse_kmeans.append(kmeans_models[i].inertia_)\n",
    "        purity_kmeans.append(purity_score(y_data, pred))\n",
    "        homo_kmeans.append(metrics.v_measure_score(y_data, pred))\n",
    "        cluster_kmeans.append(i + 1)\n",
    "        print(\"completed \" + str(i + 1))\n",
    "    \n",
    "    return cluster_kmeans, sse_kmeans, purity_kmeans, homo_kmeans\n"
   ]
  },
  {
   "cell_type": "code",
   "execution_count": 19,
   "metadata": {
    "scrolled": true
   },
   "outputs": [
    {
     "name": "stdout",
     "output_type": "stream",
     "text": [
      "completed 1\n",
      "completed 2\n",
      "completed 3\n",
      "completed 4\n",
      "completed 5\n",
      "completed 6\n",
      "completed 7\n",
      "completed 8\n",
      "completed 9\n",
      "completed 10\n"
     ]
    }
   ],
   "source": [
    "cluster_kmeans, sse_kmeans, purity_kmeans, homo_kmeans = kmean_stats(X_train, y_train, kmeans_models)"
   ]
  },
  {
   "cell_type": "code",
   "execution_count": 20,
   "metadata": {},
   "outputs": [],
   "source": [
    "def gmm_stats(X_train_data, y_train_data, gmm_models):\n",
    "    cluster_gmm=[]\n",
    "    homo_gmm=[]\n",
    "    purity_gmm=[]\n",
    "    for i in range(0, 10):\n",
    "        pred = gmm_models[i].predict(X_train_data)\n",
    "        purity_gmm.append(purity_score(y_train_data, pred))\n",
    "        homo_gmm.append(metrics.v_measure_score(y_train_data, pred))\n",
    "        cluster_gmm.append(i + 1)\n",
    "        print(\"completed \" + str(i + 1))\n",
    "    return cluster_gmm, homo_gmm, purity_gmm"
   ]
  },
  {
   "cell_type": "code",
   "execution_count": 21,
   "metadata": {},
   "outputs": [
    {
     "name": "stdout",
     "output_type": "stream",
     "text": [
      "completed 1\n",
      "completed 2\n",
      "completed 3\n",
      "completed 4\n",
      "completed 5\n",
      "completed 6\n",
      "completed 7\n",
      "completed 8\n",
      "completed 9\n",
      "completed 10\n"
     ]
    }
   ],
   "source": [
    "cluster_gmm, homo_gmm, purity_gmm = gmm_stats(X_train, y_train, gmm_models)"
   ]
  },
  {
   "cell_type": "code",
   "execution_count": 22,
   "metadata": {},
   "outputs": [
    {
     "data": {
      "text/plain": [
       "[<matplotlib.lines.Line2D at 0x2e003267390>]"
      ]
     },
     "execution_count": 22,
     "metadata": {},
     "output_type": "execute_result"
    },
    {
     "data": {
      "image/png": "[encoded data removed]",
      "text/plain": [
       "<Figure size 432x288 with 1 Axes>"
      ]
     },
     "metadata": {
      "needs_background": "light"
     },
     "output_type": "display_data"
    }
   ],
   "source": [
    "plt.plot(cluster_gmm, homo_gmm)\n",
    "plt.plot(cluster_kmeans, homo_kmeans)\n",
    "\n",
    "# plt.plot(xs, ys)"
   ]
  },
  {
   "cell_type": "code",
   "execution_count": 23,
   "metadata": {},
   "outputs": [
    {
     "data": {
      "text/plain": [
       "[<matplotlib.lines.Line2D at 0x2e0032d00b8>]"
      ]
     },
     "execution_count": 23,
     "metadata": {},
     "output_type": "execute_result"
    },
    {
     "data": {
      "image/png": "[encoded data removed]",
      "text/plain": [
       "<Figure size 432x288 with 1 Axes>"
      ]
     },
     "metadata": {
      "needs_background": "light"
     },
     "output_type": "display_data"
    }
   ],
   "source": [
    "plt.plot(cluster_gmm, purity_gmm)\n",
    "plt.plot(cluster_kmeans, purity_kmeans)"
   ]
  },
  {
   "cell_type": "code",
   "execution_count": 24,
   "metadata": {},
   "outputs": [
    {
     "data": {
      "text/plain": [
       "[<matplotlib.lines.Line2D at 0x2e0032d0b70>]"
      ]
     },
     "execution_count": 24,
     "metadata": {},
     "output_type": "execute_result"
    },
    {
     "data": {
      "image/png": "[encoded data removed]",
      "text/plain": [
       "<Figure size 432x288 with 1 Axes>"
      ]
     },
     "metadata": {
      "needs_background": "light"
     },
     "output_type": "display_data"
    }
   ],
   "source": [
    "plt.plot(cluster_gmm, gmm_times)\n",
    "plt.plot(cluster_kmeans, kmeans_times)"
   ]
  },
  {
   "cell_type": "code",
   "execution_count": 25,
   "metadata": {},
   "outputs": [],
   "source": [
    "best_gmm = gmm_models[4]\n",
    "best_kmean = kmeans_models[2]"
   ]
  },
  {
   "cell_type": "code",
   "execution_count": 26,
   "metadata": {},
   "outputs": [
    {
     "data": {
      "text/plain": [
       "array([[214.10625612, 214.21923111, 214.32010323, ..., 216.23542761,\n",
       "        215.87020557, 215.79531904],\n",
       "       [112.33431971, 112.09993219, 112.23756242, ..., 111.34221071,\n",
       "        110.98387892, 111.33755625],\n",
       "       [157.55768417, 157.79083822, 157.75240225, ..., 157.7993594 ,\n",
       "        157.54517435, 157.64824439]])"
      ]
     },
     "execution_count": 26,
     "metadata": {},
     "output_type": "execute_result"
    }
   ],
   "source": [
    "best_kmean.cluster_centers_"
   ]
  },
  {
   "cell_type": "code",
   "execution_count": 27,
   "metadata": {},
   "outputs": [
    {
     "data": {
      "text/plain": [
       "(5, 1024, 1024)"
      ]
     },
     "execution_count": 27,
     "metadata": {},
     "output_type": "execute_result"
    }
   ],
   "source": [
    "best_gmm.covariances_.shape"
   ]
  },
  {
   "cell_type": "code",
   "execution_count": 28,
   "metadata": {},
   "outputs": [],
   "source": [
    "contingency_matrix_gmm = metrics.cluster.contingency_matrix(y_train, best_gmm.predict(X_train))"
   ]
  },
  {
   "cell_type": "code",
   "execution_count": 29,
   "metadata": {},
   "outputs": [
    {
     "data": {
      "text/plain": [
       "0.6758436541302125"
      ]
     },
     "execution_count": 29,
     "metadata": {},
     "output_type": "execute_result"
    }
   ],
   "source": [
    "np.sum(np.amax(contingency_matrix_gmm, axis=0)) / np.sum(contingency_matrix_gmm) "
   ]
  },
  {
   "cell_type": "code",
   "execution_count": 119,
   "metadata": {},
   "outputs": [
    {
     "data": {
      "text/plain": [
       "array([0.89979239, 0.79806556, 0.7843708 , 0.55349629, 0.61096566])"
      ]
     },
     "execution_count": 119,
     "metadata": {},
     "output_type": "execute_result"
    }
   ],
   "source": [
    "np.amax(contingency_matrix_gmm, axis=0)/np.sum(contingency_matrix_gmm, axis=0)"
   ]
  },
  {
   "cell_type": "code",
   "execution_count": 31,
   "metadata": {},
   "outputs": [],
   "source": [
    "contingency_matrix_kmeans = metrics.cluster.contingency_matrix(y_train, best_kmean.predict(X_train))"
   ]
  },
  {
   "cell_type": "code",
   "execution_count": 121,
   "metadata": {},
   "outputs": [
    {
     "data": {
      "text/plain": [
       "array([[18182, 19699, 14395],\n",
       "       [ 4289, 12747, 18698]])"
      ]
     },
     "execution_count": 121,
     "metadata": {},
     "output_type": "execute_result"
    }
   ],
   "source": [
    "contingency_matrix_kmeans"
   ]
  },
  {
   "cell_type": "code",
   "execution_count": 32,
   "metadata": {},
   "outputs": [
    {
     "data": {
      "text/plain": [
       "0.6428701283945006"
      ]
     },
     "execution_count": 32,
     "metadata": {},
     "output_type": "execute_result"
    }
   ],
   "source": [
    "np.sum(np.amax(contingency_matrix_kmeans, axis=0)) / np.sum(contingency_matrix_kmeans) "
   ]
  },
  {
   "cell_type": "code",
   "execution_count": 33,
   "metadata": {},
   "outputs": [
    {
     "data": {
      "text/plain": [
       "array([0.80913177, 0.60713185, 0.56501375])"
      ]
     },
     "execution_count": 33,
     "metadata": {},
     "output_type": "execute_result"
    }
   ],
   "source": [
    "np.amax(contingency_matrix_kmeans, axis=0)/np.sum(contingency_matrix_kmeans, axis=0)"
   ]
  },
  {
   "cell_type": "code",
   "execution_count": 16,
   "metadata": {},
   "outputs": [
    {
     "name": "stderr",
     "output_type": "stream",
     "text": [
      "C:\\ProgramData\\Anaconda3\\lib\\site-packages\\sklearn\\utils\\validation.py:595: DataConversionWarning: Data with input dtype uint8 was converted to float64 by the scale function.\n",
      "  warnings.warn(msg, DataConversionWarning)\n"
     ]
    }
   ],
   "source": [
    "covar_matrix = PCA()\n",
    "scaled_X_train = scale(X_train)"
   ]
  },
  {
   "cell_type": "code",
   "execution_count": 17,
   "metadata": {},
   "outputs": [],
   "source": [
    "covar_matrix.fit(scaled_X_train)\n",
    "variance = covar_matrix.explained_variance_ratio_ #calculate variance ratios\n",
    "var=np.cumsum(np.round(covar_matrix.explained_variance_ratio_, decimals=3)*100)"
   ]
  },
  {
   "cell_type": "code",
   "execution_count": 18,
   "metadata": {},
   "outputs": [
    {
     "data": {
      "text/plain": [
       "[<matplotlib.lines.Line2D at 0x25b634f0940>]"
      ]
     },
     "execution_count": 18,
     "metadata": {},
     "output_type": "execute_result"
    },
    {
     "data": {
      "image/png": "[encoded data removed]",
      "text/plain": [
       "<Figure size 432x288 with 1 Axes>"
      ]
     },
     "metadata": {
      "needs_background": "light"
     },
     "output_type": "display_data"
    }
   ],
   "source": [
    "plt.ylabel('% Variance Explained')\n",
    "plt.xlabel('# of Features')\n",
    "plt.title('PCA Analysis')\n",
    "plt.ylim(45,90.5)\n",
    "plt.style.context('seaborn-whitegrid')\n",
    "\n",
    "\n",
    "plt.plot(var)"
   ]
  },
  {
   "cell_type": "code",
   "execution_count": 19,
   "metadata": {},
   "outputs": [],
   "source": [
    "covar_matrix = PCA(n_components = 178)"
   ]
  },
  {
   "cell_type": "code",
   "execution_count": 20,
   "metadata": {},
   "outputs": [],
   "source": [
    "start = time.time()\n",
    "covar_matrix.fit(scaled_X_train)\n",
    "end = time.time()\n",
    "pca_x_scaled_time = end - start\n",
    "covar_matrix.fit(scaled_X_train)\n",
    "variance = covar_matrix.explained_variance_ratio_ #calculate variance ratios\n",
    "\n",
    "var=np.cumsum(np.round(covar_matrix.explained_variance_ratio_, decimals=3)*100)"
   ]
  },
  {
   "cell_type": "code",
   "execution_count": 21,
   "metadata": {},
   "outputs": [
    {
     "data": {
      "text/plain": [
       "7.768227577209473"
      ]
     },
     "execution_count": 21,
     "metadata": {},
     "output_type": "execute_result"
    }
   ],
   "source": [
    "pca_x_scaled_time"
   ]
  },
  {
   "cell_type": "code",
   "execution_count": 22,
   "metadata": {},
   "outputs": [
    {
     "data": {
      "text/plain": [
       "[<matplotlib.lines.Line2D at 0x25b6355f588>]"
      ]
     },
     "execution_count": 22,
     "metadata": {},
     "output_type": "execute_result"
    },
    {
     "data": {
      "image/png": "[encoded data removed]",
      "text/plain": [
       "<Figure size 432x288 with 1 Axes>"
      ]
     },
     "metadata": {
      "needs_background": "light"
     },
     "output_type": "display_data"
    }
   ],
   "source": [
    "plt.ylabel('% Variance Explained')\n",
    "plt.xlabel('# of Features')\n",
    "plt.title('PCA Analysis')\n",
    "plt.ylim(45,90.5)\n",
    "plt.style.context('seaborn-whitegrid')\n",
    "\n",
    "\n",
    "plt.plot(var)"
   ]
  },
  {
   "cell_type": "code",
   "execution_count": 23,
   "metadata": {},
   "outputs": [
    {
     "data": {
      "text/plain": [
       "Text(0,0.5,'Frequency')"
      ]
     },
     "execution_count": 23,
     "metadata": {},
     "output_type": "execute_result"
    },
    {
     "data": {
      "image/png": "[encoded data removed]",
      "text/plain": [
       "<Figure size 432x288 with 1 Axes>"
      ]
     },
     "metadata": {
      "needs_background": "light"
     },
     "output_type": "display_data"
    }
   ],
   "source": [
    "plt.hist(covar_matrix.singular_values_)\n",
    "plt.xlabel(\"Singular Value\")\n",
    "plt.ylabel(\"Frequency\")"
   ]
  },
  {
   "cell_type": "code",
   "execution_count": 24,
   "metadata": {},
   "outputs": [
    {
     "data": {
      "text/plain": [
       "Text(0,0.5,'Absolute Kurtosis')"
      ]
     },
     "execution_count": 24,
     "metadata": {},
     "output_type": "execute_result"
    },
    {
     "data": {
      "image/png": "[encoded data removed]",
      "text/plain": [
       "<Figure size 432x288 with 1 Axes>"
      ]
     },
     "metadata": {
      "needs_background": "light"
     },
     "output_type": "display_data"
    }
   ],
   "source": [
    "plt.plot(range(0, 1024), abs(kurtosis(covar_matrix.components_, axis=0)))\n",
    "plt.xlabel(\"Component\")\n",
    "plt.ylabel(\"Absolute Kurtosis\")"
   ]
  },
  {
   "cell_type": "code",
   "execution_count": 25,
   "metadata": {},
   "outputs": [],
   "source": [
    "indep_matrix = FastICA(178, max_iter=1000)"
   ]
  },
  {
   "cell_type": "code",
   "execution_count": 26,
   "metadata": {},
   "outputs": [],
   "source": [
    "start = time.time()\n",
    "indep_matrix.fit(scaled_X_train)\n",
    "end = time.time()\n",
    "ica_x_scaled_time = end - start"
   ]
  },
  {
   "cell_type": "code",
   "execution_count": 27,
   "metadata": {},
   "outputs": [
    {
     "data": {
      "text/plain": [
       "array([[ 1.99011753e-05,  9.24198107e-06, -3.01875118e-05, ...,\n",
       "        -3.19234839e-05,  1.36850019e-05,  3.88742531e-05],\n",
       "       [ 6.38236052e-05,  7.15140843e-06, -5.28767527e-05, ...,\n",
       "         8.79764490e-05, -3.10819366e-05, -1.20036732e-04],\n",
       "       [ 2.41630619e-05,  1.67546879e-05,  1.24208916e-05, ...,\n",
       "        -5.70498617e-05, -6.80333635e-05, -5.75238683e-05],\n",
       "       ...,\n",
       "       [ 2.73448763e-05,  1.68139286e-05, -3.39724094e-05, ...,\n",
       "        -1.21921487e-05,  3.73204714e-05,  5.63122608e-05],\n",
       "       [-5.05995272e-05, -8.43119174e-06,  4.20155518e-05, ...,\n",
       "         2.28391576e-05,  1.80163520e-05, -8.41024342e-06],\n",
       "       [ 3.43231194e-05,  1.02255921e-05, -9.79788394e-06, ...,\n",
       "        -2.27930524e-05, -5.45236393e-05, -5.58793897e-05]])"
      ]
     },
     "execution_count": 27,
     "metadata": {},
     "output_type": "execute_result"
    }
   ],
   "source": [
    "indep_matrix.components_"
   ]
  },
  {
   "cell_type": "code",
   "execution_count": 28,
   "metadata": {},
   "outputs": [
    {
     "data": {
      "text/plain": [
       "Text(0,0.5,'Kurtosis')"
      ]
     },
     "execution_count": 28,
     "metadata": {},
     "output_type": "execute_result"
    },
    {
     "data": {
      "image/png": "[encoded data removed]",
      "text/plain": [
       "<Figure size 432x288 with 1 Axes>"
      ]
     },
     "metadata": {
      "needs_background": "light"
     },
     "output_type": "display_data"
    }
   ],
   "source": [
    "plt.plot(range(0, 1024), abs(kurtosis(indep_matrix.components_)))\n",
    "plt.xlabel(\"Component\")\n",
    "plt.ylabel(\"Kurtosis\")"
   ]
  },
  {
   "cell_type": "code",
   "execution_count": 47,
   "metadata": {},
   "outputs": [],
   "source": [
    "pca_transform = covar_matrix.transform(scaled_X_train);\n",
    "pca_reconstruct = covar_matrix.inverse_transform(pca_transform)"
   ]
  },
  {
   "cell_type": "code",
   "execution_count": 48,
   "metadata": {},
   "outputs": [],
   "source": [
    "ica_transform = indep_matrix.transform(scaled_X_train);\n",
    "ica_reconstruct = indep_matrix.inverse_transform(ica_transform)"
   ]
  },
  {
   "cell_type": "code",
   "execution_count": 49,
   "metadata": {},
   "outputs": [],
   "source": [
    "loss_pca = ((scaled_X_train - pca_reconstruct) ** 2).mean()"
   ]
  },
  {
   "cell_type": "code",
   "execution_count": 50,
   "metadata": {},
   "outputs": [],
   "source": [
    "loss_ica = ((scaled_X_train - ica_reconstruct) ** 2).mean()"
   ]
  },
  {
   "cell_type": "code",
   "execution_count": 51,
   "metadata": {},
   "outputs": [
    {
     "data": {
      "text/plain": [
       "0.15747987021175805"
      ]
     },
     "execution_count": 51,
     "metadata": {},
     "output_type": "execute_result"
    }
   ],
   "source": [
    "loss_pca"
   ]
  },
  {
   "cell_type": "code",
   "execution_count": 52,
   "metadata": {},
   "outputs": [
    {
     "data": {
      "text/plain": [
       "0.15694649505222522"
      ]
     },
     "execution_count": 52,
     "metadata": {},
     "output_type": "execute_result"
    }
   ],
   "source": [
    "loss_ica"
   ]
  },
  {
   "cell_type": "code",
   "execution_count": 53,
   "metadata": {},
   "outputs": [
    {
     "name": "stdout",
     "output_type": "stream",
     "text": [
      "COMPLETED 1\n",
      "COMPLETED 2\n",
      "COMPLETED 3\n",
      "COMPLETED 4\n",
      "COMPLETED 5\n",
      "COMPLETED 6\n",
      "COMPLETED 7\n",
      "COMPLETED 8\n",
      "COMPLETED 9\n",
      "COMPLETED 10\n"
     ]
    }
   ],
   "source": [
    "pca_kmeans_models, pca_kmeans_times = kmean_fitter(pca_transform)"
   ]
  },
  {
   "cell_type": "code",
   "execution_count": 54,
   "metadata": {},
   "outputs": [
    {
     "name": "stdout",
     "output_type": "stream",
     "text": [
      "completed 1\n",
      "completed 2\n",
      "completed 3\n",
      "completed 4\n",
      "completed 5\n",
      "completed 6\n",
      "completed 7\n",
      "completed 8\n",
      "completed 9\n",
      "completed 10\n"
     ]
    }
   ],
   "source": [
    "pca_cluster_kmeans, pca_sse_kmeans, pca_purity_kmeans, pca_homo_kmeans = kmean_stats(pca_transform, y_train, pca_kmeans_models)"
   ]
  },
  {
   "cell_type": "code",
   "execution_count": 55,
   "metadata": {},
   "outputs": [
    {
     "name": "stdout",
     "output_type": "stream",
     "text": [
      "COMPLETED 1\n",
      "COMPLETED 2\n",
      "COMPLETED 3\n",
      "COMPLETED 4\n",
      "COMPLETED 5\n"
     ]
    },
    {
     "name": "stderr",
     "output_type": "stream",
     "text": [
      "C:\\ProgramData\\Anaconda3\\lib\\site-packages\\sklearn\\mixture\\base.py:273: ConvergenceWarning: Initialization 1 did not converge. Try different init parameters, or increase max_iter, tol or check for degenerate data.\n",
      "  % (init + 1), ConvergenceWarning)\n"
     ]
    },
    {
     "name": "stdout",
     "output_type": "stream",
     "text": [
      "COMPLETED 6\n"
     ]
    },
    {
     "name": "stderr",
     "output_type": "stream",
     "text": [
      "C:\\ProgramData\\Anaconda3\\lib\\site-packages\\sklearn\\mixture\\base.py:273: ConvergenceWarning: Initialization 1 did not converge. Try different init parameters, or increase max_iter, tol or check for degenerate data.\n",
      "  % (init + 1), ConvergenceWarning)\n"
     ]
    },
    {
     "name": "stdout",
     "output_type": "stream",
     "text": [
      "COMPLETED 7\n"
     ]
    },
    {
     "name": "stderr",
     "output_type": "stream",
     "text": [
      "C:\\ProgramData\\Anaconda3\\lib\\site-packages\\sklearn\\mixture\\base.py:273: ConvergenceWarning: Initialization 1 did not converge. Try different init parameters, or increase max_iter, tol or check for degenerate data.\n",
      "  % (init + 1), ConvergenceWarning)\n"
     ]
    },
    {
     "name": "stdout",
     "output_type": "stream",
     "text": [
      "COMPLETED 8\n"
     ]
    },
    {
     "name": "stderr",
     "output_type": "stream",
     "text": [
      "C:\\ProgramData\\Anaconda3\\lib\\site-packages\\sklearn\\mixture\\base.py:273: ConvergenceWarning: Initialization 1 did not converge. Try different init parameters, or increase max_iter, tol or check for degenerate data.\n",
      "  % (init + 1), ConvergenceWarning)\n"
     ]
    },
    {
     "name": "stdout",
     "output_type": "stream",
     "text": [
      "COMPLETED 9\n"
     ]
    },
    {
     "name": "stderr",
     "output_type": "stream",
     "text": [
      "C:\\ProgramData\\Anaconda3\\lib\\site-packages\\sklearn\\mixture\\base.py:273: ConvergenceWarning: Initialization 1 did not converge. Try different init parameters, or increase max_iter, tol or check for degenerate data.\n",
      "  % (init + 1), ConvergenceWarning)\n"
     ]
    },
    {
     "name": "stdout",
     "output_type": "stream",
     "text": [
      "COMPLETED 10\n"
     ]
    }
   ],
   "source": [
    "pca_gmm_models, pca_gmm_times = gmm_fitter(pca_transform)"
   ]
  },
  {
   "cell_type": "code",
   "execution_count": 56,
   "metadata": {
    "scrolled": false
   },
   "outputs": [
    {
     "name": "stdout",
     "output_type": "stream",
     "text": [
      "completed 1\n",
      "completed 2\n",
      "completed 3\n",
      "completed 4\n",
      "completed 5\n",
      "completed 6\n",
      "completed 7\n",
      "completed 8\n",
      "completed 9\n",
      "completed 10\n"
     ]
    }
   ],
   "source": [
    "pca_cluster_gmm, pca_homo_gmm, pca_purity_gmm = gmm_stats(pca_transform, y_train, pca_gmm_models)"
   ]
  },
  {
   "cell_type": "code",
   "execution_count": 57,
   "metadata": {},
   "outputs": [
    {
     "data": {
      "text/plain": [
       "[<matplotlib.lines.Line2D at 0x2e006c8f2e8>]"
      ]
     },
     "execution_count": 57,
     "metadata": {},
     "output_type": "execute_result"
    },
    {
     "data": {
      "image/png": "[encoded data removed]",
      "text/plain": [
       "<Figure size 432x288 with 1 Axes>"
      ]
     },
     "metadata": {
      "needs_background": "light"
     },
     "output_type": "display_data"
    }
   ],
   "source": [
    "plt.plot(pca_cluster_gmm, pca_homo_gmm)\n",
    "plt.plot(pca_cluster_kmeans, pca_homo_kmeans)"
   ]
  },
  {
   "cell_type": "code",
   "execution_count": 58,
   "metadata": {},
   "outputs": [
    {
     "data": {
      "text/plain": [
       "[<matplotlib.lines.Line2D at 0x2e006e2c240>]"
      ]
     },
     "execution_count": 58,
     "metadata": {},
     "output_type": "execute_result"
    },
    {
     "data": {
      "image/png": "[encoded data removed]",
      "text/plain": [
       "<Figure size 432x288 with 1 Axes>"
      ]
     },
     "metadata": {
      "needs_background": "light"
     },
     "output_type": "display_data"
    }
   ],
   "source": [
    "plt.plot(pca_cluster_gmm, pca_purity_gmm)\n",
    "plt.plot(pca_cluster_kmeans, pca_purity_kmeans)"
   ]
  },
  {
   "cell_type": "code",
   "execution_count": 59,
   "metadata": {},
   "outputs": [
    {
     "data": {
      "text/plain": [
       "[<matplotlib.lines.Line2D at 0x2e008fd49b0>]"
      ]
     },
     "execution_count": 59,
     "metadata": {},
     "output_type": "execute_result"
    },
    {
     "data": {
      "image/png": "[encoded data removed]",
      "text/plain": [
       "<Figure size 432x288 with 1 Axes>"
      ]
     },
     "metadata": {
      "needs_background": "light"
     },
     "output_type": "display_data"
    }
   ],
   "source": [
    "plt.plot(pca_cluster_gmm, pca_gmm_times)\n",
    "plt.plot(pca_cluster_kmeans, pca_kmeans_times)"
   ]
  },
  {
   "cell_type": "code",
   "execution_count": 60,
   "metadata": {
    "scrolled": true
   },
   "outputs": [
    {
     "name": "stdout",
     "output_type": "stream",
     "text": [
      "COMPLETED 1\n",
      "COMPLETED 2\n",
      "COMPLETED 3\n",
      "COMPLETED 4\n",
      "COMPLETED 5\n",
      "COMPLETED 6\n",
      "COMPLETED 7\n",
      "COMPLETED 8\n",
      "COMPLETED 9\n",
      "COMPLETED 10\n"
     ]
    }
   ],
   "source": [
    "ica_kmeans_models, ica_kmeans_times = kmean_fitter(ica_transform)"
   ]
  },
  {
   "cell_type": "code",
   "execution_count": 61,
   "metadata": {},
   "outputs": [
    {
     "name": "stdout",
     "output_type": "stream",
     "text": [
      "completed 1\n",
      "completed 2\n",
      "completed 3\n",
      "completed 4\n",
      "completed 5\n",
      "completed 6\n",
      "completed 7\n",
      "completed 8\n",
      "completed 9\n",
      "completed 10\n"
     ]
    }
   ],
   "source": [
    "ica_cluster_kmeans, ica_sse_kmeans, ica_purity_kmeans, ica_homo_kmeans = kmean_stats(ica_transform, y_train, ica_kmeans_models)"
   ]
  },
  {
   "cell_type": "code",
   "execution_count": 62,
   "metadata": {},
   "outputs": [
    {
     "name": "stdout",
     "output_type": "stream",
     "text": [
      "COMPLETED 1\n",
      "COMPLETED 2\n",
      "COMPLETED 3\n",
      "COMPLETED 4\n",
      "COMPLETED 5\n",
      "COMPLETED 6\n",
      "COMPLETED 7\n",
      "COMPLETED 8\n",
      "COMPLETED 9\n",
      "COMPLETED 10\n"
     ]
    }
   ],
   "source": [
    "ica_gmm_models, ica_gmm_times = gmm_fitter(ica_transform)"
   ]
  },
  {
   "cell_type": "code",
   "execution_count": 63,
   "metadata": {
    "scrolled": true
   },
   "outputs": [
    {
     "name": "stdout",
     "output_type": "stream",
     "text": [
      "completed 1\n",
      "completed 2\n",
      "completed 3\n",
      "completed 4\n",
      "completed 5\n",
      "completed 6\n",
      "completed 7\n",
      "completed 8\n",
      "completed 9\n",
      "completed 10\n"
     ]
    }
   ],
   "source": [
    "ica_cluster_gmm, ica_homo_gmm, ica_purity_gmm = gmm_stats(ica_transform, y_train, ica_gmm_models)"
   ]
  },
  {
   "cell_type": "code",
   "execution_count": 64,
   "metadata": {},
   "outputs": [
    {
     "data": {
      "text/plain": [
       "[<matplotlib.lines.Line2D at 0x2e00904a128>]"
      ]
     },
     "execution_count": 64,
     "metadata": {},
     "output_type": "execute_result"
    },
    {
     "data": {
      "image/png": "[encoded data removed]",
      "text/plain": [
       "<Figure size 432x288 with 1 Axes>"
      ]
     },
     "metadata": {
      "needs_background": "light"
     },
     "output_type": "display_data"
    }
   ],
   "source": [
    "plt.plot(ica_cluster_gmm, ica_homo_gmm)\n",
    "plt.plot(ica_cluster_kmeans, ica_homo_kmeans)"
   ]
  },
  {
   "cell_type": "code",
   "execution_count": 65,
   "metadata": {},
   "outputs": [
    {
     "data": {
      "text/plain": [
       "[<matplotlib.lines.Line2D at 0x2e00902c438>]"
      ]
     },
     "execution_count": 65,
     "metadata": {},
     "output_type": "execute_result"
    },
    {
     "data": {
      "image/png": "[encoded data removed]",
      "text/plain": [
       "<Figure size 432x288 with 1 Axes>"
      ]
     },
     "metadata": {
      "needs_background": "light"
     },
     "output_type": "display_data"
    }
   ],
   "source": [
    "plt.plot(ica_cluster_gmm, ica_purity_gmm)\n",
    "plt.plot(ica_cluster_kmeans, ica_purity_kmeans)"
   ]
  },
  {
   "cell_type": "code",
   "execution_count": 66,
   "metadata": {},
   "outputs": [],
   "source": [
    "def get_best_rp(X_scaled):\n",
    "    best_rp = None\n",
    "    best_rp_loss = float(\"inf\")\n",
    "    loss_scores = []\n",
    "    times = []\n",
    "    for i in range(0, 200):\n",
    "        rp = GaussianRandomProjection(n_components=178)\n",
    "        start = time.time()\n",
    "        rp.fit(X_scaled)\n",
    "        end = time.time()\n",
    "        times.append(end - start)\n",
    "        rp_reconstruct = np.dot(rp.transform(X_scaled), rp.components_) + X_scaled.mean()\n",
    "        rp_loss = ((X_scaled - rp_reconstruct ** 2)).mean().mean()\n",
    "        loss_scores.append(abs(rp_loss))\n",
    "        if abs(rp_loss) < best_rp_loss:\n",
    "            best_rp_loss = abs(rp_loss)\n",
    "            best_rp = rp\n",
    "    \n",
    "    return best_rp, best_rp_loss, loss_scores, times"
   ]
  },
  {
   "cell_type": "code",
   "execution_count": 67,
   "metadata": {},
   "outputs": [],
   "source": [
    "best_rp, best_rp_loss, loss_scores, rp_times = get_best_rp(scaled_X_train)"
   ]
  },
  {
   "cell_type": "code",
   "execution_count": 140,
   "metadata": {},
   "outputs": [
    {
     "data": {
      "text/plain": [
       "Text(0,0.5,'Frequency')"
      ]
     },
     "execution_count": 140,
     "metadata": {},
     "output_type": "execute_result"
    },
    {
     "data": {
      "image/png": "[encoded data removed]",
      "text/plain": [
       "<Figure size 432x288 with 1 Axes>"
      ]
     },
     "metadata": {
      "needs_background": "light"
     },
     "output_type": "display_data"
    }
   ],
   "source": [
    "plt.hist(loss_scores)\n",
    "plt.xlabel(\"Loss (MSE)\")\n",
    "plt.ylabel(\"Frequency\")"
   ]
  },
  {
   "cell_type": "code",
   "execution_count": 69,
   "metadata": {},
   "outputs": [
    {
     "data": {
      "text/plain": [
       "5.5665091119197525"
      ]
     },
     "execution_count": 69,
     "metadata": {},
     "output_type": "execute_result"
    }
   ],
   "source": [
    "best_rp_loss"
   ]
  },
  {
   "cell_type": "code",
   "execution_count": 70,
   "metadata": {},
   "outputs": [],
   "source": [
    "rp_transform = best_rp.transform(scaled_X_train);\n",
    "rp_reconstruct = np.dot(best_rp.transform(scaled_X_train), best_rp.components_) + scaled_X_train.mean()"
   ]
  },
  {
   "cell_type": "code",
   "execution_count": 71,
   "metadata": {},
   "outputs": [
    {
     "name": "stdout",
     "output_type": "stream",
     "text": [
      "COMPLETED 1\n",
      "COMPLETED 2\n",
      "COMPLETED 3\n",
      "COMPLETED 4\n",
      "COMPLETED 5\n",
      "COMPLETED 6\n",
      "COMPLETED 7\n",
      "COMPLETED 8\n",
      "COMPLETED 9\n",
      "COMPLETED 10\n"
     ]
    }
   ],
   "source": [
    "rp_kmeans_models, rp_kmeans_times = kmean_fitter(rp_transform)"
   ]
  },
  {
   "cell_type": "code",
   "execution_count": 181,
   "metadata": {},
   "outputs": [
    {
     "data": {
      "text/plain": [
       "0.39093398650487265"
      ]
     },
     "execution_count": 181,
     "metadata": {},
     "output_type": "execute_result"
    }
   ],
   "source": [
    "sum(rp_times)/60"
   ]
  },
  {
   "cell_type": "code",
   "execution_count": 72,
   "metadata": {},
   "outputs": [
    {
     "name": "stdout",
     "output_type": "stream",
     "text": [
      "completed 1\n",
      "completed 2\n",
      "completed 3\n",
      "completed 4\n",
      "completed 5\n",
      "completed 6\n",
      "completed 7\n",
      "completed 8\n",
      "completed 9\n",
      "completed 10\n"
     ]
    }
   ],
   "source": [
    "rp_cluster_kmeans, rp_sse_kmeans, rp_purity_kmeans, rp_homo_kmeans = kmean_stats(rp_transform, y_train, rp_kmeans_models)"
   ]
  },
  {
   "cell_type": "code",
   "execution_count": 73,
   "metadata": {},
   "outputs": [
    {
     "name": "stdout",
     "output_type": "stream",
     "text": [
      "COMPLETED 1\n",
      "COMPLETED 2\n",
      "COMPLETED 3\n",
      "COMPLETED 4\n",
      "COMPLETED 5\n"
     ]
    },
    {
     "name": "stderr",
     "output_type": "stream",
     "text": [
      "C:\\ProgramData\\Anaconda3\\lib\\site-packages\\sklearn\\mixture\\base.py:273: ConvergenceWarning: Initialization 1 did not converge. Try different init parameters, or increase max_iter, tol or check for degenerate data.\n",
      "  % (init + 1), ConvergenceWarning)\n"
     ]
    },
    {
     "name": "stdout",
     "output_type": "stream",
     "text": [
      "COMPLETED 6\n"
     ]
    },
    {
     "name": "stderr",
     "output_type": "stream",
     "text": [
      "C:\\ProgramData\\Anaconda3\\lib\\site-packages\\sklearn\\mixture\\base.py:273: ConvergenceWarning: Initialization 1 did not converge. Try different init parameters, or increase max_iter, tol or check for degenerate data.\n",
      "  % (init + 1), ConvergenceWarning)\n"
     ]
    },
    {
     "name": "stdout",
     "output_type": "stream",
     "text": [
      "COMPLETED 7\n"
     ]
    },
    {
     "name": "stderr",
     "output_type": "stream",
     "text": [
      "C:\\ProgramData\\Anaconda3\\lib\\site-packages\\sklearn\\mixture\\base.py:273: ConvergenceWarning: Initialization 1 did not converge. Try different init parameters, or increase max_iter, tol or check for degenerate data.\n",
      "  % (init + 1), ConvergenceWarning)\n"
     ]
    },
    {
     "name": "stdout",
     "output_type": "stream",
     "text": [
      "COMPLETED 8\n"
     ]
    },
    {
     "name": "stderr",
     "output_type": "stream",
     "text": [
      "C:\\ProgramData\\Anaconda3\\lib\\site-packages\\sklearn\\mixture\\base.py:273: ConvergenceWarning: Initialization 1 did not converge. Try different init parameters, or increase max_iter, tol or check for degenerate data.\n",
      "  % (init + 1), ConvergenceWarning)\n"
     ]
    },
    {
     "name": "stdout",
     "output_type": "stream",
     "text": [
      "COMPLETED 9\n"
     ]
    },
    {
     "name": "stderr",
     "output_type": "stream",
     "text": [
      "C:\\ProgramData\\Anaconda3\\lib\\site-packages\\sklearn\\mixture\\base.py:273: ConvergenceWarning: Initialization 1 did not converge. Try different init parameters, or increase max_iter, tol or check for degenerate data.\n",
      "  % (init + 1), ConvergenceWarning)\n"
     ]
    },
    {
     "name": "stdout",
     "output_type": "stream",
     "text": [
      "COMPLETED 10\n"
     ]
    }
   ],
   "source": [
    "rp_gmm_models, rp_gmm_times = gmm_fitter(rp_transform)"
   ]
  },
  {
   "cell_type": "code",
   "execution_count": 74,
   "metadata": {},
   "outputs": [
    {
     "name": "stdout",
     "output_type": "stream",
     "text": [
      "completed 1\n",
      "completed 2\n",
      "completed 3\n",
      "completed 4\n",
      "completed 5\n",
      "completed 6\n",
      "completed 7\n",
      "completed 8\n",
      "completed 9\n",
      "completed 10\n"
     ]
    }
   ],
   "source": [
    "rp_cluster_gmm, rp_homo_gmm, rp_purity_gmm = gmm_stats(rp_transform, y_train, rp_gmm_models)"
   ]
  },
  {
   "cell_type": "code",
   "execution_count": 75,
   "metadata": {},
   "outputs": [
    {
     "data": {
      "text/plain": [
       "[<matplotlib.lines.Line2D at 0x2e0107f6da0>]"
      ]
     },
     "execution_count": 75,
     "metadata": {},
     "output_type": "execute_result"
    },
    {
     "data": {
      "image/png": "[encoded data removed]",
      "text/plain": [
       "<Figure size 432x288 with 1 Axes>"
      ]
     },
     "metadata": {
      "needs_background": "light"
     },
     "output_type": "display_data"
    }
   ],
   "source": [
    "plt.plot(rp_cluster_gmm, rp_homo_gmm)\n",
    "plt.plot(rp_cluster_kmeans, rp_homo_kmeans)"
   ]
  },
  {
   "cell_type": "code",
   "execution_count": 76,
   "metadata": {},
   "outputs": [],
   "source": [
    "def get_autoencoder():  \n",
    "    input_img = Input(shape=(32, 32, 1))  # adapt this if using `channels_first` image data format\n",
    "\n",
    "    x = Conv2D(16, (3, 3), activation='relu', padding='same')(input_img)\n",
    "    x = MaxPooling2D((2, 2), padding='same')(x)\n",
    "    x = Conv2D(12, (3, 3), activation='relu', padding='same')(x)\n",
    "    x = MaxPooling2D((2, 2), padding='same')(x)\n",
    "    x = Conv2D(12, (3, 3), activation='relu', padding='same')(x)\n",
    "    encoded = MaxPooling2D((2, 2), padding='same')(x)\n",
    "\n",
    "    # at this point the representation is (4, 4, 8) i.e. 128-dimensional\n",
    "\n",
    "    x = Conv2D(12, (3, 3), activation='relu', padding='same')(encoded)\n",
    "    x = UpSampling2D((2, 2))(x)\n",
    "    x = Conv2D(12, (3, 3), activation='relu', padding='same')(x)\n",
    "    x = UpSampling2D((2, 2))(x)\n",
    "    x = Conv2D(16, (3, 3), activation='relu', padding=\"same\")(x)\n",
    "    x = UpSampling2D((2, 2))(x)\n",
    "    decoded = Conv2D(1, (3, 3), activation='sigmoid', padding='same')(x)\n",
    "\n",
    "    autoencoder = Model(input_img, decoded)\n",
    "    optimizer = Adam(lr=.0005)\n",
    "    autoencoder.compile(optimizer=optimizer, loss='mse')\n",
    "        \n",
    "    # this model maps an input to its encoded representation\n",
    "    encoder = Model(input_img, encoded)\n",
    "    \n",
    "    return autoencoder, encoder;"
   ]
  },
  {
   "cell_type": "code",
   "execution_count": 77,
   "metadata": {},
   "outputs": [],
   "source": [
    "autoencoder, encoder = get_autoencoder()"
   ]
  },
  {
   "cell_type": "code",
   "execution_count": 78,
   "metadata": {},
   "outputs": [
    {
     "name": "stdout",
     "output_type": "stream",
     "text": [
      "_________________________________________________________________\n",
      "Layer (type)                 Output Shape              Param #   \n",
      "=================================================================\n",
      "input_1 (InputLayer)         (None, 32, 32, 1)         0         \n",
      "_________________________________________________________________\n",
      "conv2d_1 (Conv2D)            (None, 32, 32, 16)        160       \n",
      "_________________________________________________________________\n",
      "max_pooling2d_1 (MaxPooling2 (None, 16, 16, 16)        0         \n",
      "_________________________________________________________________\n",
      "conv2d_2 (Conv2D)            (None, 16, 16, 12)        1740      \n",
      "_________________________________________________________________\n",
      "max_pooling2d_2 (MaxPooling2 (None, 8, 8, 12)          0         \n",
      "_________________________________________________________________\n",
      "conv2d_3 (Conv2D)            (None, 8, 8, 12)          1308      \n",
      "_________________________________________________________________\n",
      "max_pooling2d_3 (MaxPooling2 (None, 4, 4, 12)          0         \n",
      "_________________________________________________________________\n",
      "conv2d_4 (Conv2D)            (None, 4, 4, 12)          1308      \n",
      "_________________________________________________________________\n",
      "up_sampling2d_1 (UpSampling2 (None, 8, 8, 12)          0         \n",
      "_________________________________________________________________\n",
      "conv2d_5 (Conv2D)            (None, 8, 8, 12)          1308      \n",
      "_________________________________________________________________\n",
      "up_sampling2d_2 (UpSampling2 (None, 16, 16, 12)        0         \n",
      "_________________________________________________________________\n",
      "conv2d_6 (Conv2D)            (None, 16, 16, 16)        1744      \n",
      "_________________________________________________________________\n",
      "up_sampling2d_3 (UpSampling2 (None, 32, 32, 16)        0         \n",
      "_________________________________________________________________\n",
      "conv2d_7 (Conv2D)            (None, 32, 32, 1)         145       \n",
      "=================================================================\n",
      "Total params: 7,713\n",
      "Trainable params: 7,713\n",
      "Non-trainable params: 0\n",
      "_________________________________________________________________\n"
     ]
    }
   ],
   "source": [
    "autoencoder.summary()"
   ]
  },
  {
   "cell_type": "code",
   "execution_count": 79,
   "metadata": {},
   "outputs": [],
   "source": [
    "reshaped_scaled_X_train = scaled_X_train.reshape(len(scaled_X_train), 32, 32, 1)"
   ]
  },
  {
   "cell_type": "code",
   "execution_count": 80,
   "metadata": {},
   "outputs": [
    {
     "data": {
      "application/vnd.jupyter.widget-view+json": {
       "model_id": "5d4a22f7d77b4e3bbc9fa7b2c7dc2e31",
       "version_major": 2,
       "version_minor": 0
      },
      "text/plain": [
       "HBox(children=(IntProgress(value=0, description='Training', max=50, style=ProgressStyle(description_width='ini…"
      ]
     },
     "metadata": {},
     "output_type": "display_data"
    },
    {
     "name": "stdout",
     "output_type": "stream",
     "text": [
      "Epoch 1/50\n"
     ]
    },
    {
     "data": {
      "application/vnd.jupyter.widget-view+json": {
       "model_id": "",
       "version_major": 2,
       "version_minor": 0
      },
      "text/plain": [
       "HBox(children=(IntProgress(value=0, description='Epoch 0', max=88010, style=ProgressStyle(description_width='i…"
      ]
     },
     "metadata": {},
     "output_type": "display_data"
    },
    {
     "name": "stdout",
     "output_type": "stream",
     "text": [
      " - 22s - loss: 0.6889\n",
      "Epoch 2/50\n"
     ]
    },
    {
     "data": {
      "application/vnd.jupyter.widget-view+json": {
       "model_id": "",
       "version_major": 2,
       "version_minor": 0
      },
      "text/plain": [
       "HBox(children=(IntProgress(value=0, description='Epoch 1', max=88010, style=ProgressStyle(description_width='i…"
      ]
     },
     "metadata": {},
     "output_type": "display_data"
    },
    {
     "name": "stdout",
     "output_type": "stream",
     "text": [
      " - 20s - loss: 0.6631\n",
      "Epoch 3/50\n"
     ]
    },
    {
     "data": {
      "application/vnd.jupyter.widget-view+json": {
       "model_id": "",
       "version_major": 2,
       "version_minor": 0
      },
      "text/plain": [
       "HBox(children=(IntProgress(value=0, description='Epoch 2', max=88010, style=ProgressStyle(description_width='i…"
      ]
     },
     "metadata": {},
     "output_type": "display_data"
    },
    {
     "name": "stdout",
     "output_type": "stream",
     "text": [
      " - 20s - loss: 0.6577\n",
      "Epoch 4/50\n"
     ]
    },
    {
     "data": {
      "application/vnd.jupyter.widget-view+json": {
       "model_id": "",
       "version_major": 2,
       "version_minor": 0
      },
      "text/plain": [
       "HBox(children=(IntProgress(value=0, description='Epoch 3', max=88010, style=ProgressStyle(description_width='i…"
      ]
     },
     "metadata": {},
     "output_type": "display_data"
    },
    {
     "name": "stdout",
     "output_type": "stream",
     "text": [
      " - 20s - loss: 0.6545\n",
      "Epoch 5/50\n"
     ]
    },
    {
     "data": {
      "application/vnd.jupyter.widget-view+json": {
       "model_id": "",
       "version_major": 2,
       "version_minor": 0
      },
      "text/plain": [
       "HBox(children=(IntProgress(value=0, description='Epoch 4', max=88010, style=ProgressStyle(description_width='i…"
      ]
     },
     "metadata": {},
     "output_type": "display_data"
    },
    {
     "name": "stdout",
     "output_type": "stream",
     "text": [
      " - 20s - loss: 0.6524\n",
      "Epoch 6/50\n"
     ]
    },
    {
     "data": {
      "application/vnd.jupyter.widget-view+json": {
       "model_id": "",
       "version_major": 2,
       "version_minor": 0
      },
      "text/plain": [
       "HBox(children=(IntProgress(value=0, description='Epoch 5', max=88010, style=ProgressStyle(description_width='i…"
      ]
     },
     "metadata": {},
     "output_type": "display_data"
    },
    {
     "name": "stdout",
     "output_type": "stream",
     "text": [
      " - 20s - loss: 0.6509\n",
      "Epoch 7/50\n"
     ]
    },
    {
     "data": {
      "application/vnd.jupyter.widget-view+json": {
       "model_id": "",
       "version_major": 2,
       "version_minor": 0
      },
      "text/plain": [
       "HBox(children=(IntProgress(value=0, description='Epoch 6', max=88010, style=ProgressStyle(description_width='i…"
      ]
     },
     "metadata": {},
     "output_type": "display_data"
    },
    {
     "name": "stdout",
     "output_type": "stream",
     "text": [
      " - 20s - loss: 0.6499\n",
      "Epoch 8/50\n"
     ]
    },
    {
     "data": {
      "application/vnd.jupyter.widget-view+json": {
       "model_id": "",
       "version_major": 2,
       "version_minor": 0
      },
      "text/plain": [
       "HBox(children=(IntProgress(value=0, description='Epoch 7', max=88010, style=ProgressStyle(description_width='i…"
      ]
     },
     "metadata": {},
     "output_type": "display_data"
    },
    {
     "name": "stdout",
     "output_type": "stream",
     "text": [
      " - 20s - loss: 0.6491\n",
      "Epoch 9/50\n"
     ]
    },
    {
     "data": {
      "application/vnd.jupyter.widget-view+json": {
       "model_id": "",
       "version_major": 2,
       "version_minor": 0
      },
      "text/plain": [
       "HBox(children=(IntProgress(value=0, description='Epoch 8', max=88010, style=ProgressStyle(description_width='i…"
      ]
     },
     "metadata": {},
     "output_type": "display_data"
    },
    {
     "name": "stdout",
     "output_type": "stream",
     "text": [
      " - 20s - loss: 0.6483\n",
      "Epoch 10/50\n"
     ]
    },
    {
     "data": {
      "application/vnd.jupyter.widget-view+json": {
       "model_id": "",
       "version_major": 2,
       "version_minor": 0
      },
      "text/plain": [
       "HBox(children=(IntProgress(value=0, description='Epoch 9', max=88010, style=ProgressStyle(description_width='i…"
      ]
     },
     "metadata": {},
     "output_type": "display_data"
    },
    {
     "name": "stdout",
     "output_type": "stream",
     "text": [
      " - 20s - loss: 0.6477\n",
      "Epoch 11/50\n"
     ]
    },
    {
     "data": {
      "application/vnd.jupyter.widget-view+json": {
       "model_id": "",
       "version_major": 2,
       "version_minor": 0
      },
      "text/plain": [
       "HBox(children=(IntProgress(value=0, description='Epoch 10', max=88010, style=ProgressStyle(description_width='…"
      ]
     },
     "metadata": {},
     "output_type": "display_data"
    },
    {
     "name": "stdout",
     "output_type": "stream",
     "text": [
      " - 20s - loss: 0.6471\n",
      "Epoch 12/50\n"
     ]
    },
    {
     "data": {
      "application/vnd.jupyter.widget-view+json": {
       "model_id": "",
       "version_major": 2,
       "version_minor": 0
      },
      "text/plain": [
       "HBox(children=(IntProgress(value=0, description='Epoch 11', max=88010, style=ProgressStyle(description_width='…"
      ]
     },
     "metadata": {},
     "output_type": "display_data"
    },
    {
     "name": "stdout",
     "output_type": "stream",
     "text": [
      " - 20s - loss: 0.6465\n",
      "Epoch 13/50\n"
     ]
    },
    {
     "data": {
      "application/vnd.jupyter.widget-view+json": {
       "model_id": "",
       "version_major": 2,
       "version_minor": 0
      },
      "text/plain": [
       "HBox(children=(IntProgress(value=0, description='Epoch 12', max=88010, style=ProgressStyle(description_width='…"
      ]
     },
     "metadata": {},
     "output_type": "display_data"
    },
    {
     "name": "stdout",
     "output_type": "stream",
     "text": [
      " - 20s - loss: 0.6460\n",
      "Epoch 14/50\n"
     ]
    },
    {
     "data": {
      "application/vnd.jupyter.widget-view+json": {
       "model_id": "",
       "version_major": 2,
       "version_minor": 0
      },
      "text/plain": [
       "HBox(children=(IntProgress(value=0, description='Epoch 13', max=88010, style=ProgressStyle(description_width='…"
      ]
     },
     "metadata": {},
     "output_type": "display_data"
    },
    {
     "name": "stdout",
     "output_type": "stream",
     "text": [
      " - 20s - loss: 0.6456\n",
      "Epoch 15/50\n"
     ]
    },
    {
     "data": {
      "application/vnd.jupyter.widget-view+json": {
       "model_id": "",
       "version_major": 2,
       "version_minor": 0
      },
      "text/plain": [
       "HBox(children=(IntProgress(value=0, description='Epoch 14', max=88010, style=ProgressStyle(description_width='…"
      ]
     },
     "metadata": {},
     "output_type": "display_data"
    },
    {
     "name": "stdout",
     "output_type": "stream",
     "text": [
      " - 20s - loss: 0.6451\n",
      "Epoch 16/50\n"
     ]
    },
    {
     "data": {
      "application/vnd.jupyter.widget-view+json": {
       "model_id": "",
       "version_major": 2,
       "version_minor": 0
      },
      "text/plain": [
       "HBox(children=(IntProgress(value=0, description='Epoch 15', max=88010, style=ProgressStyle(description_width='…"
      ]
     },
     "metadata": {},
     "output_type": "display_data"
    },
    {
     "name": "stdout",
     "output_type": "stream",
     "text": [
      " - 20s - loss: 0.6447\n",
      "Epoch 17/50\n"
     ]
    },
    {
     "data": {
      "application/vnd.jupyter.widget-view+json": {
       "model_id": "",
       "version_major": 2,
       "version_minor": 0
      },
      "text/plain": [
       "HBox(children=(IntProgress(value=0, description='Epoch 16', max=88010, style=ProgressStyle(description_width='…"
      ]
     },
     "metadata": {},
     "output_type": "display_data"
    },
    {
     "name": "stdout",
     "output_type": "stream",
     "text": [
      " - 20s - loss: 0.6443\n",
      "Epoch 18/50\n"
     ]
    },
    {
     "data": {
      "application/vnd.jupyter.widget-view+json": {
       "model_id": "",
       "version_major": 2,
       "version_minor": 0
      },
      "text/plain": [
       "HBox(children=(IntProgress(value=0, description='Epoch 17', max=88010, style=ProgressStyle(description_width='…"
      ]
     },
     "metadata": {},
     "output_type": "display_data"
    },
    {
     "name": "stdout",
     "output_type": "stream",
     "text": [
      " - 20s - loss: 0.6439\n",
      "Epoch 19/50\n"
     ]
    },
    {
     "data": {
      "application/vnd.jupyter.widget-view+json": {
       "model_id": "",
       "version_major": 2,
       "version_minor": 0
      },
      "text/plain": [
       "HBox(children=(IntProgress(value=0, description='Epoch 18', max=88010, style=ProgressStyle(description_width='…"
      ]
     },
     "metadata": {},
     "output_type": "display_data"
    },
    {
     "name": "stdout",
     "output_type": "stream",
     "text": [
      " - 20s - loss: 0.6435\n",
      "Epoch 20/50\n"
     ]
    },
    {
     "data": {
      "application/vnd.jupyter.widget-view+json": {
       "model_id": "",
       "version_major": 2,
       "version_minor": 0
      },
      "text/plain": [
       "HBox(children=(IntProgress(value=0, description='Epoch 19', max=88010, style=ProgressStyle(description_width='…"
      ]
     },
     "metadata": {},
     "output_type": "display_data"
    },
    {
     "name": "stdout",
     "output_type": "stream",
     "text": [
      " - 20s - loss: 0.6432\n",
      "Epoch 21/50\n"
     ]
    },
    {
     "data": {
      "application/vnd.jupyter.widget-view+json": {
       "model_id": "",
       "version_major": 2,
       "version_minor": 0
      },
      "text/plain": [
       "HBox(children=(IntProgress(value=0, description='Epoch 20', max=88010, style=ProgressStyle(description_width='…"
      ]
     },
     "metadata": {},
     "output_type": "display_data"
    },
    {
     "name": "stdout",
     "output_type": "stream",
     "text": [
      " - 20s - loss: 0.6429\n",
      "Epoch 22/50\n"
     ]
    },
    {
     "data": {
      "application/vnd.jupyter.widget-view+json": {
       "model_id": "",
       "version_major": 2,
       "version_minor": 0
      },
      "text/plain": [
       "HBox(children=(IntProgress(value=0, description='Epoch 21', max=88010, style=ProgressStyle(description_width='…"
      ]
     },
     "metadata": {},
     "output_type": "display_data"
    },
    {
     "name": "stdout",
     "output_type": "stream",
     "text": [
      " - 20s - loss: 0.6426\n",
      "Epoch 23/50\n"
     ]
    },
    {
     "data": {
      "application/vnd.jupyter.widget-view+json": {
       "model_id": "",
       "version_major": 2,
       "version_minor": 0
      },
      "text/plain": [
       "HBox(children=(IntProgress(value=0, description='Epoch 22', max=88010, style=ProgressStyle(description_width='…"
      ]
     },
     "metadata": {},
     "output_type": "display_data"
    },
    {
     "name": "stdout",
     "output_type": "stream",
     "text": [
      " - 20s - loss: 0.6423\n",
      "Epoch 24/50\n"
     ]
    },
    {
     "data": {
      "application/vnd.jupyter.widget-view+json": {
       "model_id": "",
       "version_major": 2,
       "version_minor": 0
      },
      "text/plain": [
       "HBox(children=(IntProgress(value=0, description='Epoch 23', max=88010, style=ProgressStyle(description_width='…"
      ]
     },
     "metadata": {},
     "output_type": "display_data"
    },
    {
     "name": "stdout",
     "output_type": "stream",
     "text": [
      " - 20s - loss: 0.6421\n",
      "Epoch 25/50\n"
     ]
    },
    {
     "data": {
      "application/vnd.jupyter.widget-view+json": {
       "model_id": "",
       "version_major": 2,
       "version_minor": 0
      },
      "text/plain": [
       "HBox(children=(IntProgress(value=0, description='Epoch 24', max=88010, style=ProgressStyle(description_width='…"
      ]
     },
     "metadata": {},
     "output_type": "display_data"
    },
    {
     "name": "stdout",
     "output_type": "stream",
     "text": [
      " - 20s - loss: 0.6418\n",
      "Epoch 26/50\n"
     ]
    },
    {
     "data": {
      "application/vnd.jupyter.widget-view+json": {
       "model_id": "",
       "version_major": 2,
       "version_minor": 0
      },
      "text/plain": [
       "HBox(children=(IntProgress(value=0, description='Epoch 25', max=88010, style=ProgressStyle(description_width='…"
      ]
     },
     "metadata": {},
     "output_type": "display_data"
    },
    {
     "name": "stdout",
     "output_type": "stream",
     "text": [
      " - 20s - loss: 0.6416\n",
      "Epoch 27/50\n"
     ]
    },
    {
     "data": {
      "application/vnd.jupyter.widget-view+json": {
       "model_id": "",
       "version_major": 2,
       "version_minor": 0
      },
      "text/plain": [
       "HBox(children=(IntProgress(value=0, description='Epoch 26', max=88010, style=ProgressStyle(description_width='…"
      ]
     },
     "metadata": {},
     "output_type": "display_data"
    },
    {
     "name": "stdout",
     "output_type": "stream",
     "text": [
      " - 20s - loss: 0.6413\n",
      "Epoch 28/50\n"
     ]
    },
    {
     "data": {
      "application/vnd.jupyter.widget-view+json": {
       "model_id": "",
       "version_major": 2,
       "version_minor": 0
      },
      "text/plain": [
       "HBox(children=(IntProgress(value=0, description='Epoch 27', max=88010, style=ProgressStyle(description_width='…"
      ]
     },
     "metadata": {},
     "output_type": "display_data"
    },
    {
     "name": "stdout",
     "output_type": "stream",
     "text": [
      " - 20s - loss: 0.6411\n",
      "Epoch 29/50\n"
     ]
    },
    {
     "data": {
      "application/vnd.jupyter.widget-view+json": {
       "model_id": "",
       "version_major": 2,
       "version_minor": 0
      },
      "text/plain": [
       "HBox(children=(IntProgress(value=0, description='Epoch 28', max=88010, style=ProgressStyle(description_width='…"
      ]
     },
     "metadata": {},
     "output_type": "display_data"
    },
    {
     "name": "stdout",
     "output_type": "stream",
     "text": [
      " - 20s - loss: 0.6409\n",
      "Epoch 30/50\n"
     ]
    },
    {
     "data": {
      "application/vnd.jupyter.widget-view+json": {
       "model_id": "",
       "version_major": 2,
       "version_minor": 0
      },
      "text/plain": [
       "HBox(children=(IntProgress(value=0, description='Epoch 29', max=88010, style=ProgressStyle(description_width='…"
      ]
     },
     "metadata": {},
     "output_type": "display_data"
    },
    {
     "name": "stdout",
     "output_type": "stream",
     "text": [
      " - 20s - loss: 0.6407\n",
      "Epoch 31/50\n"
     ]
    },
    {
     "data": {
      "application/vnd.jupyter.widget-view+json": {
       "model_id": "",
       "version_major": 2,
       "version_minor": 0
      },
      "text/plain": [
       "HBox(children=(IntProgress(value=0, description='Epoch 30', max=88010, style=ProgressStyle(description_width='…"
      ]
     },
     "metadata": {},
     "output_type": "display_data"
    },
    {
     "name": "stdout",
     "output_type": "stream",
     "text": [
      " - 20s - loss: 0.6405\n",
      "Epoch 32/50\n"
     ]
    },
    {
     "data": {
      "application/vnd.jupyter.widget-view+json": {
       "model_id": "",
       "version_major": 2,
       "version_minor": 0
      },
      "text/plain": [
       "HBox(children=(IntProgress(value=0, description='Epoch 31', max=88010, style=ProgressStyle(description_width='…"
      ]
     },
     "metadata": {},
     "output_type": "display_data"
    },
    {
     "name": "stdout",
     "output_type": "stream",
     "text": [
      " - 20s - loss: 0.6404\n",
      "Epoch 33/50\n"
     ]
    },
    {
     "data": {
      "application/vnd.jupyter.widget-view+json": {
       "model_id": "",
       "version_major": 2,
       "version_minor": 0
      },
      "text/plain": [
       "HBox(children=(IntProgress(value=0, description='Epoch 32', max=88010, style=ProgressStyle(description_width='…"
      ]
     },
     "metadata": {},
     "output_type": "display_data"
    },
    {
     "name": "stdout",
     "output_type": "stream",
     "text": [
      " - 20s - loss: 0.6402\n",
      "Epoch 34/50\n"
     ]
    },
    {
     "data": {
      "application/vnd.jupyter.widget-view+json": {
       "model_id": "",
       "version_major": 2,
       "version_minor": 0
      },
      "text/plain": [
       "HBox(children=(IntProgress(value=0, description='Epoch 33', max=88010, style=ProgressStyle(description_width='…"
      ]
     },
     "metadata": {},
     "output_type": "display_data"
    },
    {
     "name": "stdout",
     "output_type": "stream",
     "text": [
      " - 20s - loss: 0.6400\n",
      "Epoch 35/50\n"
     ]
    },
    {
     "data": {
      "application/vnd.jupyter.widget-view+json": {
       "model_id": "",
       "version_major": 2,
       "version_minor": 0
      },
      "text/plain": [
       "HBox(children=(IntProgress(value=0, description='Epoch 34', max=88010, style=ProgressStyle(description_width='…"
      ]
     },
     "metadata": {},
     "output_type": "display_data"
    },
    {
     "name": "stdout",
     "output_type": "stream",
     "text": [
      " - 20s - loss: 0.6399\n",
      "Epoch 36/50\n"
     ]
    },
    {
     "data": {
      "application/vnd.jupyter.widget-view+json": {
       "model_id": "",
       "version_major": 2,
       "version_minor": 0
      },
      "text/plain": [
       "HBox(children=(IntProgress(value=0, description='Epoch 35', max=88010, style=ProgressStyle(description_width='…"
      ]
     },
     "metadata": {},
     "output_type": "display_data"
    },
    {
     "name": "stdout",
     "output_type": "stream",
     "text": [
      " - 20s - loss: 0.6398\n",
      "Epoch 37/50\n"
     ]
    },
    {
     "data": {
      "application/vnd.jupyter.widget-view+json": {
       "model_id": "",
       "version_major": 2,
       "version_minor": 0
      },
      "text/plain": [
       "HBox(children=(IntProgress(value=0, description='Epoch 36', max=88010, style=ProgressStyle(description_width='…"
      ]
     },
     "metadata": {},
     "output_type": "display_data"
    },
    {
     "name": "stdout",
     "output_type": "stream",
     "text": [
      " - 20s - loss: 0.6397\n",
      "Epoch 38/50\n"
     ]
    },
    {
     "data": {
      "application/vnd.jupyter.widget-view+json": {
       "model_id": "",
       "version_major": 2,
       "version_minor": 0
      },
      "text/plain": [
       "HBox(children=(IntProgress(value=0, description='Epoch 37', max=88010, style=ProgressStyle(description_width='…"
      ]
     },
     "metadata": {},
     "output_type": "display_data"
    },
    {
     "name": "stdout",
     "output_type": "stream",
     "text": [
      " - 20s - loss: 0.6395\n",
      "Epoch 39/50\n"
     ]
    },
    {
     "data": {
      "application/vnd.jupyter.widget-view+json": {
       "model_id": "",
       "version_major": 2,
       "version_minor": 0
      },
      "text/plain": [
       "HBox(children=(IntProgress(value=0, description='Epoch 38', max=88010, style=ProgressStyle(description_width='…"
      ]
     },
     "metadata": {},
     "output_type": "display_data"
    },
    {
     "name": "stdout",
     "output_type": "stream",
     "text": [
      " - 20s - loss: 0.6395\n",
      "Epoch 40/50\n"
     ]
    },
    {
     "data": {
      "application/vnd.jupyter.widget-view+json": {
       "model_id": "",
       "version_major": 2,
       "version_minor": 0
      },
      "text/plain": [
       "HBox(children=(IntProgress(value=0, description='Epoch 39', max=88010, style=ProgressStyle(description_width='…"
      ]
     },
     "metadata": {},
     "output_type": "display_data"
    },
    {
     "name": "stdout",
     "output_type": "stream",
     "text": [
      " - 20s - loss: 0.6394\n",
      "Epoch 41/50\n"
     ]
    },
    {
     "data": {
      "application/vnd.jupyter.widget-view+json": {
       "model_id": "",
       "version_major": 2,
       "version_minor": 0
      },
      "text/plain": [
       "HBox(children=(IntProgress(value=0, description='Epoch 40', max=88010, style=ProgressStyle(description_width='…"
      ]
     },
     "metadata": {},
     "output_type": "display_data"
    },
    {
     "name": "stdout",
     "output_type": "stream",
     "text": [
      " - 20s - loss: 0.6393\n",
      "Epoch 42/50\n"
     ]
    },
    {
     "data": {
      "application/vnd.jupyter.widget-view+json": {
       "model_id": "",
       "version_major": 2,
       "version_minor": 0
      },
      "text/plain": [
       "HBox(children=(IntProgress(value=0, description='Epoch 41', max=88010, style=ProgressStyle(description_width='…"
      ]
     },
     "metadata": {},
     "output_type": "display_data"
    },
    {
     "name": "stdout",
     "output_type": "stream",
     "text": [
      " - 20s - loss: 0.6392\n",
      "Epoch 43/50\n"
     ]
    },
    {
     "data": {
      "application/vnd.jupyter.widget-view+json": {
       "model_id": "",
       "version_major": 2,
       "version_minor": 0
      },
      "text/plain": [
       "HBox(children=(IntProgress(value=0, description='Epoch 42', max=88010, style=ProgressStyle(description_width='…"
      ]
     },
     "metadata": {},
     "output_type": "display_data"
    },
    {
     "name": "stdout",
     "output_type": "stream",
     "text": [
      " - 20s - loss: 0.6391\n",
      "Epoch 44/50\n"
     ]
    },
    {
     "data": {
      "application/vnd.jupyter.widget-view+json": {
       "model_id": "",
       "version_major": 2,
       "version_minor": 0
      },
      "text/plain": [
       "HBox(children=(IntProgress(value=0, description='Epoch 43', max=88010, style=ProgressStyle(description_width='…"
      ]
     },
     "metadata": {},
     "output_type": "display_data"
    },
    {
     "name": "stdout",
     "output_type": "stream",
     "text": [
      " - 20s - loss: 0.6391\n",
      "Epoch 45/50\n"
     ]
    },
    {
     "data": {
      "application/vnd.jupyter.widget-view+json": {
       "model_id": "",
       "version_major": 2,
       "version_minor": 0
      },
      "text/plain": [
       "HBox(children=(IntProgress(value=0, description='Epoch 44', max=88010, style=ProgressStyle(description_width='…"
      ]
     },
     "metadata": {},
     "output_type": "display_data"
    },
    {
     "name": "stdout",
     "output_type": "stream",
     "text": [
      " - 20s - loss: 0.6390\n",
      "Epoch 46/50\n"
     ]
    },
    {
     "data": {
      "application/vnd.jupyter.widget-view+json": {
       "model_id": "",
       "version_major": 2,
       "version_minor": 0
      },
      "text/plain": [
       "HBox(children=(IntProgress(value=0, description='Epoch 45', max=88010, style=ProgressStyle(description_width='…"
      ]
     },
     "metadata": {},
     "output_type": "display_data"
    },
    {
     "name": "stdout",
     "output_type": "stream",
     "text": [
      " - 20s - loss: 0.6390\n",
      "Epoch 47/50\n"
     ]
    },
    {
     "data": {
      "application/vnd.jupyter.widget-view+json": {
       "model_id": "",
       "version_major": 2,
       "version_minor": 0
      },
      "text/plain": [
       "HBox(children=(IntProgress(value=0, description='Epoch 46', max=88010, style=ProgressStyle(description_width='…"
      ]
     },
     "metadata": {},
     "output_type": "display_data"
    },
    {
     "name": "stdout",
     "output_type": "stream",
     "text": [
      " - 20s - loss: 0.6389\n",
      "Epoch 48/50\n"
     ]
    },
    {
     "data": {
      "application/vnd.jupyter.widget-view+json": {
       "model_id": "",
       "version_major": 2,
       "version_minor": 0
      },
      "text/plain": [
       "HBox(children=(IntProgress(value=0, description='Epoch 47', max=88010, style=ProgressStyle(description_width='…"
      ]
     },
     "metadata": {},
     "output_type": "display_data"
    },
    {
     "name": "stdout",
     "output_type": "stream",
     "text": [
      " - 20s - loss: 0.6388\n",
      "Epoch 49/50\n"
     ]
    },
    {
     "data": {
      "application/vnd.jupyter.widget-view+json": {
       "model_id": "",
       "version_major": 2,
       "version_minor": 0
      },
      "text/plain": [
       "HBox(children=(IntProgress(value=0, description='Epoch 48', max=88010, style=ProgressStyle(description_width='…"
      ]
     },
     "metadata": {},
     "output_type": "display_data"
    },
    {
     "name": "stdout",
     "output_type": "stream",
     "text": [
      " - 20s - loss: 0.6388\n",
      "Epoch 50/50\n"
     ]
    },
    {
     "data": {
      "application/vnd.jupyter.widget-view+json": {
       "model_id": "",
       "version_major": 2,
       "version_minor": 0
      },
      "text/plain": [
       "HBox(children=(IntProgress(value=0, description='Epoch 49', max=88010, style=ProgressStyle(description_width='…"
      ]
     },
     "metadata": {},
     "output_type": "display_data"
    },
    {
     "name": "stdout",
     "output_type": "stream",
     "text": [
      " - 20s - loss: 0.6387\n",
      "\n"
     ]
    }
   ],
   "source": [
    "history = autoencoder.fit(reshaped_scaled_X_train, reshaped_scaled_X_train,\n",
    "                epochs=50, batch_size=32, \n",
    "                verbose=2, callbacks=[TQDMNotebookCallback()])"
   ]
  },
  {
   "cell_type": "code",
   "execution_count": 81,
   "metadata": {},
   "outputs": [],
   "source": [
    "encoder_transform_raw = encoder.predict(reshaped_scaled_X_train)"
   ]
  },
  {
   "cell_type": "code",
   "execution_count": 82,
   "metadata": {},
   "outputs": [],
   "source": [
    "encoder_transform = encoder_transform_raw.reshape(len(encoder_transform_raw), 192)"
   ]
  },
  {
   "cell_type": "code",
   "execution_count": 83,
   "metadata": {},
   "outputs": [
    {
     "name": "stdout",
     "output_type": "stream",
     "text": [
      "COMPLETED 1\n",
      "COMPLETED 2\n",
      "COMPLETED 3\n",
      "COMPLETED 4\n",
      "COMPLETED 5\n",
      "COMPLETED 6\n",
      "COMPLETED 7\n",
      "COMPLETED 8\n",
      "COMPLETED 9\n",
      "COMPLETED 10\n"
     ]
    }
   ],
   "source": [
    "encoder_kmeans_models, encoder_kmeans_times = kmean_fitter(encoder_transform)"
   ]
  },
  {
   "cell_type": "code",
   "execution_count": 84,
   "metadata": {},
   "outputs": [
    {
     "name": "stdout",
     "output_type": "stream",
     "text": [
      "completed 1\n",
      "completed 2\n",
      "completed 3\n",
      "completed 4\n",
      "completed 5\n",
      "completed 6\n",
      "completed 7\n",
      "completed 8\n",
      "completed 9\n",
      "completed 10\n"
     ]
    }
   ],
   "source": [
    "encoder_cluster_kmeans, encoder_sse_kmeans, encoder_purity_kmeans, encoder_homo_kmeans = kmean_stats(encoder_transform, y_train, encoder_kmeans_models)"
   ]
  },
  {
   "cell_type": "code",
   "execution_count": 85,
   "metadata": {},
   "outputs": [
    {
     "name": "stdout",
     "output_type": "stream",
     "text": [
      "COMPLETED 1\n",
      "COMPLETED 2\n",
      "COMPLETED 3\n",
      "COMPLETED 4\n"
     ]
    },
    {
     "name": "stderr",
     "output_type": "stream",
     "text": [
      "C:\\ProgramData\\Anaconda3\\lib\\site-packages\\sklearn\\mixture\\base.py:273: ConvergenceWarning: Initialization 1 did not converge. Try different init parameters, or increase max_iter, tol or check for degenerate data.\n",
      "  % (init + 1), ConvergenceWarning)\n"
     ]
    },
    {
     "name": "stdout",
     "output_type": "stream",
     "text": [
      "COMPLETED 5\n",
      "COMPLETED 6\n",
      "COMPLETED 7\n",
      "COMPLETED 8\n"
     ]
    },
    {
     "name": "stderr",
     "output_type": "stream",
     "text": [
      "C:\\ProgramData\\Anaconda3\\lib\\site-packages\\sklearn\\mixture\\base.py:273: ConvergenceWarning: Initialization 1 did not converge. Try different init parameters, or increase max_iter, tol or check for degenerate data.\n",
      "  % (init + 1), ConvergenceWarning)\n"
     ]
    },
    {
     "name": "stdout",
     "output_type": "stream",
     "text": [
      "COMPLETED 9\n"
     ]
    },
    {
     "name": "stderr",
     "output_type": "stream",
     "text": [
      "C:\\ProgramData\\Anaconda3\\lib\\site-packages\\sklearn\\mixture\\base.py:273: ConvergenceWarning: Initialization 1 did not converge. Try different init parameters, or increase max_iter, tol or check for degenerate data.\n",
      "  % (init + 1), ConvergenceWarning)\n"
     ]
    },
    {
     "name": "stdout",
     "output_type": "stream",
     "text": [
      "COMPLETED 10\n"
     ]
    }
   ],
   "source": [
    "encoder_gmm_models, encoder_gmm_times = gmm_fitter(encoder_transform)"
   ]
  },
  {
   "cell_type": "code",
   "execution_count": 86,
   "metadata": {},
   "outputs": [
    {
     "name": "stdout",
     "output_type": "stream",
     "text": [
      "completed 1\n",
      "completed 2\n",
      "completed 3\n",
      "completed 4\n",
      "completed 5\n",
      "completed 6\n",
      "completed 7\n",
      "completed 8\n",
      "completed 9\n",
      "completed 10\n"
     ]
    }
   ],
   "source": [
    "encoder_cluster_gmm, encoder_homo_gmm, encoder_purity_gmm = gmm_stats(encoder_transform, y_train, encoder_gmm_models)"
   ]
  },
  {
   "cell_type": "code",
   "execution_count": 87,
   "metadata": {},
   "outputs": [
    {
     "data": {
      "text/plain": [
       "[<matplotlib.lines.Line2D at 0x2e04edc6cc0>]"
      ]
     },
     "execution_count": 87,
     "metadata": {},
     "output_type": "execute_result"
    },
    {
     "data": {
      "image/png": "[encoded data removed]",
      "text/plain": [
       "<Figure size 432x288 with 1 Axes>"
      ]
     },
     "metadata": {
      "needs_background": "light"
     },
     "output_type": "display_data"
    }
   ],
   "source": [
    "plt.plot(encoder_cluster_gmm, encoder_homo_gmm)\n",
    "plt.plot(encoder_cluster_kmeans, encoder_homo_kmeans)"
   ]
  },
  {
   "cell_type": "code",
   "execution_count": 88,
   "metadata": {},
   "outputs": [
    {
     "data": {
      "text/plain": [
       "[<matplotlib.lines.Line2D at 0x2e0bd4b6048>]"
      ]
     },
     "execution_count": 88,
     "metadata": {},
     "output_type": "execute_result"
    },
    {
     "data": {
      "image/png": "[encoded data removed]",
      "text/plain": [
       "<Figure size 432x288 with 1 Axes>"
      ]
     },
     "metadata": {
      "needs_background": "light"
     },
     "output_type": "display_data"
    }
   ],
   "source": [
    "plt.plot(encoder_cluster_gmm, encoder_purity_gmm)\n",
    "plt.plot(encoder_cluster_kmeans, encoder_purity_kmeans)"
   ]
  },
  {
   "cell_type": "code",
   "execution_count": 116,
   "metadata": {},
   "outputs": [
    {
     "data": {
      "text/plain": [
       "<matplotlib.legend.Legend at 0x2e331c2be48>"
      ]
     },
     "execution_count": 116,
     "metadata": {},
     "output_type": "execute_result"
    },
    {
     "data": {
      "image/png": "[encoded data removed]",
      "text/plain": [
       "<Figure size 432x288 with 1 Axes>"
      ]
     },
     "metadata": {
      "needs_background": "light"
     },
     "output_type": "display_data"
    }
   ],
   "source": [
    "plt.plot(encoder_cluster_gmm, purity_gmm)\n",
    "plt.plot(encoder_cluster_gmm, pca_purity_gmm)\n",
    "plt.plot(encoder_cluster_gmm, ica_purity_gmm)\n",
    "plt.plot(encoder_cluster_gmm, rp_purity_gmm)\n",
    "plt.plot(encoder_cluster_gmm, encoder_purity_gmm)\n",
    "plt.ylim(.59, .71)\n",
    "plt.xlabel(\"Number of Clusters\")\n",
    "plt.ylabel(\"Purity Score\")\n",
    "plt.legend([\"Untouched\", \"PCA\", \"ICA\", \"Random Projection\", \"Autoencoder\"])"
   ]
  },
  {
   "cell_type": "code",
   "execution_count": 130,
   "metadata": {},
   "outputs": [
    {
     "name": "stdout",
     "output_type": "stream",
     "text": [
      "0.6428701283945006\n",
      "0.05280530381983992\n"
     ]
    }
   ],
   "source": [
    "print(purity_kmeans[2])\n",
    "print(homo_kmeans[2])"
   ]
  },
  {
   "cell_type": "code",
   "execution_count": 213,
   "metadata": {},
   "outputs": [
    {
     "name": "stdout",
     "output_type": "stream",
     "text": [
      "0.6388819452334962\n",
      "0.0476434045346606\n"
     ]
    }
   ],
   "source": [
    "print(encoder_purity_kmeans[8])\n",
    "print(encoder_homo_kmeans[8])"
   ]
  },
  {
   "cell_type": "code",
   "execution_count": 123,
   "metadata": {},
   "outputs": [
    {
     "data": {
      "text/plain": [
       "<matplotlib.legend.Legend at 0x2e333beda20>"
      ]
     },
     "execution_count": 123,
     "metadata": {},
     "output_type": "execute_result"
    },
    {
     "data": {
      "image/png": "[encoded data removed]",
      "text/plain": [
       "<Figure size 432x288 with 1 Axes>"
      ]
     },
     "metadata": {
      "needs_background": "light"
     },
     "output_type": "display_data"
    }
   ],
   "source": [
    "plt.plot(encoder_cluster_gmm, homo_gmm)\n",
    "plt.plot(encoder_cluster_gmm, pca_homo_gmm)\n",
    "plt.plot(encoder_cluster_gmm, ica_homo_gmm)\n",
    "plt.plot(encoder_cluster_gmm, rp_homo_gmm)\n",
    "plt.plot(encoder_cluster_gmm, encoder_homo_gmm)\n",
    "plt.xlabel(\"Number of Clusters\")\n",
    "plt.ylabel(\"V-Measure\")\n",
    "plt.ylim(0, .09)\n",
    "plt.legend([\"Untouched\", \"PCA\", \"ICA\", \"Random Projection\", \"Autoencoder\"])"
   ]
  },
  {
   "cell_type": "code",
   "execution_count": 117,
   "metadata": {},
   "outputs": [
    {
     "data": {
      "text/plain": [
       "<matplotlib.legend.Legend at 0x2e333813f98>"
      ]
     },
     "execution_count": 117,
     "metadata": {},
     "output_type": "execute_result"
    },
    {
     "data": {
      "image/png": "[encoded data removed]",
      "text/plain": [
       "<Figure size 432x288 with 1 Axes>"
      ]
     },
     "metadata": {
      "needs_background": "light"
     },
     "output_type": "display_data"
    }
   ],
   "source": [
    "plt.plot(encoder_cluster_kmeans, purity_kmeans)\n",
    "plt.plot(encoder_cluster_kmeans, pca_purity_kmeans)\n",
    "plt.plot(encoder_cluster_kmeans, ica_purity_kmeans)\n",
    "plt.plot(encoder_cluster_kmeans, rp_purity_kmeans)\n",
    "plt.plot(encoder_cluster_kmeans, encoder_purity_kmeans)\n",
    "plt.ylim(.59, .71)\n",
    "plt.xlabel(\"Number of Clusters\")\n",
    "plt.ylabel(\"Purity Score\")\n",
    "plt.legend([\"Untouched\", \"PCA\", \"ICA\", \"Random Projection\", \"Autoencoder\"])"
   ]
  },
  {
   "cell_type": "code",
   "execution_count": 204,
   "metadata": {},
   "outputs": [
    {
     "name": "stdout",
     "output_type": "stream",
     "text": [
      "0.6376320872628111\n",
      "0.047380766173842424\n"
     ]
    }
   ],
   "source": [
    "print(encoder_purity_kmeans[7])\n",
    "print(encoder_homo_kmeans[7])"
   ]
  },
  {
   "cell_type": "code",
   "execution_count": 122,
   "metadata": {},
   "outputs": [
    {
     "data": {
      "text/plain": [
       "<matplotlib.legend.Legend at 0x2e333b6fda0>"
      ]
     },
     "execution_count": 122,
     "metadata": {},
     "output_type": "execute_result"
    },
    {
     "data": {
      "image/png": "[encoded data removed]",
      "text/plain": [
       "<Figure size 432x288 with 1 Axes>"
      ]
     },
     "metadata": {
      "needs_background": "light"
     },
     "output_type": "display_data"
    }
   ],
   "source": [
    "plt.plot(encoder_cluster_kmeans, homo_kmeans)\n",
    "plt.plot(encoder_cluster_kmeans, pca_homo_kmeans)\n",
    "plt.plot(encoder_cluster_kmeans, ica_homo_kmeans)\n",
    "plt.plot(encoder_cluster_kmeans, rp_homo_kmeans)\n",
    "plt.plot(encoder_cluster_kmeans, encoder_homo_kmeans)\n",
    "plt.ylim(0, .09)\n",
    "plt.xlabel(\"Number of Clusters\")\n",
    "plt.ylabel(\"V-Measure\")\n",
    "plt.legend([\"Untouched\", \"PCA\", \"ICA\", \"Random Projection\", \"Autoencoder\"])"
   ]
  },
  {
   "cell_type": "code",
   "execution_count": 104,
   "metadata": {},
   "outputs": [
    {
     "data": {
      "text/plain": [
       "<matplotlib.legend.Legend at 0x2e3272d1b70>"
      ]
     },
     "execution_count": 104,
     "metadata": {},
     "output_type": "execute_result"
    },
    {
     "data": {
      "image/png": "[encoded data removed]",
      "text/plain": [
       "<Figure size 432x288 with 1 Axes>"
      ]
     },
     "metadata": {
      "needs_background": "light"
     },
     "output_type": "display_data"
    }
   ],
   "source": [
    "plt.plot(encoder_cluster_kmeans, kmeans_times)\n",
    "plt.plot(encoder_cluster_kmeans, pca_kmeans_times)\n",
    "plt.plot(encoder_cluster_kmeans, ica_kmeans_times)\n",
    "plt.plot(encoder_cluster_kmeans, rp_kmeans_times)\n",
    "plt.plot(encoder_cluster_kmeans, encoder_kmeans_times)\n",
    "plt.xlabel(\"Number of Clusters\")\n",
    "plt.ylabel(\"Evaluation Time (seconds)\")\n",
    "plt.legend([\"Untouched\", \"PCA\", \"ICA\", \"Random Projection\", \"Autoencoder\"])"
   ]
  },
  {
   "cell_type": "code",
   "execution_count": 105,
   "metadata": {},
   "outputs": [
    {
     "data": {
      "text/plain": [
       "<matplotlib.legend.Legend at 0x2e32bdbe630>"
      ]
     },
     "execution_count": 105,
     "metadata": {},
     "output_type": "execute_result"
    },
    {
     "data": {
      "image/png": "[encoded data removed]",
      "text/plain": [
       "<Figure size 432x288 with 1 Axes>"
      ]
     },
     "metadata": {
      "needs_background": "light"
     },
     "output_type": "display_data"
    }
   ],
   "source": [
    "plt.plot(encoder_cluster_kmeans, gmm_times)\n",
    "plt.plot(encoder_cluster_kmeans, pca_gmm_times)\n",
    "plt.plot(encoder_cluster_kmeans, ica_gmm_times)\n",
    "plt.plot(encoder_cluster_kmeans, rp_gmm_times)\n",
    "plt.plot(encoder_cluster_kmeans, encoder_gmm_times)\n",
    "plt.xlabel(\"Number of Clusters\")\n",
    "plt.ylabel(\"Evaluation Time (seconds)\")\n",
    "plt.legend([\"Untouched\", \"PCA\", \"ICA\", \"Random Projection\", \"Autoencoder\"])"
   ]
  },
  {
   "cell_type": "code",
   "execution_count": 141,
   "metadata": {},
   "outputs": [
    {
     "data": {
      "text/plain": [
       "[GaussianMixture(covariance_type='full', init_params='kmeans', max_iter=100,\n",
       "         means_init=None, n_components=1, n_init=1, precisions_init=None,\n",
       "         random_state=420, reg_covar=1e-06, tol=0.001, verbose=0,\n",
       "         verbose_interval=10, warm_start=False, weights_init=None),\n",
       " GaussianMixture(covariance_type='full', init_params='kmeans', max_iter=100,\n",
       "         means_init=None, n_components=2, n_init=1, precisions_init=None,\n",
       "         random_state=420, reg_covar=1e-06, tol=0.001, verbose=0,\n",
       "         verbose_interval=10, warm_start=False, weights_init=None),\n",
       " GaussianMixture(covariance_type='full', init_params='kmeans', max_iter=100,\n",
       "         means_init=None, n_components=3, n_init=1, precisions_init=None,\n",
       "         random_state=420, reg_covar=1e-06, tol=0.001, verbose=0,\n",
       "         verbose_interval=10, warm_start=False, weights_init=None),\n",
       " GaussianMixture(covariance_type='full', init_params='kmeans', max_iter=100,\n",
       "         means_init=None, n_components=4, n_init=1, precisions_init=None,\n",
       "         random_state=420, reg_covar=1e-06, tol=0.001, verbose=0,\n",
       "         verbose_interval=10, warm_start=False, weights_init=None),\n",
       " GaussianMixture(covariance_type='full', init_params='kmeans', max_iter=100,\n",
       "         means_init=None, n_components=5, n_init=1, precisions_init=None,\n",
       "         random_state=420, reg_covar=1e-06, tol=0.001, verbose=0,\n",
       "         verbose_interval=10, warm_start=False, weights_init=None),\n",
       " GaussianMixture(covariance_type='full', init_params='kmeans', max_iter=100,\n",
       "         means_init=None, n_components=6, n_init=1, precisions_init=None,\n",
       "         random_state=420, reg_covar=1e-06, tol=0.001, verbose=0,\n",
       "         verbose_interval=10, warm_start=False, weights_init=None),\n",
       " GaussianMixture(covariance_type='full', init_params='kmeans', max_iter=100,\n",
       "         means_init=None, n_components=7, n_init=1, precisions_init=None,\n",
       "         random_state=420, reg_covar=1e-06, tol=0.001, verbose=0,\n",
       "         verbose_interval=10, warm_start=False, weights_init=None),\n",
       " GaussianMixture(covariance_type='full', init_params='kmeans', max_iter=100,\n",
       "         means_init=None, n_components=8, n_init=1, precisions_init=None,\n",
       "         random_state=420, reg_covar=1e-06, tol=0.001, verbose=0,\n",
       "         verbose_interval=10, warm_start=False, weights_init=None),\n",
       " GaussianMixture(covariance_type='full', init_params='kmeans', max_iter=100,\n",
       "         means_init=None, n_components=9, n_init=1, precisions_init=None,\n",
       "         random_state=420, reg_covar=1e-06, tol=0.001, verbose=0,\n",
       "         verbose_interval=10, warm_start=False, weights_init=None),\n",
       " GaussianMixture(covariance_type='full', init_params='kmeans', max_iter=100,\n",
       "         means_init=None, n_components=10, n_init=1, precisions_init=None,\n",
       "         random_state=420, reg_covar=1e-06, tol=0.001, verbose=0,\n",
       "         verbose_interval=10, warm_start=False, weights_init=None)]"
      ]
     },
     "execution_count": 141,
     "metadata": {},
     "output_type": "execute_result"
    }
   ],
   "source": [
    "gmm_models"
   ]
  },
  {
   "cell_type": "code",
   "execution_count": 156,
   "metadata": {},
   "outputs": [],
   "source": [
    "huh = ica_kmeans_models[2]"
   ]
  },
  {
   "cell_type": "code",
   "execution_count": 151,
   "metadata": {},
   "outputs": [],
   "source": [
    "why = pca_kmeans_models[2]"
   ]
  },
  {
   "cell_type": "code",
   "execution_count": 152,
   "metadata": {},
   "outputs": [],
   "source": [
    "tho = kmeans_models[2]"
   ]
  },
  {
   "cell_type": "code",
   "execution_count": 164,
   "metadata": {},
   "outputs": [
    {
     "data": {
      "text/plain": [
       "0.0001"
      ]
     },
     "execution_count": 164,
     "metadata": {},
     "output_type": "execute_result"
    }
   ],
   "source": [
    "tho.tol"
   ]
  },
  {
   "cell_type": "code",
   "execution_count": 178,
   "metadata": {},
   "outputs": [
    {
     "data": {
      "text/plain": [
       "0.1198129932085673"
      ]
     },
     "execution_count": 178,
     "metadata": {},
     "output_type": "execute_result"
    }
   ],
   "source": [
    "pca_x_scaled_time/60"
   ]
  },
  {
   "cell_type": "code",
   "execution_count": 177,
   "metadata": {},
   "outputs": [
    {
     "data": {
      "text/plain": [
       "1.2228803753852844"
      ]
     },
     "execution_count": 177,
     "metadata": {},
     "output_type": "execute_result"
    }
   ],
   "source": [
    "ica_x_scaled_time/60"
   ]
  },
  {
   "cell_type": "code",
   "execution_count": 179,
   "metadata": {},
   "outputs": [
    {
     "data": {
      "text/plain": [
       "16.716666666666665"
      ]
     },
     "execution_count": 179,
     "metadata": {},
     "output_type": "execute_result"
    }
   ],
   "source": [
    "16 + 43/60"
   ]
  },
  {
   "cell_type": "code",
   "execution_count": null,
   "metadata": {},
   "outputs": [],
   "source": []
  }
 ],
 "metadata": {
  "kernelspec": {
   "display_name": "Python 3",
   "language": "python",
   "name": "python3"
  },
  "language_info": {
   "codemirror_mode": {
    "name": "ipython",
    "version": 3
   },
   "file_extension": ".py",
   "mimetype": "text/x-python",
   "name": "python",
   "nbconvert_exporter": "python",
   "pygments_lexer": "ipython3",
   "version": "3.6.6"
  }
 },
 "nbformat": 4,
 "nbformat_minor": 1
}
