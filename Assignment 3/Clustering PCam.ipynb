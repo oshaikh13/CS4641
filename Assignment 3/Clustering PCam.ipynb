{
 "cells": [
  {
   "cell_type": "code",
   "execution_count": 326,
   "metadata": {
    "_cell_guid": "b1076dfc-b9ad-4769-8c92-a6c4dae69d19",
    "_uuid": "8f2839f25d086af736a60e9eeb907d3b93b6e0e5",
    "scrolled": false
   },
   "outputs": [],
   "source": [
    "#Load the modules\n",
    "\n",
    "from glob import glob \n",
    "import numpy as np\n",
    "import pandas as pd\n",
    "import keras,cv2,os\n",
    "\n",
    "from keras import Model\n",
    "from keras.models import Sequential\n",
    "from keras.layers import Dense, Dropout, Flatten, BatchNormalization, Activation\n",
    "from keras.layers import Conv2D, MaxPool2D, Input, MaxPooling2D, UpSampling2D\n",
    "#just some network parameters, see above link regarding the layers for details\n",
    "from keras.optimizers import Adam\n",
    "from keras_tqdm import TQDMNotebookCallback\n",
    "\n",
    "\n",
    "from keras.utils import plot_model\n",
    "\n",
    "from keras_tqdm import TQDMNotebookCallback\n",
    "from tqdm import tqdm_notebook,trange\n",
    "import matplotlib.pyplot as plt\n",
    "import time\n",
    "\n",
    "from sklearn.cluster import KMeans\n",
    "from sklearn.mixture import GaussianMixture\n",
    "from sklearn import metrics\n",
    "from sklearn.decomposition import PCA, FastICA\n",
    "from sklearn.preprocessing import scale\n",
    "from sklearn.random_projection import GaussianRandomProjection\n",
    "\n",
    "from scipy.stats import kurtosis\n",
    "\n",
    "import matplotlib.pyplot as plt\n",
    "\n",
    "import gc #garbage collection, we need to save all the RAM we can\n"
   ]
  },
  {
   "cell_type": "markdown",
   "metadata": {
    "_uuid": "077d54fd1297b6707ea5f202ec706085599225c6"
   },
   "source": [
    "# 3. Loading the data\n",
    "We'll start by creating a pandas data frame containing the path of all the files in the `train_path` folder and then read the matching labels from the provided csv file.\n",
    "\n",
    "## Load the labels and filenames"
   ]
  },
  {
   "cell_type": "code",
   "execution_count": 2,
   "metadata": {
    "_uuid": "d72f6d8131277d5a1452d92677bcaaae8117165b"
   },
   "outputs": [
    {
     "data": {
      "text/html": [
       "<div>\n",
       "<style scoped>\n",
       "    .dataframe tbody tr th:only-of-type {\n",
       "        vertical-align: middle;\n",
       "    }\n",
       "\n",
       "    .dataframe tbody tr th {\n",
       "        vertical-align: top;\n",
       "    }\n",
       "\n",
       "    .dataframe thead th {\n",
       "        text-align: right;\n",
       "    }\n",
       "</style>\n",
       "<table border=\"1\" class=\"dataframe\">\n",
       "  <thead>\n",
       "    <tr style=\"text-align: right;\">\n",
       "      <th></th>\n",
       "      <th>path</th>\n",
       "      <th>id</th>\n",
       "      <th>label</th>\n",
       "    </tr>\n",
       "  </thead>\n",
       "  <tbody>\n",
       "    <tr>\n",
       "      <th>0</th>\n",
       "      <td>..\\data\\PCam\\train\\00001b2b5609af42ab0ab276dd4...</td>\n",
       "      <td>00001b2b5609af42ab0ab276dd4cd41c3e7745b5</td>\n",
       "      <td>1</td>\n",
       "    </tr>\n",
       "    <tr>\n",
       "      <th>1</th>\n",
       "      <td>..\\data\\PCam\\train\\000020de2aa6193f4c160e398a8...</td>\n",
       "      <td>000020de2aa6193f4c160e398a8edea95b1da598</td>\n",
       "      <td>0</td>\n",
       "    </tr>\n",
       "    <tr>\n",
       "      <th>2</th>\n",
       "      <td>..\\data\\PCam\\train\\00004aab08381d25d315384d646...</td>\n",
       "      <td>00004aab08381d25d315384d646f5ce413ea24b1</td>\n",
       "      <td>0</td>\n",
       "    </tr>\n",
       "  </tbody>\n",
       "</table>\n",
       "</div>"
      ],
      "text/plain": [
       "                                                path  \\\n",
       "0  ..\\data\\PCam\\train\\00001b2b5609af42ab0ab276dd4...   \n",
       "1  ..\\data\\PCam\\train\\000020de2aa6193f4c160e398a8...   \n",
       "2  ..\\data\\PCam\\train\\00004aab08381d25d315384d646...   \n",
       "\n",
       "                                         id  label  \n",
       "0  00001b2b5609af42ab0ab276dd4cd41c3e7745b5      1  \n",
       "1  000020de2aa6193f4c160e398a8edea95b1da598      0  \n",
       "2  00004aab08381d25d315384d646f5ce413ea24b1      0  "
      ]
     },
     "execution_count": 2,
     "metadata": {},
     "output_type": "execute_result"
    }
   ],
   "source": [
    "#set paths to training and test data\n",
    "path = '..\\\\data\\\\PCam\\\\' #adapt this path, when running locally\n",
    "train_path = path + 'train\\\\'\n",
    "test_path = path + 'test\\\\'\n",
    "\n",
    "df = pd.DataFrame({'path': glob(os.path.join(train_path,'*.tif'))}) # load the filenames\n",
    "df['id'] = df.path.map(lambda x: x.split(\"\\\\\")[-1].split(\".\")[0]) # keep only the file names in 'id'\n",
    "labels = pd.read_csv(path + \"train_labels.csv\") # read the provided labels\n",
    "df = df.merge(labels, on = \"id\") # merge labels and filepaths\n",
    "df.head(3) # print the first three entrys"
   ]
  },
  {
   "cell_type": "markdown",
   "metadata": {
    "_uuid": "e32d37b60a88fb0c038ab2a6938bd46198e79740"
   },
   "source": [
    "## Load the images\n",
    "\n",
    "Now, we will load some of the images. As [interactive kernels with GPU](https://www.kaggle.com/docs/kernels#the-kernels-environment) currently offer about 14 GB of RAM, we will take care to keep the images in the uint8 format (i.e. pixel values are integers between 0 and 255) to reduce the memory footprint. Processing of the images often requires converting them to float32, which would require additional space.\n",
    "\n",
    "We'll declare a function to load a set number of images and then load 10000 images."
   ]
  },
  {
   "cell_type": "code",
   "execution_count": 3,
   "metadata": {
    "_uuid": "5087ee421fbaf96cbd18df1467cf14c34b4f7289"
   },
   "outputs": [],
   "source": [
    "def load_data(N,df):\n",
    "    \"\"\" This functions loads N images using the data df\n",
    "    \"\"\"\n",
    "    gc.collect()\n",
    "    # allocate a numpy array for the images (N, 96x96px, 3 channels, values 0 - 255)\n",
    "    X = np.zeros([N,32*32],dtype=np.uint8) \n",
    "    #convert the labels to a numpy array too\n",
    "    y = np.squeeze(df.as_matrix(columns=['label']))[0:N]\n",
    "    #read images one by one, tdqm notebook displays a progress bar\n",
    "    for i, row in tqdm_notebook(df.iterrows(), total=N):\n",
    "        if i == N:\n",
    "            break\n",
    "            \n",
    "        if i % 9000 == 0:\n",
    "            gc.collect()\n",
    "            print(\"COLLECTED MEMORY\")\n",
    "        \n",
    "        img = cv2.imread(row['path'])\n",
    "        img = cv2.cvtColor(img, cv2.COLOR_BGR2GRAY)\n",
    "        width, height = img.shape   # Get dimensions\n",
    "#         print(X[i].shape)\n",
    "        left = (width - 32)//2\n",
    "        top = (height - 32)//2\n",
    "        right = (width + 32)//2\n",
    "        bottom = (height + 32)//2\n",
    "        cropped = img[top:bottom, left:right].ravel()\n",
    "        X[i] = cropped\n",
    "          \n",
    "    return X,y\n",
    "\n",
    "def load_data_CNN(N,df):\n",
    "    \"\"\" This functions loads N images using the data df\n",
    "    \"\"\"\n",
    "    gc.collect()\n",
    "    # allocate a numpy array for the images (N, 96x96px, 3 channels, values 0 - 255)\n",
    "    X = np.zeros([N,32,32,1],dtype=np.uint8) \n",
    "    #convert the labels to a numpy array too\n",
    "    y = np.squeeze(df.as_matrix(columns=['label']))[0:N]\n",
    "    #read images one by one, tdqm notebook displays a progress bar\n",
    "    for i, row in tqdm_notebook(df.iterrows(), total=N):\n",
    "        if i == N:\n",
    "            break\n",
    "            \n",
    "        if i % 9000 == 0:\n",
    "            gc.collect()\n",
    "            print(\"COLLECTED MEMORY\")\n",
    "        \n",
    "        img = cv2.imread(row['path'])\n",
    "        img = cv2.cvtColor(img, cv2.COLOR_BGR2GRAY)\n",
    "        width, height = img.shape   # Get dimensions\n",
    "#         print(X[i].shape)\n",
    "        left = (width - 32)//2\n",
    "        top = (height - 32)//2\n",
    "        right = (width + 32)//2\n",
    "        bottom = (height + 32)//2\n",
    "        cropped = img[top:bottom, left:right].reshape(32, 32, 1)\n",
    "        X[i] = cropped\n",
    "          \n",
    "    return X,y"
   ]
  },
  {
   "cell_type": "code",
   "execution_count": 4,
   "metadata": {},
   "outputs": [],
   "source": [
    "def purity_score(y_true, y_pred):\n",
    "    # compute contingency matrix (also called confusion matrix)\n",
    "    contingency_matrix = metrics.cluster.contingency_matrix(y_true, y_pred)\n",
    "    # return purity\n",
    "    return np.sum(np.amax(contingency_matrix, axis=0)) / np.sum(contingency_matrix) "
   ]
  },
  {
   "cell_type": "markdown",
   "metadata": {
    "_uuid": "c3bd89f6d9e00472c46b1c9c617e3d090c9fccce"
   },
   "source": [
    "# Setup the model\n",
    "We will now focus on creating a simple model for this problem. This is usually the point, where you would want to start considering our previous conclusions, but to keep it simple, we will assume, we did not draw any meaningful conclusions. As the data is - in comparison to other Kaggle challenges - relatively well balanced and accesible, this should be ok. You can use the insight to craft a better model later!\n",
    "\n",
    "Let's start by loading all the data, not just a subset as before. This will likely require a few minutes. However, we only need to do it once."
   ]
  },
  {
   "cell_type": "code",
   "execution_count": 5,
   "metadata": {
    "_uuid": "30e69a2a034e279da6eeb0fc09f1a58b58fc0401"
   },
   "outputs": [
    {
     "name": "stderr",
     "output_type": "stream",
     "text": [
      "C:\\ProgramData\\Anaconda3\\lib\\site-packages\\ipykernel_launcher.py:8: FutureWarning: Method .as_matrix will be removed in a future version. Use .values instead.\n",
      "  \n"
     ]
    },
    {
     "data": {
      "application/vnd.jupyter.widget-view+json": {
       "model_id": "5df0b38dddda4d758600374568958fd9",
       "version_major": 2,
       "version_minor": 0
      },
      "text/plain": [
       "HBox(children=(IntProgress(value=0, max=220025), HTML(value='')))"
      ]
     },
     "metadata": {},
     "output_type": "display_data"
    },
    {
     "name": "stdout",
     "output_type": "stream",
     "text": [
      "COLLECTED MEMORY\n",
      "COLLECTED MEMORY\n",
      "COLLECTED MEMORY\n",
      "COLLECTED MEMORY\n",
      "COLLECTED MEMORY\n",
      "COLLECTED MEMORY\n",
      "COLLECTED MEMORY\n",
      "COLLECTED MEMORY\n",
      "COLLECTED MEMORY\n",
      "COLLECTED MEMORY\n",
      "COLLECTED MEMORY\n",
      "COLLECTED MEMORY\n",
      "COLLECTED MEMORY\n",
      "COLLECTED MEMORY\n",
      "COLLECTED MEMORY\n",
      "COLLECTED MEMORY\n",
      "COLLECTED MEMORY\n",
      "COLLECTED MEMORY\n",
      "COLLECTED MEMORY\n",
      "COLLECTED MEMORY\n",
      "COLLECTED MEMORY\n",
      "COLLECTED MEMORY\n",
      "COLLECTED MEMORY\n",
      "COLLECTED MEMORY\n",
      "COLLECTED MEMORY\n",
      "\n"
     ]
    }
   ],
   "source": [
    "N = df[\"path\"].size # get the number of images in the training data set\n",
    "X,y = load_data(N=N,df=df)"
   ]
  },
  {
   "cell_type": "markdown",
   "metadata": {
    "_uuid": "2e5b2386785b29f3a332daffa0160d14aa3a562e"
   },
   "source": [
    "We will use the garbage collector and unbind some variables to free up space in our RAM."
   ]
  },
  {
   "cell_type": "code",
   "execution_count": 6,
   "metadata": {
    "_uuid": "e14b07edae9d62cc873b1b10c5288c72bfbf9671"
   },
   "outputs": [],
   "source": [
    "#Collect garbage\n",
    "positives_samples = None\n",
    "negative_samples = None\n",
    "gc.collect();"
   ]
  },
  {
   "cell_type": "markdown",
   "metadata": {
    "_uuid": "c56525b3ee4c5f65255422ec035c057d350de292"
   },
   "source": [
    "Now, we will split the data into a [training and validation set](https://en.wikipedia.org/wiki/Training,_validation,_and_test_sets). Due to the RAM limitations, we will just do this in-place by specifying an index at which we will split. We'll use 80% of the data for training and 20% to validate that our model can generalize to new data. After that, to avoid any influence of a possible previous sorting of data we will shuffle the data (in-place)."
   ]
  },
  {
   "cell_type": "code",
   "execution_count": 7,
   "metadata": {
    "_uuid": "60644d18d00811a12f6270ac42f8c745902018a8"
   },
   "outputs": [
    {
     "data": {
      "text/plain": [
       "0"
      ]
     },
     "execution_count": 7,
     "metadata": {},
     "output_type": "execute_result"
    }
   ],
   "source": [
    "training_portion = 0.4 # Specify training/validation ratio\n",
    "split_idx = int(np.round(training_portion * y.shape[0])) #Compute split idx\n",
    "\n",
    "np.random.seed(420) #set the seed to ensure reproducibility\n",
    "\n",
    "#shuffle\n",
    "idx = np.arange(y.shape[0])\n",
    "np.random.shuffle(idx)\n",
    "X = X[idx]\n",
    "y = y[idx]\n",
    "\n",
    "X_train = X[:split_idx]\n",
    "y_train = y[:split_idx]\n",
    "X_test = X[split_idx:]\n",
    "y_test = y[split_idx:]\n",
    "\n",
    "X = None\n",
    "y = None\n",
    "\n",
    "gc.collect()"
   ]
  },
  {
   "cell_type": "code",
   "execution_count": 8,
   "metadata": {},
   "outputs": [],
   "source": [
    "def kmean_fitter(X_data):\n",
    "    kmeans_models = []\n",
    "    kmeans_times = []\n",
    "    for i in range(1, 11):\n",
    "        start_time = time.time();\n",
    "        kmeans = KMeans(n_clusters=i, random_state=420).fit(X_data)\n",
    "        kmeans_times.append(time.time() - start_time)\n",
    "        kmeans_models.append(kmeans)\n",
    "        print(\"COMPLETED \" + str(i))\n",
    "    \n",
    "    return kmeans_models, kmeans_times"
   ]
  },
  {
   "cell_type": "code",
   "execution_count": 9,
   "metadata": {},
   "outputs": [
    {
     "name": "stdout",
     "output_type": "stream",
     "text": [
      "COMPLETED 1\n",
      "COMPLETED 2\n",
      "COMPLETED 3\n",
      "COMPLETED 4\n",
      "COMPLETED 5\n",
      "COMPLETED 6\n",
      "COMPLETED 7\n",
      "COMPLETED 8\n",
      "COMPLETED 9\n",
      "COMPLETED 10\n"
     ]
    }
   ],
   "source": [
    "kmeans_models, kmeans_times = kmean_fitter(X_train)"
   ]
  },
  {
   "cell_type": "code",
   "execution_count": 31,
   "metadata": {},
   "outputs": [],
   "source": [
    "def gmm_fitter(X_data):\n",
    "    gmm_models = []\n",
    "    gmm_times = []\n",
    "    for i in range(1, 9):\n",
    "        start_time = time.time();\n",
    "        gmm_model = GaussianMixture(n_components=i, random_state=420).fit(X_data)\n",
    "        gmm_times.append(time.time() - start_time)\n",
    "        gmm_models.append(gmm_model)\n",
    "        print(\"COMPLETED \" + str(i))\n",
    "    return gmm_models, gmm_times"
   ]
  },
  {
   "cell_type": "code",
   "execution_count": 32,
   "metadata": {},
   "outputs": [
    {
     "name": "stdout",
     "output_type": "stream",
     "text": [
      "COMPLETED 1\n",
      "COMPLETED 2\n",
      "COMPLETED 3\n",
      "COMPLETED 4\n",
      "COMPLETED 5\n",
      "COMPLETED 6\n",
      "COMPLETED 7\n",
      "COMPLETED 8\n"
     ]
    }
   ],
   "source": [
    "gmm_models, gmm_times = gmm_fitter(X_train)"
   ]
  },
  {
   "cell_type": "code",
   "execution_count": 33,
   "metadata": {},
   "outputs": [],
   "source": [
    "def kmean_stats(X_data, y_data, kmeans_models):\n",
    "    cluster_kmeans=[]\n",
    "    sse_kmeans=[]\n",
    "    purity_kmeans=[]\n",
    "    homo_kmeans=[]\n",
    "    for i in range(0, 10):\n",
    "        pred = kmeans_models[i].predict(X_data)\n",
    "        sse_kmeans.append(kmeans_models[i].inertia_)\n",
    "        purity_kmeans.append(purity_score(y_data, pred))\n",
    "        homo_kmeans.append(metrics.homogeneity_score(y_data, pred))\n",
    "        cluster_kmeans.append(i + 1)\n",
    "        print(\"completed \" + str(i + 1))\n",
    "    \n",
    "    return cluster_kmeans, sse_kmeans, purity_kmeans, homo_kmeans\n"
   ]
  },
  {
   "cell_type": "code",
   "execution_count": 34,
   "metadata": {
    "scrolled": true
   },
   "outputs": [
    {
     "name": "stdout",
     "output_type": "stream",
     "text": [
      "completed 1\n",
      "completed 2\n",
      "completed 3\n",
      "completed 4\n",
      "completed 5\n",
      "completed 6\n",
      "completed 7\n",
      "completed 8\n",
      "completed 9\n",
      "completed 10\n"
     ]
    }
   ],
   "source": [
    "cluster_kmeans, sse_kmeans, purity_kmeans, homo_kmeans = kmean_stats(X_train, y_train, kmeans_models)"
   ]
  },
  {
   "cell_type": "code",
   "execution_count": 39,
   "metadata": {},
   "outputs": [],
   "source": [
    "def gmm_stats(X_train_data, y_train_data, gmm_models):\n",
    "    cluster_gmm=[]\n",
    "    homo_gmm=[]\n",
    "    purity_gmm=[]\n",
    "    for i in range(0, 8):\n",
    "        pred = gmm_models[i].predict(X_train_data)\n",
    "        purity_gmm.append(purity_score(y_train_data, pred))\n",
    "        homo_gmm.append(metrics.homogeneity_score(y_train_data, pred))\n",
    "        cluster_gmm.append(i + 1)\n",
    "        print(\"completed \" + str(i + 1))\n",
    "    return cluster_gmm, homo_gmm, purity_gmm"
   ]
  },
  {
   "cell_type": "code",
   "execution_count": 40,
   "metadata": {},
   "outputs": [
    {
     "name": "stdout",
     "output_type": "stream",
     "text": [
      "completed 1\n",
      "completed 2\n",
      "completed 3\n",
      "completed 4\n",
      "completed 5\n",
      "completed 6\n",
      "completed 7\n",
      "completed 8\n"
     ]
    }
   ],
   "source": [
    "cluster_gmm, homo_gmm, purity_gmm = gmm_stats(X_train, y_train, gmm_models)"
   ]
  },
  {
   "cell_type": "code",
   "execution_count": 41,
   "metadata": {},
   "outputs": [
    {
     "data": {
      "text/plain": [
       "[<matplotlib.lines.Line2D at 0x1c281726940>]"
      ]
     },
     "execution_count": 41,
     "metadata": {},
     "output_type": "execute_result"
    },
    {
     "data": {
      "image/png": "[encoded data removed]",
      "text/plain": [
       "<Figure size 432x288 with 1 Axes>"
      ]
     },
     "metadata": {
      "needs_background": "light"
     },
     "output_type": "display_data"
    }
   ],
   "source": [
    "plt.plot(cluster_gmm, homo_gmm)\n",
    "plt.plot(cluster_kmeans, homo_kmeans)\n",
    "\n",
    "# plt.plot(xs, ys)"
   ]
  },
  {
   "cell_type": "code",
   "execution_count": 42,
   "metadata": {},
   "outputs": [
    {
     "data": {
      "text/plain": [
       "[<matplotlib.lines.Line2D at 0x1c2817374e0>]"
      ]
     },
     "execution_count": 42,
     "metadata": {},
     "output_type": "execute_result"
    },
    {
     "data": {
      "image/png": "[encoded data removed]",
      "text/plain": [
       "<Figure size 432x288 with 1 Axes>"
      ]
     },
     "metadata": {
      "needs_background": "light"
     },
     "output_type": "display_data"
    }
   ],
   "source": [
    "plt.plot(cluster_gmm, purity_gmm)\n",
    "plt.plot(cluster_kmeans, purity_kmeans)"
   ]
  },
  {
   "cell_type": "code",
   "execution_count": 100,
   "metadata": {},
   "outputs": [
    {
     "data": {
      "text/plain": [
       "[<matplotlib.lines.Line2D at 0x1c28192ae48>]"
      ]
     },
     "execution_count": 100,
     "metadata": {},
     "output_type": "execute_result"
    },
    {
     "data": {
      "image/png": "[encoded data removed]",
      "text/plain": [
       "<Figure size 432x288 with 1 Axes>"
      ]
     },
     "metadata": {
      "needs_background": "light"
     },
     "output_type": "display_data"
    }
   ],
   "source": [
    "plt.plot(cluster_gmm, gmm_times)\n",
    "plt.plot(cluster_kmeans, kmeans_times)"
   ]
  },
  {
   "cell_type": "code",
   "execution_count": 61,
   "metadata": {},
   "outputs": [],
   "source": [
    "best_gmm = gmm_models[4]\n",
    "best_kmean = kmeans_models[2]"
   ]
  },
  {
   "cell_type": "code",
   "execution_count": 62,
   "metadata": {},
   "outputs": [
    {
     "data": {
      "text/plain": [
       "array([[214.10625612, 214.21923111, 214.32010323, ..., 216.23542761,\n",
       "        215.87020557, 215.79531904],\n",
       "       [112.33431971, 112.09993219, 112.23756242, ..., 111.34221071,\n",
       "        110.98387892, 111.33755625],\n",
       "       [157.55768417, 157.79083822, 157.75240225, ..., 157.7993594 ,\n",
       "        157.54517435, 157.64824439]])"
      ]
     },
     "execution_count": 62,
     "metadata": {},
     "output_type": "execute_result"
    }
   ],
   "source": [
    "best_kmean.cluster_centers_"
   ]
  },
  {
   "cell_type": "code",
   "execution_count": 63,
   "metadata": {},
   "outputs": [
    {
     "data": {
      "text/plain": [
       "(5, 1024, 1024)"
      ]
     },
     "execution_count": 63,
     "metadata": {},
     "output_type": "execute_result"
    }
   ],
   "source": [
    "best_gmm.covariances_.shape"
   ]
  },
  {
   "cell_type": "code",
   "execution_count": 64,
   "metadata": {},
   "outputs": [],
   "source": [
    "contingency_matrix_gmm = metrics.cluster.contingency_matrix(y_train, best_gmm.predict(X_train))"
   ]
  },
  {
   "cell_type": "code",
   "execution_count": 65,
   "metadata": {},
   "outputs": [
    {
     "data": {
      "text/plain": [
       "0.6758436541302125"
      ]
     },
     "execution_count": 65,
     "metadata": {},
     "output_type": "execute_result"
    }
   ],
   "source": [
    "np.sum(np.amax(contingency_matrix_gmm, axis=0)) / np.sum(contingency_matrix_gmm) "
   ]
  },
  {
   "cell_type": "code",
   "execution_count": 66,
   "metadata": {},
   "outputs": [
    {
     "data": {
      "text/plain": [
       "array([0.89979239, 0.79806556, 0.7843708 , 0.55349629, 0.61096566])"
      ]
     },
     "execution_count": 66,
     "metadata": {},
     "output_type": "execute_result"
    }
   ],
   "source": [
    "np.amax(contingency_matrix_gmm, axis=0)/np.sum(contingency_matrix_gmm, axis=0)"
   ]
  },
  {
   "cell_type": "code",
   "execution_count": 68,
   "metadata": {},
   "outputs": [],
   "source": [
    "contingency_matrix_kmeans = metrics.cluster.contingency_matrix(y_train, best_kmean.predict(X_train))"
   ]
  },
  {
   "cell_type": "code",
   "execution_count": 69,
   "metadata": {},
   "outputs": [
    {
     "data": {
      "text/plain": [
       "0.6428701283945006"
      ]
     },
     "execution_count": 69,
     "metadata": {},
     "output_type": "execute_result"
    }
   ],
   "source": [
    "np.sum(np.amax(contingency_matrix_kmeans, axis=0)) / np.sum(contingency_matrix_kmeans) "
   ]
  },
  {
   "cell_type": "code",
   "execution_count": 70,
   "metadata": {},
   "outputs": [
    {
     "data": {
      "text/plain": [
       "array([0.80913177, 0.60713185, 0.56501375])"
      ]
     },
     "execution_count": 70,
     "metadata": {},
     "output_type": "execute_result"
    }
   ],
   "source": [
    "np.amax(contingency_matrix_kmeans, axis=0)/np.sum(contingency_matrix_kmeans, axis=0)"
   ]
  },
  {
   "cell_type": "code",
   "execution_count": 71,
   "metadata": {},
   "outputs": [
    {
     "name": "stderr",
     "output_type": "stream",
     "text": [
      "C:\\ProgramData\\Anaconda3\\lib\\site-packages\\sklearn\\utils\\validation.py:595: DataConversionWarning: Data with input dtype uint8 was converted to float64 by the scale function.\n",
      "  warnings.warn(msg, DataConversionWarning)\n"
     ]
    }
   ],
   "source": [
    "covar_matrix = PCA()\n",
    "scaled_X_train = scale(X_train)"
   ]
  },
  {
   "cell_type": "code",
   "execution_count": 72,
   "metadata": {},
   "outputs": [],
   "source": [
    "covar_matrix.fit(scaled_X_train)\n",
    "variance = covar_matrix.explained_variance_ratio_ #calculate variance ratios\n",
    "var=np.cumsum(np.round(covar_matrix.explained_variance_ratio_, decimals=3)*100)"
   ]
  },
  {
   "cell_type": "code",
   "execution_count": 73,
   "metadata": {},
   "outputs": [
    {
     "data": {
      "text/plain": [
       "[<matplotlib.lines.Line2D at 0x1c280c10908>]"
      ]
     },
     "execution_count": 73,
     "metadata": {},
     "output_type": "execute_result"
    },
    {
     "data": {
      "image/png": "[encoded data removed]",
      "text/plain": [
       "<Figure size 432x288 with 1 Axes>"
      ]
     },
     "metadata": {
      "needs_background": "light"
     },
     "output_type": "display_data"
    }
   ],
   "source": [
    "plt.ylabel('% Variance Explained')\n",
    "plt.xlabel('# of Features')\n",
    "plt.title('PCA Analysis')\n",
    "plt.ylim(45,90.5)\n",
    "plt.style.context('seaborn-whitegrid')\n",
    "\n",
    "\n",
    "plt.plot(var)"
   ]
  },
  {
   "cell_type": "code",
   "execution_count": 92,
   "metadata": {},
   "outputs": [],
   "source": [
    "covar_matrix = PCA(n_components = 178)"
   ]
  },
  {
   "cell_type": "code",
   "execution_count": 101,
   "metadata": {},
   "outputs": [],
   "source": [
    "start = time.time()\n",
    "covar_matrix.fit(scaled_X_train)\n",
    "end = time.time()\n",
    "pca_x_scaled_time = end - start\n",
    "covar_matrix.fit(scaled_X_train)\n",
    "variance = covar_matrix.explained_variance_ratio_ #calculate variance ratios\n",
    "\n",
    "var=np.cumsum(np.round(covar_matrix.explained_variance_ratio_, decimals=3)*100)"
   ]
  },
  {
   "cell_type": "code",
   "execution_count": 102,
   "metadata": {},
   "outputs": [
    {
     "data": {
      "text/plain": [
       "7.842034578323364"
      ]
     },
     "execution_count": 102,
     "metadata": {},
     "output_type": "execute_result"
    }
   ],
   "source": [
    "pca_x_scaled_time"
   ]
  },
  {
   "cell_type": "code",
   "execution_count": null,
   "metadata": {},
   "outputs": [],
   "source": [
    "plt.ylabel('% Variance Explained')\n",
    "plt.xlabel('# of Features')\n",
    "plt.title('PCA Analysis')\n",
    "plt.ylim(45,90.5)\n",
    "plt.style.context('seaborn-whitegrid')\n",
    "\n",
    "\n",
    "plt.plot(var)"
   ]
  },
  {
   "cell_type": "code",
   "execution_count": 94,
   "metadata": {},
   "outputs": [
    {
     "data": {
      "text/plain": [
       "(array([172.,   5.,   0.,   0.,   0.,   0.,   0.,   0.,   0.,   1.]),\n",
       " array([ 203.19076235,  832.82045039, 1462.45013843, 2092.07982646,\n",
       "        2721.7095145 , 3351.33920254, 3980.96889058, 4610.59857861,\n",
       "        5240.22826665, 5869.85795469, 6499.48764273]),\n",
       " <a list of 10 Patch objects>)"
      ]
     },
     "execution_count": 94,
     "metadata": {},
     "output_type": "execute_result"
    },
    {
     "data": {
      "image/png": "[encoded data removed]",
      "text/plain": [
       "<Figure size 432x288 with 1 Axes>"
      ]
     },
     "metadata": {
      "needs_background": "light"
     },
     "output_type": "display_data"
    }
   ],
   "source": [
    "plt.hist(covar_matrix.singular_values_)"
   ]
  },
  {
   "cell_type": "code",
   "execution_count": 96,
   "metadata": {},
   "outputs": [
    {
     "data": {
      "text/plain": [
       "[<matplotlib.lines.Line2D at 0x1c2819b74a8>]"
      ]
     },
     "execution_count": 96,
     "metadata": {},
     "output_type": "execute_result"
    },
    {
     "data": {
      "image/png": "[encoded data removed]",
      "text/plain": [
       "<Figure size 432x288 with 1 Axes>"
      ]
     },
     "metadata": {
      "needs_background": "light"
     },
     "output_type": "display_data"
    }
   ],
   "source": [
    "plt.plot(range(0, 1024), abs(kurtosis(covar_matrix.components_, axis=0)))"
   ]
  },
  {
   "cell_type": "code",
   "execution_count": 107,
   "metadata": {},
   "outputs": [],
   "source": [
    "indep_matrix = FastICA(178, max_iter=1000)"
   ]
  },
  {
   "cell_type": "code",
   "execution_count": 108,
   "metadata": {},
   "outputs": [],
   "source": [
    "start = time.time()\n",
    "indep_matrix.fit(scaled_X_train)\n",
    "end = time.time()\n",
    "ica_x_scaled_time = end - start"
   ]
  },
  {
   "cell_type": "code",
   "execution_count": 109,
   "metadata": {},
   "outputs": [
    {
     "data": {
      "text/plain": [
       "array([[-3.00673321e-05,  1.04445070e-05,  7.26438139e-05, ...,\n",
       "         1.12777833e-05, -8.91481194e-05, -8.22960407e-05],\n",
       "       [-9.34926320e-05, -6.29285019e-05, -1.02735937e-05, ...,\n",
       "        -5.57439460e-06, -1.01788165e-05,  2.72737936e-05],\n",
       "       [-3.79971799e-05,  8.10004581e-06,  3.85619236e-05, ...,\n",
       "         3.47946034e-05,  6.10570621e-05,  4.01764059e-05],\n",
       "       ...,\n",
       "       [-1.77346113e-05, -1.02454183e-05, -6.81324487e-06, ...,\n",
       "         3.20696193e-04,  2.97378540e-05, -3.69392567e-04],\n",
       "       [ 7.39543579e-06, -8.08971793e-06, -7.60494001e-06, ...,\n",
       "        -4.62055856e-06, -3.55843026e-05, -4.14003098e-05],\n",
       "       [-1.97713584e-05,  9.66613411e-06,  3.06779208e-05, ...,\n",
       "         3.02095590e-05,  2.21386984e-05,  3.21839680e-05]])"
      ]
     },
     "execution_count": 109,
     "metadata": {},
     "output_type": "execute_result"
    }
   ],
   "source": [
    "indep_matrix.components_"
   ]
  },
  {
   "cell_type": "code",
   "execution_count": 110,
   "metadata": {},
   "outputs": [
    {
     "data": {
      "text/plain": [
       "[<matplotlib.lines.Line2D at 0x1c281c43b38>]"
      ]
     },
     "execution_count": 110,
     "metadata": {},
     "output_type": "execute_result"
    },
    {
     "data": {
      "image/png": "[encoded data removed]",
      "text/plain": [
       "<Figure size 432x288 with 1 Axes>"
      ]
     },
     "metadata": {
      "needs_background": "light"
     },
     "output_type": "display_data"
    }
   ],
   "source": [
    "plt.plot(range(0, 1024), abs(kurtosis(indep_matrix.components_)))"
   ]
  },
  {
   "cell_type": "code",
   "execution_count": 111,
   "metadata": {},
   "outputs": [],
   "source": [
    "pca_transform = covar_matrix.transform(scaled_X_train);\n",
    "pca_reconstruct = covar_matrix.inverse_transform(pca_transform)"
   ]
  },
  {
   "cell_type": "code",
   "execution_count": 112,
   "metadata": {},
   "outputs": [],
   "source": [
    "ica_transform = indep_matrix.transform(scaled_X_train);\n",
    "ica_reconstruct = indep_matrix.inverse_transform(ica_transform)"
   ]
  },
  {
   "cell_type": "code",
   "execution_count": 113,
   "metadata": {},
   "outputs": [],
   "source": [
    "loss_pca = ((scaled_X_train - pca_reconstruct) ** 2).mean()"
   ]
  },
  {
   "cell_type": "code",
   "execution_count": 114,
   "metadata": {},
   "outputs": [],
   "source": [
    "loss_ica = ((scaled_X_train - ica_reconstruct) ** 2).mean()"
   ]
  },
  {
   "cell_type": "code",
   "execution_count": 115,
   "metadata": {},
   "outputs": [
    {
     "data": {
      "text/plain": [
       "0.1575079015323806"
      ]
     },
     "execution_count": 115,
     "metadata": {},
     "output_type": "execute_result"
    }
   ],
   "source": [
    "loss_pca"
   ]
  },
  {
   "cell_type": "code",
   "execution_count": 116,
   "metadata": {},
   "outputs": [
    {
     "data": {
      "text/plain": [
       "0.15694649505222522"
      ]
     },
     "execution_count": 116,
     "metadata": {},
     "output_type": "execute_result"
    }
   ],
   "source": [
    "loss_ica"
   ]
  },
  {
   "cell_type": "code",
   "execution_count": 117,
   "metadata": {},
   "outputs": [
    {
     "name": "stdout",
     "output_type": "stream",
     "text": [
      "COMPLETED 1\n",
      "COMPLETED 2\n",
      "COMPLETED 3\n",
      "COMPLETED 4\n",
      "COMPLETED 5\n",
      "COMPLETED 6\n",
      "COMPLETED 7\n",
      "COMPLETED 8\n",
      "COMPLETED 9\n",
      "COMPLETED 10\n"
     ]
    }
   ],
   "source": [
    "pca_kmeans_models, pca_kmeans_times = kmean_fitter(pca_transform)"
   ]
  },
  {
   "cell_type": "code",
   "execution_count": 137,
   "metadata": {},
   "outputs": [
    {
     "name": "stdout",
     "output_type": "stream",
     "text": [
      "completed 1\n",
      "completed 2\n",
      "completed 3\n",
      "completed 4\n",
      "completed 5\n",
      "completed 6\n",
      "completed 7\n",
      "completed 8\n",
      "completed 9\n",
      "completed 10\n"
     ]
    }
   ],
   "source": [
    "pca_cluster_kmeans, pca_sse_kmeans, pca_purity_kmeans, pca_homo_kmeans = kmean_stats(pca_transform, y_train, pca_kmeans_models)"
   ]
  },
  {
   "cell_type": "code",
   "execution_count": 139,
   "metadata": {},
   "outputs": [
    {
     "name": "stdout",
     "output_type": "stream",
     "text": [
      "COMPLETED 1\n",
      "COMPLETED 2\n",
      "COMPLETED 3\n",
      "COMPLETED 4\n",
      "COMPLETED 5\n"
     ]
    },
    {
     "name": "stderr",
     "output_type": "stream",
     "text": [
      "C:\\ProgramData\\Anaconda3\\lib\\site-packages\\sklearn\\mixture\\base.py:273: ConvergenceWarning: Initialization 1 did not converge. Try different init parameters, or increase max_iter, tol or check for degenerate data.\n",
      "  % (init + 1), ConvergenceWarning)\n"
     ]
    },
    {
     "name": "stdout",
     "output_type": "stream",
     "text": [
      "COMPLETED 6\n"
     ]
    },
    {
     "name": "stderr",
     "output_type": "stream",
     "text": [
      "C:\\ProgramData\\Anaconda3\\lib\\site-packages\\sklearn\\mixture\\base.py:273: ConvergenceWarning: Initialization 1 did not converge. Try different init parameters, or increase max_iter, tol or check for degenerate data.\n",
      "  % (init + 1), ConvergenceWarning)\n"
     ]
    },
    {
     "name": "stdout",
     "output_type": "stream",
     "text": [
      "COMPLETED 7\n"
     ]
    },
    {
     "name": "stderr",
     "output_type": "stream",
     "text": [
      "C:\\ProgramData\\Anaconda3\\lib\\site-packages\\sklearn\\mixture\\base.py:273: ConvergenceWarning: Initialization 1 did not converge. Try different init parameters, or increase max_iter, tol or check for degenerate data.\n",
      "  % (init + 1), ConvergenceWarning)\n"
     ]
    },
    {
     "name": "stdout",
     "output_type": "stream",
     "text": [
      "COMPLETED 8\n"
     ]
    }
   ],
   "source": [
    "pca_gmm_models, pca_gmm_times = gmm_fitter(pca_transform)"
   ]
  },
  {
   "cell_type": "code",
   "execution_count": 141,
   "metadata": {
    "scrolled": true
   },
   "outputs": [
    {
     "name": "stdout",
     "output_type": "stream",
     "text": [
      "completed 1\n",
      "completed 2\n",
      "completed 3\n",
      "completed 4\n",
      "completed 5\n",
      "completed 6\n",
      "completed 7\n",
      "completed 8\n"
     ]
    }
   ],
   "source": [
    "pca_cluster_gmm, pca_homo_gmm, pca_purity_gmm = gmm_stats(pca_transform, y_train, pca_gmm_models)"
   ]
  },
  {
   "cell_type": "code",
   "execution_count": 142,
   "metadata": {},
   "outputs": [
    {
     "name": "stdout",
     "output_type": "stream",
     "text": [
      "COMPLETED 1\n",
      "COMPLETED 2\n",
      "COMPLETED 3\n",
      "COMPLETED 4\n",
      "COMPLETED 5\n",
      "COMPLETED 6\n",
      "COMPLETED 7\n",
      "COMPLETED 8\n",
      "COMPLETED 9\n",
      "COMPLETED 10\n"
     ]
    }
   ],
   "source": [
    "ica_kmeans_models, ica_kmeans_times = kmean_fitter(ica_transform)"
   ]
  },
  {
   "cell_type": "code",
   "execution_count": 143,
   "metadata": {},
   "outputs": [
    {
     "name": "stdout",
     "output_type": "stream",
     "text": [
      "completed 1\n",
      "completed 2\n",
      "completed 3\n",
      "completed 4\n",
      "completed 5\n",
      "completed 6\n",
      "completed 7\n",
      "completed 8\n",
      "completed 9\n",
      "completed 10\n"
     ]
    }
   ],
   "source": [
    "ica_cluster_kmeans, ica_sse_kmeans, ica_purity_kmeans, ica_homo_kmeans = kmean_stats(ica_transform, y_train, ica_kmeans_models)"
   ]
  },
  {
   "cell_type": "code",
   "execution_count": 144,
   "metadata": {},
   "outputs": [
    {
     "name": "stdout",
     "output_type": "stream",
     "text": [
      "COMPLETED 1\n",
      "COMPLETED 2\n",
      "COMPLETED 3\n",
      "COMPLETED 4\n",
      "COMPLETED 5\n",
      "COMPLETED 6\n",
      "COMPLETED 7\n",
      "COMPLETED 8\n"
     ]
    }
   ],
   "source": [
    "ica_gmm_models, ica_gmm_times = gmm_fitter(ica_transform)"
   ]
  },
  {
   "cell_type": "code",
   "execution_count": 145,
   "metadata": {},
   "outputs": [
    {
     "name": "stdout",
     "output_type": "stream",
     "text": [
      "completed 1\n",
      "completed 2\n",
      "completed 3\n",
      "completed 4\n",
      "completed 5\n",
      "completed 6\n",
      "completed 7\n",
      "completed 8\n"
     ]
    }
   ],
   "source": [
    "ica_cluster_gmm, ica_homo_gmm, ica_purity_gmm = gmm_stats(ica_transform, y_train, ica_gmm_models)"
   ]
  },
  {
   "cell_type": "code",
   "execution_count": 156,
   "metadata": {},
   "outputs": [],
   "source": [
    "def get_best_rp(X_scaled):\n",
    "    best_rp = None\n",
    "    best_rp_loss = float(\"inf\")\n",
    "    loss_scores = []\n",
    "    times = []\n",
    "    for i in range(0, 200):\n",
    "        rp = GaussianRandomProjection(n_components=178)\n",
    "        start = time.time()\n",
    "        rp.fit(X_scaled)\n",
    "        end = time.time()\n",
    "        times.append(end - start)\n",
    "        rp_reconstruct = np.dot(rp.transform(X_scaled), rp.components_) + X_scaled.mean()\n",
    "        rp_loss = ((X_scaled - rp_reconstruct ** 2)).mean().mean()\n",
    "        loss_scores.append(abs(rp_loss))\n",
    "        if abs(rp_loss) < best_rp_loss:\n",
    "            best_rp_loss = abs(rp_loss)\n",
    "            best_rp = rp\n",
    "    \n",
    "    return best_rp, best_rp_loss, loss_scores, times"
   ]
  },
  {
   "cell_type": "code",
   "execution_count": 157,
   "metadata": {},
   "outputs": [],
   "source": [
    "best_rp, best_rp_loss, loss_scores, rp_times = get_best_rp(scaled_X_train)"
   ]
  },
  {
   "cell_type": "code",
   "execution_count": 158,
   "metadata": {},
   "outputs": [
    {
     "data": {
      "text/plain": [
       "(array([ 3., 19., 42., 40., 33., 38., 17.,  3.,  2.,  3.]),\n",
       " array([5.72328048, 5.97366219, 6.2240439 , 6.47442561, 6.72480732,\n",
       "        6.97518902, 7.22557073, 7.47595244, 7.72633415, 7.97671586,\n",
       "        8.22709756]),\n",
       " <a list of 10 Patch objects>)"
      ]
     },
     "execution_count": 158,
     "metadata": {},
     "output_type": "execute_result"
    },
    {
     "data": {
      "image/png": "[encoded data removed]",
      "text/plain": [
       "<Figure size 432x288 with 1 Axes>"
      ]
     },
     "metadata": {
      "needs_background": "light"
     },
     "output_type": "display_data"
    }
   ],
   "source": [
    "plt.hist(loss_scores)"
   ]
  },
  {
   "cell_type": "code",
   "execution_count": 160,
   "metadata": {},
   "outputs": [
    {
     "data": {
      "text/plain": [
       "5.723280482885704"
      ]
     },
     "execution_count": 160,
     "metadata": {},
     "output_type": "execute_result"
    }
   ],
   "source": [
    "best_rp_loss"
   ]
  },
  {
   "cell_type": "code",
   "execution_count": 161,
   "metadata": {},
   "outputs": [],
   "source": [
    "rp_transform = best_rp.transform(scaled_X_train);\n",
    "rp_reconstruct = np.dot(best_rp.transform(scaled_X_train), best_rp.components_) + scaled_X_train.mean()"
   ]
  },
  {
   "cell_type": "code",
   "execution_count": 162,
   "metadata": {},
   "outputs": [
    {
     "name": "stdout",
     "output_type": "stream",
     "text": [
      "COMPLETED 1\n",
      "COMPLETED 2\n",
      "COMPLETED 3\n",
      "COMPLETED 4\n",
      "COMPLETED 5\n",
      "COMPLETED 6\n",
      "COMPLETED 7\n",
      "COMPLETED 8\n",
      "COMPLETED 9\n",
      "COMPLETED 10\n"
     ]
    }
   ],
   "source": [
    "rp_kmeans_models, rp_kmeans_times = kmean_fitter(rp_transform)"
   ]
  },
  {
   "cell_type": "code",
   "execution_count": 163,
   "metadata": {},
   "outputs": [
    {
     "name": "stdout",
     "output_type": "stream",
     "text": [
      "completed 1\n",
      "completed 2\n",
      "completed 3\n",
      "completed 4\n",
      "completed 5\n",
      "completed 6\n",
      "completed 7\n",
      "completed 8\n",
      "completed 9\n",
      "completed 10\n"
     ]
    }
   ],
   "source": [
    "rp_cluster_kmeans, rp_sse_kmeans, rp_purity_kmeans, rp_homo_kmeans = kmean_stats(rp_transform, y_train, rp_kmeans_models)"
   ]
  },
  {
   "cell_type": "code",
   "execution_count": 164,
   "metadata": {},
   "outputs": [
    {
     "name": "stdout",
     "output_type": "stream",
     "text": [
      "COMPLETED 1\n",
      "COMPLETED 2\n",
      "COMPLETED 3\n",
      "COMPLETED 4\n",
      "COMPLETED 5\n"
     ]
    },
    {
     "name": "stderr",
     "output_type": "stream",
     "text": [
      "C:\\ProgramData\\Anaconda3\\lib\\site-packages\\sklearn\\mixture\\base.py:273: ConvergenceWarning: Initialization 1 did not converge. Try different init parameters, or increase max_iter, tol or check for degenerate data.\n",
      "  % (init + 1), ConvergenceWarning)\n"
     ]
    },
    {
     "name": "stdout",
     "output_type": "stream",
     "text": [
      "COMPLETED 6\n"
     ]
    },
    {
     "name": "stderr",
     "output_type": "stream",
     "text": [
      "C:\\ProgramData\\Anaconda3\\lib\\site-packages\\sklearn\\mixture\\base.py:273: ConvergenceWarning: Initialization 1 did not converge. Try different init parameters, or increase max_iter, tol or check for degenerate data.\n",
      "  % (init + 1), ConvergenceWarning)\n"
     ]
    },
    {
     "name": "stdout",
     "output_type": "stream",
     "text": [
      "COMPLETED 7\n"
     ]
    },
    {
     "name": "stderr",
     "output_type": "stream",
     "text": [
      "C:\\ProgramData\\Anaconda3\\lib\\site-packages\\sklearn\\mixture\\base.py:273: ConvergenceWarning: Initialization 1 did not converge. Try different init parameters, or increase max_iter, tol or check for degenerate data.\n",
      "  % (init + 1), ConvergenceWarning)\n"
     ]
    },
    {
     "name": "stdout",
     "output_type": "stream",
     "text": [
      "COMPLETED 8\n"
     ]
    }
   ],
   "source": [
    "rp_gmm_models, rp_gmm_times = gmm_fitter(rp_transform)"
   ]
  },
  {
   "cell_type": "code",
   "execution_count": 165,
   "metadata": {},
   "outputs": [
    {
     "name": "stdout",
     "output_type": "stream",
     "text": [
      "completed 1\n",
      "completed 2\n",
      "completed 3\n",
      "completed 4\n",
      "completed 5\n",
      "completed 6\n",
      "completed 7\n",
      "completed 8\n"
     ]
    }
   ],
   "source": [
    "rp_cluster_gmm, rp_homo_gmm, rp_purity_gmm = gmm_stats(rp_transform, y_train, rp_gmm_models)"
   ]
  },
  {
   "cell_type": "code",
   "execution_count": 349,
   "metadata": {},
   "outputs": [],
   "source": [
    "def get_cnn_autoencoder():  \n",
    "    input_img = Input(shape=(32, 32, 1))  # adapt this if using `channels_first` image data format\n",
    "\n",
    "    x = Conv2D(32, (3, 3), activation='tanh', padding='same')(input_img)\n",
    "    x = MaxPooling2D((2, 2), padding='same')(x)\n",
    "    x = Conv2D(64, (3, 3), activation='tanh', padding='same')(x)\n",
    "    x = MaxPooling2D((2, 2), padding='same')(x)\n",
    "    x = Conv2D(128, (3, 3), activation='tanh', padding='same')(x)\n",
    "    encoded = MaxPooling2D((2, 2), padding='same')(x)\n",
    "\n",
    "    # at this point the representation is (7, 7, 32)\n",
    "\n",
    "    x = Conv2D(64, (3, 3), activation='tanh', padding='same')(x)\n",
    "    x = UpSampling2D((2, 2))(x)\n",
    "    x = Conv2D(32, (3, 3), activation='tanh', padding='same')(x)\n",
    "    x = UpSampling2D((2, 2))(x)\n",
    "    decoded = Conv2D(1, (3, 3), activation='sigmoid', padding='same')(x)\n",
    "    \n",
    "    autoencoder = keras.Model(input_img, decoded)\n",
    "    optimizer = Adam(lr = 0.0005)\n",
    "        \n",
    "    # this model maps an input to its encoded representation\n",
    "    encoder = Model(input_img, encoded)\n",
    "    \n",
    "    autoencoder.compile(optimizer=optimizer, loss='mean_squared_error')\n",
    "\n",
    "    \n",
    "    return autoencoder, encoder;"
   ]
  },
  {
   "cell_type": "code",
   "execution_count": 336,
   "metadata": {},
   "outputs": [],
   "source": [
    "reshaped_scaled_X_train = scaled_X_train.reshape(len(scaled_X_train), 32, 32, 1)"
   ]
  },
  {
   "cell_type": "code",
   "execution_count": 337,
   "metadata": {},
   "outputs": [
    {
     "name": "stderr",
     "output_type": "stream",
     "text": [
      "C:\\ProgramData\\Anaconda3\\lib\\site-packages\\sklearn\\utils\\validation.py:595: DataConversionWarning: Data with input dtype uint8 was converted to float64 by the scale function.\n",
      "  warnings.warn(msg, DataConversionWarning)\n"
     ]
    }
   ],
   "source": [
    "scaled_X_test = scale(X_test)\n",
    "reshaped_scaled_X_test = scaled_X_test.reshape(len(scaled_X_test), 32, 32, 1)"
   ]
  },
  {
   "cell_type": "code",
   "execution_count": 350,
   "metadata": {},
   "outputs": [],
   "source": [
    "autoencoder, encoder = get_cnn_autoencoder()"
   ]
  },
  {
   "cell_type": "code",
   "execution_count": 351,
   "metadata": {},
   "outputs": [
    {
     "name": "stdout",
     "output_type": "stream",
     "text": [
      "_________________________________________________________________\n",
      "Layer (type)                 Output Shape              Param #   \n",
      "=================================================================\n",
      "input_54 (InputLayer)        (None, 32, 32, 1)         0         \n",
      "_________________________________________________________________\n",
      "conv2d_270 (Conv2D)          (None, 32, 32, 32)        320       \n",
      "_________________________________________________________________\n",
      "max_pooling2d_124 (MaxPoolin (None, 16, 16, 32)        0         \n",
      "_________________________________________________________________\n",
      "conv2d_271 (Conv2D)          (None, 16, 16, 64)        18496     \n",
      "_________________________________________________________________\n",
      "max_pooling2d_125 (MaxPoolin (None, 8, 8, 64)          0         \n",
      "_________________________________________________________________\n",
      "conv2d_272 (Conv2D)          (None, 8, 8, 128)         73856     \n",
      "_________________________________________________________________\n",
      "conv2d_273 (Conv2D)          (None, 8, 8, 64)          73792     \n",
      "_________________________________________________________________\n",
      "up_sampling2d_99 (UpSampling (None, 16, 16, 64)        0         \n",
      "_________________________________________________________________\n",
      "conv2d_274 (Conv2D)          (None, 16, 16, 32)        18464     \n",
      "_________________________________________________________________\n",
      "up_sampling2d_100 (UpSamplin (None, 32, 32, 32)        0         \n",
      "_________________________________________________________________\n",
      "conv2d_275 (Conv2D)          (None, 32, 32, 1)         289       \n",
      "=================================================================\n",
      "Total params: 185,217\n",
      "Trainable params: 185,217\n",
      "Non-trainable params: 0\n",
      "_________________________________________________________________\n"
     ]
    }
   ],
   "source": [
    "autoencoder.summary()"
   ]
  },
  {
   "cell_type": "code",
   "execution_count": 352,
   "metadata": {},
   "outputs": [
    {
     "name": "stdout",
     "output_type": "stream",
     "text": [
      "Train on 88010 samples, validate on 132015 samples\n"
     ]
    },
    {
     "data": {
      "application/vnd.jupyter.widget-view+json": {
       "model_id": "fd7811d2150042d399f5cf7a30d665df",
       "version_major": 2,
       "version_minor": 0
      },
      "text/plain": [
       "HBox(children=(IntProgress(value=0, description='Training', max=20, style=ProgressStyle(description_width='ini…"
      ]
     },
     "metadata": {},
     "output_type": "display_data"
    },
    {
     "name": "stdout",
     "output_type": "stream",
     "text": [
      "Epoch 1/20\n"
     ]
    },
    {
     "data": {
      "application/vnd.jupyter.widget-view+json": {
       "model_id": "",
       "version_major": 2,
       "version_minor": 0
      },
      "text/plain": [
       "HBox(children=(IntProgress(value=0, description='Epoch 0', max=88010, style=ProgressStyle(description_width='i…"
      ]
     },
     "metadata": {},
     "output_type": "display_data"
    },
    {
     "name": "stdout",
     "output_type": "stream",
     "text": [
      " - 76s - loss: 0.6043 - val_loss: 0.5885\n",
      "Epoch 2/20\n"
     ]
    },
    {
     "data": {
      "application/vnd.jupyter.widget-view+json": {
       "model_id": "",
       "version_major": 2,
       "version_minor": 0
      },
      "text/plain": [
       "HBox(children=(IntProgress(value=0, description='Epoch 1', max=88010, style=ProgressStyle(description_width='i…"
      ]
     },
     "metadata": {},
     "output_type": "display_data"
    },
    {
     "name": "stdout",
     "output_type": "stream",
     "text": [
      " - 70s - loss: 0.5847 - val_loss: 0.5819\n",
      "Epoch 3/20\n"
     ]
    },
    {
     "data": {
      "application/vnd.jupyter.widget-view+json": {
       "model_id": "",
       "version_major": 2,
       "version_minor": 0
      },
      "text/plain": [
       "HBox(children=(IntProgress(value=0, description='Epoch 2', max=88010, style=ProgressStyle(description_width='i…"
      ]
     },
     "metadata": {},
     "output_type": "display_data"
    },
    {
     "name": "stdout",
     "output_type": "stream",
     "text": [
      " - 70s - loss: 0.5800 - val_loss: 0.5783\n",
      "Epoch 4/20\n"
     ]
    },
    {
     "data": {
      "application/vnd.jupyter.widget-view+json": {
       "model_id": "",
       "version_major": 2,
       "version_minor": 0
      },
      "text/plain": [
       "HBox(children=(IntProgress(value=0, description='Epoch 3', max=88010, style=ProgressStyle(description_width='i…"
      ]
     },
     "metadata": {},
     "output_type": "display_data"
    },
    {
     "name": "stdout",
     "output_type": "stream",
     "text": [
      " - 70s - loss: 0.5772 - val_loss: 0.5763\n",
      "Epoch 5/20\n"
     ]
    },
    {
     "data": {
      "application/vnd.jupyter.widget-view+json": {
       "model_id": "",
       "version_major": 2,
       "version_minor": 0
      },
      "text/plain": [
       "HBox(children=(IntProgress(value=0, description='Epoch 4', max=88010, style=ProgressStyle(description_width='i…"
      ]
     },
     "metadata": {},
     "output_type": "display_data"
    },
    {
     "name": "stdout",
     "output_type": "stream",
     "text": [
      " - 70s - loss: 0.5757 - val_loss: 0.5752\n",
      "Epoch 6/20\n"
     ]
    },
    {
     "data": {
      "application/vnd.jupyter.widget-view+json": {
       "model_id": "",
       "version_major": 2,
       "version_minor": 0
      },
      "text/plain": [
       "HBox(children=(IntProgress(value=0, description='Epoch 5', max=88010, style=ProgressStyle(description_width='i…"
      ]
     },
     "metadata": {},
     "output_type": "display_data"
    },
    {
     "name": "stdout",
     "output_type": "stream",
     "text": [
      " - 69s - loss: 0.5747 - val_loss: 0.5745\n",
      "Epoch 7/20\n"
     ]
    },
    {
     "data": {
      "application/vnd.jupyter.widget-view+json": {
       "model_id": "",
       "version_major": 2,
       "version_minor": 0
      },
      "text/plain": [
       "HBox(children=(IntProgress(value=0, description='Epoch 6', max=88010, style=ProgressStyle(description_width='i…"
      ]
     },
     "metadata": {},
     "output_type": "display_data"
    },
    {
     "name": "stdout",
     "output_type": "stream",
     "text": [
      " - 70s - loss: 0.5742 - val_loss: 0.5740\n",
      "Epoch 8/20\n"
     ]
    },
    {
     "data": {
      "application/vnd.jupyter.widget-view+json": {
       "model_id": "",
       "version_major": 2,
       "version_minor": 0
      },
      "text/plain": [
       "HBox(children=(IntProgress(value=0, description='Epoch 7', max=88010, style=ProgressStyle(description_width='i…"
      ]
     },
     "metadata": {},
     "output_type": "display_data"
    },
    {
     "name": "stdout",
     "output_type": "stream",
     "text": [
      " - 70s - loss: 0.5738 - val_loss: 0.5737\n",
      "Epoch 9/20\n"
     ]
    },
    {
     "data": {
      "application/vnd.jupyter.widget-view+json": {
       "model_id": "",
       "version_major": 2,
       "version_minor": 0
      },
      "text/plain": [
       "HBox(children=(IntProgress(value=0, description='Epoch 8', max=88010, style=ProgressStyle(description_width='i…"
      ]
     },
     "metadata": {},
     "output_type": "display_data"
    },
    {
     "name": "stdout",
     "output_type": "stream",
     "text": [
      " - 69s - loss: 0.5735 - val_loss: 0.5734\n",
      "Epoch 10/20\n"
     ]
    },
    {
     "data": {
      "application/vnd.jupyter.widget-view+json": {
       "model_id": "",
       "version_major": 2,
       "version_minor": 0
      },
      "text/plain": [
       "HBox(children=(IntProgress(value=0, description='Epoch 9', max=88010, style=ProgressStyle(description_width='i…"
      ]
     },
     "metadata": {},
     "output_type": "display_data"
    },
    {
     "name": "stdout",
     "output_type": "stream",
     "text": [
      " - 69s - loss: 0.5732 - val_loss: 0.5733\n",
      "Epoch 11/20\n"
     ]
    },
    {
     "data": {
      "application/vnd.jupyter.widget-view+json": {
       "model_id": "",
       "version_major": 2,
       "version_minor": 0
      },
      "text/plain": [
       "HBox(children=(IntProgress(value=0, description='Epoch 10', max=88010, style=ProgressStyle(description_width='…"
      ]
     },
     "metadata": {},
     "output_type": "display_data"
    },
    {
     "name": "stdout",
     "output_type": "stream",
     "text": [
      " - 69s - loss: 0.5731 - val_loss: 0.5730\n",
      "Epoch 12/20\n"
     ]
    },
    {
     "data": {
      "application/vnd.jupyter.widget-view+json": {
       "model_id": "",
       "version_major": 2,
       "version_minor": 0
      },
      "text/plain": [
       "HBox(children=(IntProgress(value=0, description='Epoch 11', max=88010, style=ProgressStyle(description_width='…"
      ]
     },
     "metadata": {},
     "output_type": "display_data"
    },
    {
     "name": "stdout",
     "output_type": "stream",
     "text": [
      " - 69s - loss: 0.5729 - val_loss: 0.5728\n",
      "Epoch 13/20\n"
     ]
    },
    {
     "data": {
      "application/vnd.jupyter.widget-view+json": {
       "model_id": "",
       "version_major": 2,
       "version_minor": 0
      },
      "text/plain": [
       "HBox(children=(IntProgress(value=0, description='Epoch 12', max=88010, style=ProgressStyle(description_width='…"
      ]
     },
     "metadata": {},
     "output_type": "display_data"
    },
    {
     "name": "stdout",
     "output_type": "stream",
     "text": [
      " - 69s - loss: 0.5728 - val_loss: 0.5731\n",
      "Epoch 14/20\n"
     ]
    },
    {
     "data": {
      "application/vnd.jupyter.widget-view+json": {
       "model_id": "",
       "version_major": 2,
       "version_minor": 0
      },
      "text/plain": [
       "HBox(children=(IntProgress(value=0, description='Epoch 13', max=88010, style=ProgressStyle(description_width='…"
      ]
     },
     "metadata": {},
     "output_type": "display_data"
    },
    {
     "name": "stdout",
     "output_type": "stream",
     "text": [
      " - 69s - loss: 0.5727 - val_loss: 0.5728\n",
      "Epoch 15/20\n"
     ]
    },
    {
     "data": {
      "application/vnd.jupyter.widget-view+json": {
       "model_id": "",
       "version_major": 2,
       "version_minor": 0
      },
      "text/plain": [
       "HBox(children=(IntProgress(value=0, description='Epoch 14', max=88010, style=ProgressStyle(description_width='…"
      ]
     },
     "metadata": {},
     "output_type": "display_data"
    },
    {
     "name": "stdout",
     "output_type": "stream",
     "text": [
      " - 69s - loss: 0.5726 - val_loss: 0.5726\n",
      "Epoch 16/20\n"
     ]
    },
    {
     "data": {
      "application/vnd.jupyter.widget-view+json": {
       "model_id": "",
       "version_major": 2,
       "version_minor": 0
      },
      "text/plain": [
       "HBox(children=(IntProgress(value=0, description='Epoch 15', max=88010, style=ProgressStyle(description_width='…"
      ]
     },
     "metadata": {},
     "output_type": "display_data"
    },
    {
     "name": "stdout",
     "output_type": "stream",
     "text": [
      " - 70s - loss: 0.5725 - val_loss: 0.5725\n",
      "Epoch 17/20\n"
     ]
    },
    {
     "data": {
      "application/vnd.jupyter.widget-view+json": {
       "model_id": "",
       "version_major": 2,
       "version_minor": 0
      },
      "text/plain": [
       "HBox(children=(IntProgress(value=0, description='Epoch 16', max=88010, style=ProgressStyle(description_width='…"
      ]
     },
     "metadata": {},
     "output_type": "display_data"
    },
    {
     "name": "stdout",
     "output_type": "stream",
     "text": [
      " - 70s - loss: 0.5724 - val_loss: 0.5725\n",
      "Epoch 18/20\n"
     ]
    },
    {
     "data": {
      "application/vnd.jupyter.widget-view+json": {
       "model_id": "",
       "version_major": 2,
       "version_minor": 0
      },
      "text/plain": [
       "HBox(children=(IntProgress(value=0, description='Epoch 17', max=88010, style=ProgressStyle(description_width='…"
      ]
     },
     "metadata": {},
     "output_type": "display_data"
    },
    {
     "name": "stdout",
     "output_type": "stream",
     "text": [
      " - 70s - loss: 0.5723 - val_loss: 0.5724\n",
      "Epoch 19/20\n"
     ]
    },
    {
     "data": {
      "application/vnd.jupyter.widget-view+json": {
       "model_id": "",
       "version_major": 2,
       "version_minor": 0
      },
      "text/plain": [
       "HBox(children=(IntProgress(value=0, description='Epoch 18', max=88010, style=ProgressStyle(description_width='…"
      ]
     },
     "metadata": {},
     "output_type": "display_data"
    },
    {
     "name": "stdout",
     "output_type": "stream",
     "text": [
      " - 70s - loss: 0.5723 - val_loss: 0.5723\n",
      "Epoch 20/20\n"
     ]
    },
    {
     "data": {
      "application/vnd.jupyter.widget-view+json": {
       "model_id": "",
       "version_major": 2,
       "version_minor": 0
      },
      "text/plain": [
       "HBox(children=(IntProgress(value=0, description='Epoch 19', max=88010, style=ProgressStyle(description_width='…"
      ]
     },
     "metadata": {},
     "output_type": "display_data"
    },
    {
     "name": "stdout",
     "output_type": "stream",
     "text": [
      " - 70s - loss: 0.5722 - val_loss: 0.5723\n"
     ]
    }
   ],
   "source": [
    "history = autoencoder.fit(reshaped_scaled_X_train, reshaped_scaled_X_train,\n",
    "                epochs=20, batch_size=16, \n",
    "                validation_data=(reshaped_scaled_X_test, reshaped_scaled_X_test),\n",
    "                verbose=2, callbacks=[TQDMNotebookCallback()])"
   ]
  },
  {
   "cell_type": "code",
   "execution_count": null,
   "metadata": {},
   "outputs": [],
   "source": []
  }
 ],
 "metadata": {
  "kernelspec": {
   "display_name": "Python 3",
   "language": "python",
   "name": "python3"
  },
  "language_info": {
   "codemirror_mode": {
    "name": "ipython",
    "version": 3
   },
   "file_extension": ".py",
   "mimetype": "text/x-python",
   "name": "python",
   "nbconvert_exporter": "python",
   "pygments_lexer": "ipython3",
   "version": "3.6.6"
  }
 },
 "nbformat": 4,
 "nbformat_minor": 1
}
