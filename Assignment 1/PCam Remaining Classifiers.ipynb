{
 "cells": [
  {
   "cell_type": "code",
   "execution_count": 2,
   "metadata": {},
   "outputs": [],
   "source": [
    "# import argparse\n",
    "import random\n",
    "import os\n",
    "import pandas as pd\n",
    "import numpy as np\n",
    "from sklearn.preprocessing import normalize\n",
    "from matplotlib.pyplot import imshow\n",
    "from matplotlib import cm\n",
    "import gc\n",
    "from sklearn.decomposition import PCA\n",
    "from sklearn.svm import SVC\n",
    "\n",
    "from PIL import Image\n",
    "from tqdm import tqdm_notebook as tqdm\n",
    "\n",
    "from sklearn import datasets\n",
    "from sklearn.model_selection import cross_val_score, train_test_split\n",
    "from sklearn.model_selection import RandomizedSearchCV\n",
    "from sklearn.model_selection import GridSearchCV\n",
    "from scipy.stats import randint as sp_randint\n",
    "from sklearn.tree import DecisionTreeClassifier\n",
    "from sklearn.neighbors import KNeighborsClassifier\n",
    "from sklearn.ensemble import AdaBoostClassifier\n",
    "from sklearn.model_selection import ShuffleSplit\n",
    "import random\n",
    "\n",
    "import matplotlib.pyplot as plt\n",
    "from mpl_toolkits.mplot3d import Axes3D\n",
    "\n",
    "iters = [10, 20, 30, 40, 50, 75, 100, 200, 500, 1000, None];\n",
    "\n",
    "args = {\n",
    "    \"data_dir\": \"../data\"\n",
    "}\n"
   ]
  },
  {
   "cell_type": "code",
   "execution_count": 4,
   "metadata": {},
   "outputs": [
    {
     "data": {
      "text/plain": [
       "['creditcardfraud',\n",
       " 'creditcardfraud.zip',\n",
       " 'sample_submission.csv',\n",
       " 'test.zip',\n",
       " 'train',\n",
       " 'train.zip',\n",
       " 'train_labels.csv']"
      ]
     },
     "execution_count": 4,
     "metadata": {},
     "output_type": "execute_result"
    }
   ],
   "source": [
    "os.listdir(\"../data/\")"
   ]
  },
  {
   "cell_type": "code",
   "execution_count": 5,
   "metadata": {},
   "outputs": [],
   "source": [
    "train_labels = pd.read_csv('../data/train_labels.csv')"
   ]
  },
  {
   "cell_type": "code",
   "execution_count": 6,
   "metadata": {
    "scrolled": false
   },
   "outputs": [
    {
     "data": {
      "application/vnd.jupyter.widget-view+json": {
       "model_id": "910a8c49e6cc4392b8c0592ac4786f94",
       "version_major": 2,
       "version_minor": 0
      },
      "text/plain": [
       "HBox(children=(IntProgress(value=0, max=220025), HTML(value='')))"
      ]
     },
     "metadata": {},
     "output_type": "display_data"
    },
    {
     "name": "stdout",
     "output_type": "stream",
     "text": [
      "collecting\n",
      "predicted mem usage: 0.8393287658691406 GB\n",
      "(32, 32)\n",
      "collecting\n",
      "collecting\n",
      "collecting\n",
      "collecting\n",
      "collecting\n",
      "collecting\n",
      "collecting\n",
      "collecting\n",
      "collecting\n",
      "collecting\n",
      "collecting\n",
      "\n"
     ]
    },
    {
     "data": {
      "text/plain": [
       "0"
      ]
     },
     "execution_count": 6,
     "metadata": {},
     "output_type": "execute_result"
    },
    {
     "data": {
      "image/png": "[encoded data removed]",
      "text/plain": [
       "<Figure size 432x288 with 1 Axes>"
      ]
     },
     "metadata": {
      "needs_background": "light"
     },
     "output_type": "display_data"
    }
   ],
   "source": [
    "DATA_DIR = '../data/train'\n",
    "EXTENTION = '.tif'\n",
    "\n",
    "num_train_labels = len(train_labels)\n",
    "\n",
    "y = np.empty(num_train_labels)\n",
    "X = None\n",
    "\n",
    "for index, row in tqdm(train_labels.iterrows(), total=len(train_labels)):\n",
    "    if (index % 20000 == 0):\n",
    "        print(\"collecting\")\n",
    "        gc.collect();\n",
    "    \n",
    "    img_path = os.path.join(DATA_DIR, row[\"id\"] + EXTENTION)\n",
    "    \n",
    "    img = Image.open(img_path).convert('1')\n",
    "    width, height = img.size   # Get dimensions\n",
    "    left = (width - 32)/2\n",
    "    top = (height - 32)/2\n",
    "    right = (width + 32)/2\n",
    "    bottom = (height + 32)/2\n",
    "    img = img.crop((left, top, right, bottom))#.resize((16, 16), Image.ANTIALIAS)\n",
    "    arr = np.array(img).ravel()\n",
    "    \n",
    "    \n",
    "    if X is None: \n",
    "        print(\"predicted mem usage: \" + str((len(arr.ravel()) * num_train_labels * 4) /(2**30.0)) + \" GB\")\n",
    "        X = np.empty((num_train_labels, len(arr.ravel())))\n",
    "        imshow(np.asarray(img))\n",
    "        print(img.size)\n",
    "        \n",
    "    y[index] = row[\"label\"]\n",
    "    X[index] = arr\n",
    "\n",
    "gc.collect()"
   ]
  },
  {
   "cell_type": "code",
   "execution_count": 7,
   "metadata": {},
   "outputs": [
    {
     "data": {
      "text/plain": [
       "2302"
      ]
     },
     "execution_count": 7,
     "metadata": {},
     "output_type": "execute_result"
    }
   ],
   "source": [
    "preNormalized = X;\n",
    "X = normalize(X)\n",
    "X_train, X_test, y_train, y_test = train_test_split(X, y, test_size=0.1, random_state=420)\n",
    "X = None\n",
    "preNormalized = None\n",
    "gc.collect()"
   ]
  },
  {
   "cell_type": "code",
   "execution_count": null,
   "metadata": {},
   "outputs": [],
   "source": [
    "clf = DecisionTreeClassifier()\n",
    "score = cross_val_score(clf, X_train, y_train, cv=10, verbose=5, n_jobs=-1)\n",
    "print();\n",
    "print(\"SCORE FOR UNTOUCHED\")\n",
    "print(score)\n",
    "print();"
   ]
  },
  {
   "cell_type": "code",
   "execution_count": null,
   "metadata": {},
   "outputs": [],
   "source": [
    "#100\n",
    "#100\n",
    "\n",
    "#looking good\n",
    "data = {}\n",
    "\n",
    "for depth in iters:\n",
    "    for leaves in iters:\n",
    "        clf = DecisionTreeClassifier(max_depth=depth, max_leaf_nodes=leaves)\n",
    "        score = cross_val_score(clf, X_train, y_train, cv=10, verbose=5, n_jobs=-1)\n",
    "        print();\n",
    "        print(score)\n",
    "        print(depth)\n",
    "        print(leaves)\n",
    "        if (leaves not in data) data[leaves] = {};\n",
    "        data[leaves][depth] = sum(score)/float(len(score))\n",
    "        print()\n",
    "        gc.collect()"
   ]
  },
  {
   "cell_type": "code",
   "execution_count": null,
   "metadata": {},
   "outputs": [],
   "source": [
    "print(len(X))"
   ]
  },
  {
   "cell_type": "code",
   "execution_count": null,
   "metadata": {},
   "outputs": [],
   "source": [
    "os.listdir('./')\n",
    "X_plot = []\n",
    "Y_plot = []\n",
    "Z_plot = []\n",
    "iters = [10, 20, 30, 40, 50, 75, 100, 200];\n",
    "with open (\"gridsearchresults.txt\", \"r\") as myfile:\n",
    "    rawString = myfile.readlines()\n",
    "    counter = 5\n",
    "    \n",
    "    for depth in iters:\n",
    "        for leaves in iters:\n",
    "            X_plot.append(depth)\n",
    "            Y_plot.append(leaves)\n",
    "            currentArr = (rawString[counter] + rawString[counter + 1])[1:-2].split(\" \")\n",
    "            parsedArr = [float(x) for x in currentArr if x is not \"\"]\n",
    "            Z_plot.append(sum(parsedArr)/float(len(parsedArr)))\n",
    "            counter += 10"
   ]
  },
  {
   "cell_type": "code",
   "execution_count": 40,
   "metadata": {},
   "outputs": [],
   "source": [
    "X_plot = np.array(X_plot)\n",
    "Z_plot = np.array(Z_plot)\n",
    "Y_plot = np.array(Y_plot)"
   ]
  },
  {
   "cell_type": "code",
   "execution_count": 44,
   "metadata": {
    "scrolled": true
   },
   "outputs": [
    {
     "data": {
      "image/png": "[encoded data removed]",
      "text/plain": [
       "<Figure size 576x432 with 1 Axes>"
      ]
     },
     "metadata": {
      "needs_background": "light"
     },
     "output_type": "display_data"
    }
   ],
   "source": [
    "fig = plt.figure(figsize=(8.0, 6.0))\n",
    "ax = fig.gca(projection='3d')\n",
    "\n",
    "# Make data.\n",
    "X = X_plot\n",
    "Y = Y_plot\n",
    "# X, Y = np.meshgrid(X_plot, Y_plot)\n",
    "Z= Z_plot\n",
    "\n",
    "# Plot the surface.\n",
    "surf = ax.scatter(X_plot, Y_plot, Z_plot)\n",
    "\n",
    "# # Customize the z axis.\n",
    "# ax.set_zlim(-1.01, 1.01)\n",
    "# ax.zaxis.set_major_locator(LinearLocator(10))\n",
    "# ax.zaxis.set_major_formatter(FormatStrFormatter('%.02f'))\n",
    "ax.set_xlabel(\"Depth Limit\")\n",
    "ax.set_ylabel(\"Child Node Limit\")\n",
    "ax.set_zlabel(\"Mean 10-fold score\")\n",
    "\n",
    "plt.savefig(\"gridSearch.png\")\n",
    "plt.show()"
   ]
  },
  {
   "cell_type": "code",
   "execution_count": null,
   "metadata": {},
   "outputs": [
    {
     "name": "stdout",
     "output_type": "stream",
     "text": [
      "Fitting 10 folds for each of 100 candidates, totalling 1000 fits\n"
     ]
    },
    {
     "name": "stderr",
     "output_type": "stream",
     "text": [
      "[Parallel(n_jobs=-1)]: Using backend LokyBackend with 8 concurrent workers.\n"
     ]
    }
   ],
   "source": [
    "\n",
    "\n",
    "param_dist = {\n",
    "              \"n_neighbors\": sp_randint(2, 100),\n",
    "              \"p\": [1, 2]\n",
    "}\n",
    "rand_kNN = RandomizedSearchCV(KNeighborsClassifier(), param_dist, n_jobs=-1, cv=10, n_iter=100, verbose=2)\n",
    "rand_kNN.fit(X_train, y_train)"
   ]
  },
  {
   "cell_type": "code",
   "execution_count": 6,
   "metadata": {},
   "outputs": [
    {
     "data": {
      "text/plain": [
       "PCA(copy=True, iterated_power='auto', n_components=0.4, random_state=None,\n",
       "  svd_solver='auto', tol=0.0, whiten=False)"
      ]
     },
     "execution_count": 6,
     "metadata": {},
     "output_type": "execute_result"
    }
   ],
   "source": [
    "pca = PCA(.4)\n",
    "pca.fit(X_train)"
   ]
  },
  {
   "cell_type": "code",
   "execution_count": 7,
   "metadata": {},
   "outputs": [],
   "source": [
    "pca_train_img = pca.transform(X_train)"
   ]
  },
  {
   "cell_type": "code",
   "execution_count": 8,
   "metadata": {},
   "outputs": [
    {
     "name": "stdout",
     "output_type": "stream",
     "text": [
      "64\n",
      "24\n"
     ]
    },
    {
     "data": {
      "text/plain": [
       "0"
      ]
     },
     "execution_count": 8,
     "metadata": {},
     "output_type": "execute_result"
    }
   ],
   "source": [
    "print(len(X_train[0]))\n",
    "print(len(pca_train_img[0]))\n",
    "gc.collect()"
   ]
  },
  {
   "cell_type": "code",
   "execution_count": 10,
   "metadata": {},
   "outputs": [],
   "source": [
    "neigh = KNeighborsClassifier(n_neighbors=3, n_jobs=-1)"
   ]
  },
  {
   "cell_type": "code",
   "execution_count": 11,
   "metadata": {},
   "outputs": [
    {
     "data": {
      "text/plain": [
       "KNeighborsClassifier(algorithm='auto', leaf_size=30, metric='minkowski',\n",
       "           metric_params=None, n_jobs=-1, n_neighbors=3, p=2,\n",
       "           weights='uniform')"
      ]
     },
     "execution_count": 11,
     "metadata": {},
     "output_type": "execute_result"
    }
   ],
   "source": [
    "neigh.fit(pca_train_img, y_train)"
   ]
  },
  {
   "cell_type": "code",
   "execution_count": 12,
   "metadata": {},
   "outputs": [
    {
     "data": {
      "text/plain": [
       "0.7757370393188635"
      ]
     },
     "execution_count": 12,
     "metadata": {},
     "output_type": "execute_result"
    }
   ],
   "source": [
    "neigh.score(pca_train_img, y_train)"
   ]
  },
  {
   "cell_type": "code",
   "execution_count": 9,
   "metadata": {},
   "outputs": [
    {
     "name": "stdout",
     "output_type": "stream",
     "text": [
      "Fitting 10 folds for each of 5 candidates, totalling 50 fits\n"
     ]
    },
    {
     "name": "stderr",
     "output_type": "stream",
     "text": [
      "[Parallel(n_jobs=-1)]: Using backend LokyBackend with 8 concurrent workers.\n",
      "[Parallel(n_jobs=-1)]: Done  25 tasks      | elapsed: 407.4min\n",
      "[Parallel(n_jobs=-1)]: Done  50 out of  50 | elapsed: 689.1min finished\n"
     ]
    },
    {
     "data": {
      "text/plain": [
       "RandomizedSearchCV(cv=10, error_score='raise-deprecating',\n",
       "          estimator=KNeighborsClassifier(algorithm='auto', leaf_size=30, metric='minkowski',\n",
       "           metric_params=None, n_jobs=None, n_neighbors=5, p=2,\n",
       "           weights='uniform'),\n",
       "          fit_params=None, iid='warn', n_iter=5, n_jobs=-1,\n",
       "          param_distributions={'n_neighbors': <scipy.stats._distn_infrastructure.rv_frozen object at 0x000002A365DED5C0>, 'p': [1, 2]},\n",
       "          pre_dispatch='2*n_jobs', random_state=None, refit=True,\n",
       "          return_train_score='warn', scoring=None, verbose=2)"
      ]
     },
     "execution_count": 9,
     "metadata": {},
     "output_type": "execute_result"
    }
   ],
   "source": [
    "param_dist = {\n",
    "              \"n_neighbors\": sp_randint(2, 50),\n",
    "              \"p\": [1, 2]\n",
    "}\n",
    "rand_kNN = RandomizedSearchCV(KNeighborsClassifier(), param_dist, n_jobs=-1, cv=10, n_iter=5, verbose=2)\n",
    "rand_kNN.fit(pca_train_img, y_train)"
   ]
  },
  {
   "cell_type": "code",
   "execution_count": 11,
   "metadata": {},
   "outputs": [
    {
     "data": {
      "text/plain": [
       "0.5964943289129491"
      ]
     },
     "execution_count": 11,
     "metadata": {},
     "output_type": "execute_result"
    }
   ],
   "source": [
    "rand_kNN.best_score_"
   ]
  },
  {
   "cell_type": "code",
   "execution_count": 17,
   "metadata": {},
   "outputs": [
    {
     "name": "stderr",
     "output_type": "stream",
     "text": [
      "C:\\ProgramData\\Anaconda3\\lib\\site-packages\\sklearn\\utils\\deprecation.py:125: FutureWarning: You are accessing a training score ('split0_train_score'), which will not be available by default any more in 0.21. If you need training scores, please set return_train_score=True\n",
      "  warnings.warn(*warn_args, **warn_kwargs)\n",
      "C:\\ProgramData\\Anaconda3\\lib\\site-packages\\sklearn\\utils\\deprecation.py:125: FutureWarning: You are accessing a training score ('split1_train_score'), which will not be available by default any more in 0.21. If you need training scores, please set return_train_score=True\n",
      "  warnings.warn(*warn_args, **warn_kwargs)\n",
      "C:\\ProgramData\\Anaconda3\\lib\\site-packages\\sklearn\\utils\\deprecation.py:125: FutureWarning: You are accessing a training score ('split2_train_score'), which will not be available by default any more in 0.21. If you need training scores, please set return_train_score=True\n",
      "  warnings.warn(*warn_args, **warn_kwargs)\n",
      "C:\\ProgramData\\Anaconda3\\lib\\site-packages\\sklearn\\utils\\deprecation.py:125: FutureWarning: You are accessing a training score ('split3_train_score'), which will not be available by default any more in 0.21. If you need training scores, please set return_train_score=True\n",
      "  warnings.warn(*warn_args, **warn_kwargs)\n",
      "C:\\ProgramData\\Anaconda3\\lib\\site-packages\\sklearn\\utils\\deprecation.py:125: FutureWarning: You are accessing a training score ('split4_train_score'), which will not be available by default any more in 0.21. If you need training scores, please set return_train_score=True\n",
      "  warnings.warn(*warn_args, **warn_kwargs)\n",
      "C:\\ProgramData\\Anaconda3\\lib\\site-packages\\sklearn\\utils\\deprecation.py:125: FutureWarning: You are accessing a training score ('split5_train_score'), which will not be available by default any more in 0.21. If you need training scores, please set return_train_score=True\n",
      "  warnings.warn(*warn_args, **warn_kwargs)\n",
      "C:\\ProgramData\\Anaconda3\\lib\\site-packages\\sklearn\\utils\\deprecation.py:125: FutureWarning: You are accessing a training score ('split6_train_score'), which will not be available by default any more in 0.21. If you need training scores, please set return_train_score=True\n",
      "  warnings.warn(*warn_args, **warn_kwargs)\n",
      "C:\\ProgramData\\Anaconda3\\lib\\site-packages\\sklearn\\utils\\deprecation.py:125: FutureWarning: You are accessing a training score ('split7_train_score'), which will not be available by default any more in 0.21. If you need training scores, please set return_train_score=True\n",
      "  warnings.warn(*warn_args, **warn_kwargs)\n",
      "C:\\ProgramData\\Anaconda3\\lib\\site-packages\\sklearn\\utils\\deprecation.py:125: FutureWarning: You are accessing a training score ('split8_train_score'), which will not be available by default any more in 0.21. If you need training scores, please set return_train_score=True\n",
      "  warnings.warn(*warn_args, **warn_kwargs)\n",
      "C:\\ProgramData\\Anaconda3\\lib\\site-packages\\sklearn\\utils\\deprecation.py:125: FutureWarning: You are accessing a training score ('split9_train_score'), which will not be available by default any more in 0.21. If you need training scores, please set return_train_score=True\n",
      "  warnings.warn(*warn_args, **warn_kwargs)\n",
      "C:\\ProgramData\\Anaconda3\\lib\\site-packages\\sklearn\\utils\\deprecation.py:125: FutureWarning: You are accessing a training score ('mean_train_score'), which will not be available by default any more in 0.21. If you need training scores, please set return_train_score=True\n",
      "  warnings.warn(*warn_args, **warn_kwargs)\n",
      "C:\\ProgramData\\Anaconda3\\lib\\site-packages\\sklearn\\utils\\deprecation.py:125: FutureWarning: You are accessing a training score ('std_train_score'), which will not be available by default any more in 0.21. If you need training scores, please set return_train_score=True\n",
      "  warnings.warn(*warn_args, **warn_kwargs)\n"
     ]
    },
    {
     "data": {
      "text/plain": [
       "{'mean_fit_time': array([1.37242892, 1.2609268 , 1.26491649, 1.27698379, 1.33802078]),\n",
       " 'std_fit_time': array([0.08586663, 0.11357803, 0.10156049, 0.12459993, 0.12726242]),\n",
       " 'mean_score_time': array([611.3204705 , 632.51806576, 608.83204553, 632.7060698 ,\n",
       "        611.6805016 ]),\n",
       " 'std_score_time': array([ 2.87752526,  1.88039598,  1.53210399,  7.66428852, 58.32035689]),\n",
       " 'param_n_neighbors': masked_array(data=[12, 34, 9, 10, 48],\n",
       "              mask=[False, False, False, False, False],\n",
       "        fill_value='?',\n",
       "             dtype=object),\n",
       " 'param_p': masked_array(data=[2, 1, 2, 1, 1],\n",
       "              mask=[False, False, False, False, False],\n",
       "        fill_value='?',\n",
       "             dtype=object),\n",
       " 'params': [{'n_neighbors': 12, 'p': 2},\n",
       "  {'n_neighbors': 34, 'p': 1},\n",
       "  {'n_neighbors': 9, 'p': 2},\n",
       "  {'n_neighbors': 10, 'p': 1},\n",
       "  {'n_neighbors': 48, 'p': 1}],\n",
       " 'split0_test_score': array([0.59788921, 0.59718225, 0.58869868, 0.5960208 , 0.59793971]),\n",
       " 'split1_test_score': array([0.59278897, 0.592284  , 0.58910266, 0.58683028, 0.59384942]),\n",
       " 'split2_test_score': array([0.59193052, 0.59359693, 0.58738575, 0.59541484, 0.59435439]),\n",
       " 'split3_test_score': array([0.59647528, 0.59920214, 0.59071858, 0.58930465, 0.60303994]),\n",
       " 'split4_test_score': array([0.59051659, 0.58814321, 0.58576983, 0.58794122, 0.59344544]),\n",
       " 'split5_test_score': array([0.58986012, 0.59006211, 0.58566884, 0.58758774, 0.59475837]),\n",
       " 'split6_test_score': array([0.59002071, 0.59875764, 0.58744508, 0.59012171, 0.59835362]),\n",
       " 'split7_test_score': array([0.58714206, 0.59537397, 0.58724307, 0.59077824, 0.59517196]),\n",
       " 'split8_test_score': array([0.59234382, 0.59481844, 0.58593   , 0.59007121, 0.59608101]),\n",
       " 'split9_test_score': array([0.59709106, 0.59870714, 0.59724256, 0.59820211, 0.5979496 ]),\n",
       " 'mean_test_score': array([0.59260587, 0.5948127 , 0.58852047, 0.59122724, 0.59649433]),\n",
       " 'std_test_score': array([0.00334665, 0.00361733, 0.00328264, 0.00372823, 0.00276252]),\n",
       " 'rank_test_score': array([3, 2, 5, 4, 1]),\n",
       " 'split0_train_score': array([0.66047952, 0.62812607, 0.68327732, 0.66693787, 0.62152745]),\n",
       " 'split1_train_score': array([0.66166346, 0.62916412, 0.68436586, 0.66757192, 0.62306488]),\n",
       " 'split2_train_score': array([0.66187668, 0.62833368, 0.68303043, 0.66623648, 0.62195389]),\n",
       " 'split3_train_score': array([0.66147268, 0.62925951, 0.68143688, 0.66706692, 0.62185289]),\n",
       " 'split4_train_score': array([0.66180935, 0.62883306, 0.68322121, 0.66732503, 0.62166772]),\n",
       " 'split5_train_score': array([0.66222457, 0.62993284, 0.68338954, 0.66790858, 0.62271699]),\n",
       " 'split6_train_score': array([0.66170653, 0.62838835, 0.68302837, 0.6673456 , 0.62195252]),\n",
       " 'split7_train_score': array([0.66239108, 0.62942639, 0.6844704 , 0.6680077 , 0.62301861]),\n",
       " 'split8_train_score': array([0.66094344, 0.62831541, 0.68347164, 0.66739049, 0.62239018]),\n",
       " 'split9_train_score': array([0.66058994, 0.62830418, 0.68288249, 0.66616168, 0.62129603]),\n",
       " 'mean_train_score': array([0.66151572, 0.62880836, 0.68325741, 0.66719523, 0.62214412]),\n",
       " 'std_train_score': array([0.00061673, 0.00057806, 0.00079523, 0.0005881 , 0.00059038])}"
      ]
     },
     "execution_count": 17,
     "metadata": {},
     "output_type": "execute_result"
    }
   ],
   "source": [
    "rand_kNN.cv_results_"
   ]
  },
  {
   "cell_type": "code",
   "execution_count": 18,
   "metadata": {},
   "outputs": [],
   "source": [
    "kNN_last_score = cross_val_score(KNeighborsClassifier(n_neighbors=3, p=2), pca_train_img, y_train, cv=10, n_jobs=-1)"
   ]
  },
  {
   "cell_type": "code",
   "execution_count": 21,
   "metadata": {},
   "outputs": [
    {
     "data": {
      "text/plain": [
       "0.5784004227918418"
      ]
     },
     "execution_count": 21,
     "metadata": {},
     "output_type": "execute_result"
    }
   ],
   "source": [
    "kNN_last_score.mean()"
   ]
  },
  {
   "cell_type": "code",
   "execution_count": 39,
   "metadata": {},
   "outputs": [
    {
     "data": {
      "image/png": "[encoded data removed]",
      "text/plain": [
       "<Figure size 576x432 with 1 Axes>"
      ]
     },
     "metadata": {
      "needs_background": "light"
     },
     "output_type": "display_data"
    }
   ],
   "source": [
    "# from mpl_toolkits.mplot3d import Axes3D\n",
    "xs = [];\n",
    "ys = [];\n",
    "zs = [];\n",
    "for i in range(0, len(rand_kNN.cv_results_['params'])):\n",
    "    xs.append(rand_kNN.cv_results_['params'][i]['n_neighbors'])\n",
    "    ys.append(rand_kNN.cv_results_['params'][i]['p'])\n",
    "    zs.append(rand_kNN.cv_results_['mean_test_score'][i])\n",
    "\n",
    "\n",
    "xs.append(3)\n",
    "ys.append(2)\n",
    "zs.append(0.5784004227918418)\n",
    "\n",
    "# print(xs, ys, zs)\n",
    "    \n",
    "# fig = plt.figure(figsize=(8, 6))\n",
    "\n",
    "# ax = fig.add_subplot(111)\n",
    "\n",
    "# ax.scatter(xs, zs, label=ys)\n",
    "\n",
    "\n",
    "# # ax.set_zlabel('Mean 10-fold score')\n",
    "\n",
    "# plt.savefig(\"gridSearchCredit\")\n",
    "\n",
    "scatter_x = np.array(xs)\n",
    "scatter_y = np.array(zs)\n",
    "group = np.array(ys)\n",
    "cdict = {1: 'red', 2: 'blue'}\n",
    "\n",
    "fig = plt.figure(figsize=(8, 6))\n",
    "ax = fig.add_subplot(111)\n",
    "for g in np.unique(group):\n",
    "    ix = np.where(group == g)\n",
    "    ax.scatter(scatter_x[ix], scatter_y[ix], c = cdict[g], label = g, s = 100)\n",
    "ax.set_xlabel('Number of Neighboors')\n",
    "ax.set_ylabel('Mean 10-fold score')\n",
    "ax.legend(title=\"Power of Minkowski Metric\")\n",
    "plt.show()\n",
    "\n"
   ]
  },
  {
   "cell_type": "code",
   "execution_count": 6,
   "metadata": {},
   "outputs": [],
   "source": [
    "best_dtc = DecisionTreeClassifier(max_depth=200, max_leaf_nodes=76)\n",
    "adaboost = AdaBoostClassifier(base_estimator = best_dtc, n_estimators=100)"
   ]
  },
  {
   "cell_type": "code",
   "execution_count": 7,
   "metadata": {
    "scrolled": true
   },
   "outputs": [
    {
     "name": "stderr",
     "output_type": "stream",
     "text": [
      "[Parallel(n_jobs=-1)]: Using backend LokyBackend with 8 concurrent workers.\n",
      "[Parallel(n_jobs=-1)]: Done   3 out of  10 | elapsed: 280.2min remaining: 653.7min\n",
      "[Parallel(n_jobs=-1)]: Done   5 out of  10 | elapsed: 283.4min remaining: 283.4min\n",
      "[Parallel(n_jobs=-1)]: Done   7 out of  10 | elapsed: 284.1min remaining: 121.8min\n",
      "[Parallel(n_jobs=-1)]: Done  10 out of  10 | elapsed: 430.8min finished\n"
     ]
    },
    {
     "name": "stdout",
     "output_type": "stream",
     "text": [
      "adaboost Cross Validation Score 68.96%\n"
     ]
    }
   ],
   "source": [
    "adaboost_score = cross_val_score(adaboost, X_train, y_train, cv=10, verbose=10, n_jobs=-1)\n",
    "print('adaboost Cross Validation Score', round(adaboost_score.mean() * 100, 2).astype(str) + '%')"
   ]
  },
  {
   "cell_type": "code",
   "execution_count": 13,
   "metadata": {},
   "outputs": [],
   "source": [
    "best_dtc2 = DecisionTreeClassifier(max_depth=200, max_leaf_nodes=200)\n",
    "adaboost2 = AdaBoostClassifier(base_estimator = best_dtc2, n_estimators=10)"
   ]
  },
  {
   "cell_type": "code",
   "execution_count": 10,
   "metadata": {},
   "outputs": [
    {
     "data": {
      "text/plain": [
       "AdaBoostClassifier(algorithm='SAMME.R',\n",
       "          base_estimator=DecisionTreeClassifier(class_weight=None, criterion='gini', max_depth=200,\n",
       "            max_features=None, max_leaf_nodes=76,\n",
       "            min_impurity_decrease=0.0, min_impurity_split=None,\n",
       "            min_samples_leaf=1, min_samples_split=2,\n",
       "            min_weight_fraction_leaf=0.0, presort=False, random_state=None,\n",
       "            splitter='best'),\n",
       "          learning_rate=1.0, n_estimators=100, random_state=None)"
      ]
     },
     "execution_count": 10,
     "metadata": {},
     "output_type": "execute_result"
    }
   ],
   "source": [
    "adaboost_score2 = cross_val_score(adaboost2, X_train, y_train, cv=10, verbose=10, n_jobs=-1)\n",
    "print('adaboost Cross Validation Score', round(adaboost_score2.mean() * 100, 2).astype(str) + '%')"
   ]
  },
  {
   "cell_type": "code",
   "execution_count": 16,
   "metadata": {},
   "outputs": [
    {
     "data": {
      "text/plain": [
       "545"
      ]
     },
     "execution_count": 16,
     "metadata": {},
     "output_type": "execute_result"
    }
   ],
   "source": [
    "random.randint(1, 1000)"
   ]
  },
  {
   "cell_type": "code",
   "execution_count": 17,
   "metadata": {},
   "outputs": [],
   "source": [
    "using_10_estimators = [.6931273039438469, 0.6941568607646078, 0.6939352623339898, 0.6995101257512247, 0.7040347422107761, 0.6887340301974448, 0.6955006817148917, 0.6918648689592486, 0.7022372607444068, 0.700621180748447]"
   ]
  },
  {
   "cell_type": "code",
   "execution_count": 19,
   "metadata": {},
   "outputs": [
    {
     "data": {
      "text/plain": [
       "0.6963722317368883"
      ]
     },
     "execution_count": 19,
     "metadata": {},
     "output_type": "execute_result"
    }
   ],
   "source": [
    "sum(using_10_estimators)/float(len(using_10_estimators))"
   ]
  },
  {
   "cell_type": "code",
   "execution_count": 24,
   "metadata": {},
   "outputs": [],
   "source": [
    "ys = [sum(using_10_estimators)/float(len(using_10_estimators))]\n",
    "ys.append(adaboost_score.mean())"
   ]
  },
  {
   "cell_type": "code",
   "execution_count": 25,
   "metadata": {},
   "outputs": [],
   "source": [
    "xs = [10, 100]"
   ]
  },
  {
   "cell_type": "code",
   "execution_count": 26,
   "metadata": {},
   "outputs": [
    {
     "data": {
      "text/plain": [
       "<matplotlib.collections.PathCollection at 0x26034c33908>"
      ]
     },
     "execution_count": 26,
     "metadata": {},
     "output_type": "execute_result"
    },
    {
     "data": {
      "image/png": "[encoded data removed]",
      "text/plain": [
       "<Figure size 432x288 with 1 Axes>"
      ]
     },
     "metadata": {
      "needs_background": "light"
     },
     "output_type": "display_data"
    }
   ],
   "source": [
    "plt.xlabel(\"Number of Estimators\")\n",
    "plt.ylabel(\"10-fold Mean Accuracy\")\n",
    "plt.scatter(xs, ys) #382 max"
   ]
  },
  {
   "cell_type": "code",
   "execution_count": null,
   "metadata": {},
   "outputs": [
    {
     "name": "stderr",
     "output_type": "stream",
     "text": [
      "C:\\ProgramData\\Anaconda3\\lib\\site-packages\\sklearn\\svm\\base.py:196: FutureWarning: The default value of gamma will change from 'auto' to 'scale' in version 0.22 to account better for unscaled features. Set gamma explicitly to 'auto' or 'scale' to avoid this warning.\n",
      "  \"avoid this warning.\", FutureWarning)\n"
     ]
    },
    {
     "name": "stdout",
     "output_type": "stream",
     "text": [
      "[LibSVM]"
     ]
    }
   ],
   "source": [
    "param_dist = {\n",
    "              \"kernel\": [\"linear\", \"rbf\", \"sigmoid\"],\n",
    "              \"C\": [50, 100],\n",
    "}\n",
    "\n",
    "svm = GridSearchCV(SVC(), param_dist, cv=10, n_jobs=6, verbose=100)\n",
    "svm.fit(X_train, y_train)\n"
   ]
  },
  {
   "cell_type": "code",
   "execution_count": null,
   "metadata": {},
   "outputs": [],
   "source": [
    "rand_kNN.cv_results_"
   ]
  }
 ],
 "metadata": {
  "kernelspec": {
   "display_name": "Python 3",
   "language": "python",
   "name": "python3"
  },
  "language_info": {
   "codemirror_mode": {
    "name": "ipython",
    "version": 3
   },
   "file_extension": ".py",
   "mimetype": "text/x-python",
   "name": "python",
   "nbconvert_exporter": "python",
   "pygments_lexer": "ipython3",
   "version": "3.6.6"
  }
 },
 "nbformat": 4,
 "nbformat_minor": 2
}
