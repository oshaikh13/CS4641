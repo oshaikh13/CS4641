{
 "cells": [
  {
   "cell_type": "code",
   "execution_count": 66,
   "metadata": {},
   "outputs": [],
   "source": [
    "import numpy as np # linear algebra\n",
    "import pandas as pd # data processing, CSV file I/O (e.g. pd.read_csv)\n",
    "import matplotlib.pyplot as plt\n",
    "from mpl_toolkits.mplot3d import Axes3D\n",
    "import seaborn as sns\n",
    "from sklearn.manifold import TSNE\n",
    "from sklearn.decomposition import PCA, TruncatedSVD\n",
    "import matplotlib.patches as mpatches\n",
    "from matplotlib import cm\n",
    "import time\n",
    "import gc\n",
    "\n",
    "# Classifier Libraries\n",
    "import collections\n",
    "from scipy.stats import randint, uniform\n",
    "from sklearn.model_selection import cross_val_score\n",
    "from sklearn.model_selection import RandomizedSearchCV\n",
    "from sklearn.metrics import roc_auc_score\n",
    "import time\n",
    "\n",
    "from sklearn.model_selection import train_test_split\n",
    "from sklearn.model_selection import StratifiedShuffleSplit\n",
    "from tqdm import tqdm_notebook,trange, tqdm\n",
    "\n",
    "# Other Libraries\n",
    "# from imblearn.datasets import fetch_datasets\n",
    "from sklearn.model_selection import train_test_split\n",
    "from sklearn.pipeline import make_pipeline\n",
    "from imblearn.pipeline import make_pipeline as imbalanced_make_pipeline\n",
    "# from imblearn.under_sampling import NearMiss\n",
    "from imblearn.metrics import classification_report_imbalanced\n",
    "from sklearn.metrics import precision_score, recall_score, f1_score, roc_auc_score, accuracy_score, classification_report\n",
    "from collections import Counter\n",
    "from sklearn.model_selection import KFold, StratifiedKFold\n",
    "from sklearn.preprocessing import StandardScaler, RobustScaler\n",
    "from sklearn.metrics.scorer import make_scorer\n",
    "from sklearn.model_selection import StratifiedKFold\n",
    "\n",
    "import warnings\n",
    "warnings.filterwarnings(\"ignore\")\n",
    "import mlrose"
   ]
  },
  {
   "cell_type": "code",
   "execution_count": 14,
   "metadata": {},
   "outputs": [
    {
     "data": {
      "text/html": [
       "<div>\n",
       "<style scoped>\n",
       "    .dataframe tbody tr th:only-of-type {\n",
       "        vertical-align: middle;\n",
       "    }\n",
       "\n",
       "    .dataframe tbody tr th {\n",
       "        vertical-align: top;\n",
       "    }\n",
       "\n",
       "    .dataframe thead th {\n",
       "        text-align: right;\n",
       "    }\n",
       "</style>\n",
       "<table border=\"1\" class=\"dataframe\">\n",
       "  <thead>\n",
       "    <tr style=\"text-align: right;\">\n",
       "      <th></th>\n",
       "      <th>Time</th>\n",
       "      <th>V1</th>\n",
       "      <th>V2</th>\n",
       "      <th>V3</th>\n",
       "      <th>V4</th>\n",
       "      <th>V5</th>\n",
       "      <th>V6</th>\n",
       "      <th>V7</th>\n",
       "      <th>V8</th>\n",
       "      <th>V9</th>\n",
       "      <th>...</th>\n",
       "      <th>V21</th>\n",
       "      <th>V22</th>\n",
       "      <th>V23</th>\n",
       "      <th>V24</th>\n",
       "      <th>V25</th>\n",
       "      <th>V26</th>\n",
       "      <th>V27</th>\n",
       "      <th>V28</th>\n",
       "      <th>Amount</th>\n",
       "      <th>Class</th>\n",
       "    </tr>\n",
       "  </thead>\n",
       "  <tbody>\n",
       "    <tr>\n",
       "      <th>0</th>\n",
       "      <td>0.0</td>\n",
       "      <td>-1.359807</td>\n",
       "      <td>-0.072781</td>\n",
       "      <td>2.536347</td>\n",
       "      <td>1.378155</td>\n",
       "      <td>-0.338321</td>\n",
       "      <td>0.462388</td>\n",
       "      <td>0.239599</td>\n",
       "      <td>0.098698</td>\n",
       "      <td>0.363787</td>\n",
       "      <td>...</td>\n",
       "      <td>-0.018307</td>\n",
       "      <td>0.277838</td>\n",
       "      <td>-0.110474</td>\n",
       "      <td>0.066928</td>\n",
       "      <td>0.128539</td>\n",
       "      <td>-0.189115</td>\n",
       "      <td>0.133558</td>\n",
       "      <td>-0.021053</td>\n",
       "      <td>149.62</td>\n",
       "      <td>0</td>\n",
       "    </tr>\n",
       "    <tr>\n",
       "      <th>1</th>\n",
       "      <td>0.0</td>\n",
       "      <td>1.191857</td>\n",
       "      <td>0.266151</td>\n",
       "      <td>0.166480</td>\n",
       "      <td>0.448154</td>\n",
       "      <td>0.060018</td>\n",
       "      <td>-0.082361</td>\n",
       "      <td>-0.078803</td>\n",
       "      <td>0.085102</td>\n",
       "      <td>-0.255425</td>\n",
       "      <td>...</td>\n",
       "      <td>-0.225775</td>\n",
       "      <td>-0.638672</td>\n",
       "      <td>0.101288</td>\n",
       "      <td>-0.339846</td>\n",
       "      <td>0.167170</td>\n",
       "      <td>0.125895</td>\n",
       "      <td>-0.008983</td>\n",
       "      <td>0.014724</td>\n",
       "      <td>2.69</td>\n",
       "      <td>0</td>\n",
       "    </tr>\n",
       "    <tr>\n",
       "      <th>2</th>\n",
       "      <td>1.0</td>\n",
       "      <td>-1.358354</td>\n",
       "      <td>-1.340163</td>\n",
       "      <td>1.773209</td>\n",
       "      <td>0.379780</td>\n",
       "      <td>-0.503198</td>\n",
       "      <td>1.800499</td>\n",
       "      <td>0.791461</td>\n",
       "      <td>0.247676</td>\n",
       "      <td>-1.514654</td>\n",
       "      <td>...</td>\n",
       "      <td>0.247998</td>\n",
       "      <td>0.771679</td>\n",
       "      <td>0.909412</td>\n",
       "      <td>-0.689281</td>\n",
       "      <td>-0.327642</td>\n",
       "      <td>-0.139097</td>\n",
       "      <td>-0.055353</td>\n",
       "      <td>-0.059752</td>\n",
       "      <td>378.66</td>\n",
       "      <td>0</td>\n",
       "    </tr>\n",
       "    <tr>\n",
       "      <th>3</th>\n",
       "      <td>1.0</td>\n",
       "      <td>-0.966272</td>\n",
       "      <td>-0.185226</td>\n",
       "      <td>1.792993</td>\n",
       "      <td>-0.863291</td>\n",
       "      <td>-0.010309</td>\n",
       "      <td>1.247203</td>\n",
       "      <td>0.237609</td>\n",
       "      <td>0.377436</td>\n",
       "      <td>-1.387024</td>\n",
       "      <td>...</td>\n",
       "      <td>-0.108300</td>\n",
       "      <td>0.005274</td>\n",
       "      <td>-0.190321</td>\n",
       "      <td>-1.175575</td>\n",
       "      <td>0.647376</td>\n",
       "      <td>-0.221929</td>\n",
       "      <td>0.062723</td>\n",
       "      <td>0.061458</td>\n",
       "      <td>123.50</td>\n",
       "      <td>0</td>\n",
       "    </tr>\n",
       "    <tr>\n",
       "      <th>4</th>\n",
       "      <td>2.0</td>\n",
       "      <td>-1.158233</td>\n",
       "      <td>0.877737</td>\n",
       "      <td>1.548718</td>\n",
       "      <td>0.403034</td>\n",
       "      <td>-0.407193</td>\n",
       "      <td>0.095921</td>\n",
       "      <td>0.592941</td>\n",
       "      <td>-0.270533</td>\n",
       "      <td>0.817739</td>\n",
       "      <td>...</td>\n",
       "      <td>-0.009431</td>\n",
       "      <td>0.798278</td>\n",
       "      <td>-0.137458</td>\n",
       "      <td>0.141267</td>\n",
       "      <td>-0.206010</td>\n",
       "      <td>0.502292</td>\n",
       "      <td>0.219422</td>\n",
       "      <td>0.215153</td>\n",
       "      <td>69.99</td>\n",
       "      <td>0</td>\n",
       "    </tr>\n",
       "  </tbody>\n",
       "</table>\n",
       "<p>5 rows × 31 columns</p>\n",
       "</div>"
      ],
      "text/plain": [
       "   Time        V1        V2        V3        V4        V5        V6        V7  \\\n",
       "0   0.0 -1.359807 -0.072781  2.536347  1.378155 -0.338321  0.462388  0.239599   \n",
       "1   0.0  1.191857  0.266151  0.166480  0.448154  0.060018 -0.082361 -0.078803   \n",
       "2   1.0 -1.358354 -1.340163  1.773209  0.379780 -0.503198  1.800499  0.791461   \n",
       "3   1.0 -0.966272 -0.185226  1.792993 -0.863291 -0.010309  1.247203  0.237609   \n",
       "4   2.0 -1.158233  0.877737  1.548718  0.403034 -0.407193  0.095921  0.592941   \n",
       "\n",
       "         V8        V9  ...         V21       V22       V23       V24  \\\n",
       "0  0.098698  0.363787  ...   -0.018307  0.277838 -0.110474  0.066928   \n",
       "1  0.085102 -0.255425  ...   -0.225775 -0.638672  0.101288 -0.339846   \n",
       "2  0.247676 -1.514654  ...    0.247998  0.771679  0.909412 -0.689281   \n",
       "3  0.377436 -1.387024  ...   -0.108300  0.005274 -0.190321 -1.175575   \n",
       "4 -0.270533  0.817739  ...   -0.009431  0.798278 -0.137458  0.141267   \n",
       "\n",
       "        V25       V26       V27       V28  Amount  Class  \n",
       "0  0.128539 -0.189115  0.133558 -0.021053  149.62      0  \n",
       "1  0.167170  0.125895 -0.008983  0.014724    2.69      0  \n",
       "2 -0.327642 -0.139097 -0.055353 -0.059752  378.66      0  \n",
       "3  0.647376 -0.221929  0.062723  0.061458  123.50      0  \n",
       "4 -0.206010  0.502292  0.219422  0.215153   69.99      0  \n",
       "\n",
       "[5 rows x 31 columns]"
      ]
     },
     "execution_count": 14,
     "metadata": {},
     "output_type": "execute_result"
    }
   ],
   "source": [
    "df = pd.read_csv(\"../data/creditcardfraud/creditcard.csv\")\n",
    "df.head()"
   ]
  },
  {
   "cell_type": "code",
   "execution_count": 15,
   "metadata": {},
   "outputs": [],
   "source": [
    "std_scaler = StandardScaler()\n",
    "rob_scaler = RobustScaler()\n",
    "\n",
    "df['scaled_amount'] = rob_scaler.fit_transform(df['Amount'].values.reshape(-1,1))\n",
    "df['scaled_time'] = rob_scaler.fit_transform(df['Time'].values.reshape(-1,1))\n",
    "\n",
    "df.drop(['Time','Amount'], axis=1, inplace=True)"
   ]
  },
  {
   "cell_type": "code",
   "execution_count": 16,
   "metadata": {},
   "outputs": [
    {
     "name": "stdout",
     "output_type": "stream",
     "text": [
      "Train: [265518 180305  42664 ...  29062  13766  17677] Test: [263020  11378 147283 ... 274532 269819  64170]\n",
      "Train: [ 72227 114282  16818 ... 264471 191914 284017] Test: [202638  32978 128121 ... 244024 127667  48318]\n",
      "Train: [ 20895 114622 167683 ... 244502 178972 218506] Test: [284352  82483  90981 ... 171224 168807 271602]\n",
      "Train: [122248 181660 194400 ... 104631 277586  29432] Test: [225673  63348  68025 ... 279451  77554  76043]\n",
      "Train: [241684 223467 136928 ...  86495 160550  49633] Test: [157557 204860  83760 ... 251478 178967 216850]\n"
     ]
    },
    {
     "data": {
      "text/html": [
       "<div>\n",
       "<style scoped>\n",
       "    .dataframe tbody tr th:only-of-type {\n",
       "        vertical-align: middle;\n",
       "    }\n",
       "\n",
       "    .dataframe tbody tr th {\n",
       "        vertical-align: top;\n",
       "    }\n",
       "\n",
       "    .dataframe thead th {\n",
       "        text-align: right;\n",
       "    }\n",
       "</style>\n",
       "<table border=\"1\" class=\"dataframe\">\n",
       "  <thead>\n",
       "    <tr style=\"text-align: right;\">\n",
       "      <th></th>\n",
       "      <th>scaled_amount</th>\n",
       "      <th>scaled_time</th>\n",
       "      <th>V1</th>\n",
       "      <th>V2</th>\n",
       "      <th>V3</th>\n",
       "      <th>V4</th>\n",
       "      <th>V5</th>\n",
       "      <th>V6</th>\n",
       "      <th>V7</th>\n",
       "      <th>V8</th>\n",
       "      <th>...</th>\n",
       "      <th>V20</th>\n",
       "      <th>V21</th>\n",
       "      <th>V22</th>\n",
       "      <th>V23</th>\n",
       "      <th>V24</th>\n",
       "      <th>V25</th>\n",
       "      <th>V26</th>\n",
       "      <th>V27</th>\n",
       "      <th>V28</th>\n",
       "      <th>Class</th>\n",
       "    </tr>\n",
       "  </thead>\n",
       "  <tbody>\n",
       "    <tr>\n",
       "      <th>0</th>\n",
       "      <td>1.783274</td>\n",
       "      <td>-0.994983</td>\n",
       "      <td>-1.359807</td>\n",
       "      <td>-0.072781</td>\n",
       "      <td>2.536347</td>\n",
       "      <td>1.378155</td>\n",
       "      <td>-0.338321</td>\n",
       "      <td>0.462388</td>\n",
       "      <td>0.239599</td>\n",
       "      <td>0.098698</td>\n",
       "      <td>...</td>\n",
       "      <td>0.251412</td>\n",
       "      <td>-0.018307</td>\n",
       "      <td>0.277838</td>\n",
       "      <td>-0.110474</td>\n",
       "      <td>0.066928</td>\n",
       "      <td>0.128539</td>\n",
       "      <td>-0.189115</td>\n",
       "      <td>0.133558</td>\n",
       "      <td>-0.021053</td>\n",
       "      <td>0</td>\n",
       "    </tr>\n",
       "    <tr>\n",
       "      <th>1</th>\n",
       "      <td>-0.269825</td>\n",
       "      <td>-0.994983</td>\n",
       "      <td>1.191857</td>\n",
       "      <td>0.266151</td>\n",
       "      <td>0.166480</td>\n",
       "      <td>0.448154</td>\n",
       "      <td>0.060018</td>\n",
       "      <td>-0.082361</td>\n",
       "      <td>-0.078803</td>\n",
       "      <td>0.085102</td>\n",
       "      <td>...</td>\n",
       "      <td>-0.069083</td>\n",
       "      <td>-0.225775</td>\n",
       "      <td>-0.638672</td>\n",
       "      <td>0.101288</td>\n",
       "      <td>-0.339846</td>\n",
       "      <td>0.167170</td>\n",
       "      <td>0.125895</td>\n",
       "      <td>-0.008983</td>\n",
       "      <td>0.014724</td>\n",
       "      <td>0</td>\n",
       "    </tr>\n",
       "    <tr>\n",
       "      <th>2</th>\n",
       "      <td>4.983721</td>\n",
       "      <td>-0.994972</td>\n",
       "      <td>-1.358354</td>\n",
       "      <td>-1.340163</td>\n",
       "      <td>1.773209</td>\n",
       "      <td>0.379780</td>\n",
       "      <td>-0.503198</td>\n",
       "      <td>1.800499</td>\n",
       "      <td>0.791461</td>\n",
       "      <td>0.247676</td>\n",
       "      <td>...</td>\n",
       "      <td>0.524980</td>\n",
       "      <td>0.247998</td>\n",
       "      <td>0.771679</td>\n",
       "      <td>0.909412</td>\n",
       "      <td>-0.689281</td>\n",
       "      <td>-0.327642</td>\n",
       "      <td>-0.139097</td>\n",
       "      <td>-0.055353</td>\n",
       "      <td>-0.059752</td>\n",
       "      <td>0</td>\n",
       "    </tr>\n",
       "    <tr>\n",
       "      <th>3</th>\n",
       "      <td>1.418291</td>\n",
       "      <td>-0.994972</td>\n",
       "      <td>-0.966272</td>\n",
       "      <td>-0.185226</td>\n",
       "      <td>1.792993</td>\n",
       "      <td>-0.863291</td>\n",
       "      <td>-0.010309</td>\n",
       "      <td>1.247203</td>\n",
       "      <td>0.237609</td>\n",
       "      <td>0.377436</td>\n",
       "      <td>...</td>\n",
       "      <td>-0.208038</td>\n",
       "      <td>-0.108300</td>\n",
       "      <td>0.005274</td>\n",
       "      <td>-0.190321</td>\n",
       "      <td>-1.175575</td>\n",
       "      <td>0.647376</td>\n",
       "      <td>-0.221929</td>\n",
       "      <td>0.062723</td>\n",
       "      <td>0.061458</td>\n",
       "      <td>0</td>\n",
       "    </tr>\n",
       "    <tr>\n",
       "      <th>4</th>\n",
       "      <td>0.670579</td>\n",
       "      <td>-0.994960</td>\n",
       "      <td>-1.158233</td>\n",
       "      <td>0.877737</td>\n",
       "      <td>1.548718</td>\n",
       "      <td>0.403034</td>\n",
       "      <td>-0.407193</td>\n",
       "      <td>0.095921</td>\n",
       "      <td>0.592941</td>\n",
       "      <td>-0.270533</td>\n",
       "      <td>...</td>\n",
       "      <td>0.408542</td>\n",
       "      <td>-0.009431</td>\n",
       "      <td>0.798278</td>\n",
       "      <td>-0.137458</td>\n",
       "      <td>0.141267</td>\n",
       "      <td>-0.206010</td>\n",
       "      <td>0.502292</td>\n",
       "      <td>0.219422</td>\n",
       "      <td>0.215153</td>\n",
       "      <td>0</td>\n",
       "    </tr>\n",
       "  </tbody>\n",
       "</table>\n",
       "<p>5 rows × 31 columns</p>\n",
       "</div>"
      ],
      "text/plain": [
       "   scaled_amount  scaled_time        V1        V2        V3        V4  \\\n",
       "0       1.783274    -0.994983 -1.359807 -0.072781  2.536347  1.378155   \n",
       "1      -0.269825    -0.994983  1.191857  0.266151  0.166480  0.448154   \n",
       "2       4.983721    -0.994972 -1.358354 -1.340163  1.773209  0.379780   \n",
       "3       1.418291    -0.994972 -0.966272 -0.185226  1.792993 -0.863291   \n",
       "4       0.670579    -0.994960 -1.158233  0.877737  1.548718  0.403034   \n",
       "\n",
       "         V5        V6        V7        V8  ...         V20       V21  \\\n",
       "0 -0.338321  0.462388  0.239599  0.098698  ...    0.251412 -0.018307   \n",
       "1  0.060018 -0.082361 -0.078803  0.085102  ...   -0.069083 -0.225775   \n",
       "2 -0.503198  1.800499  0.791461  0.247676  ...    0.524980  0.247998   \n",
       "3 -0.010309  1.247203  0.237609  0.377436  ...   -0.208038 -0.108300   \n",
       "4 -0.407193  0.095921  0.592941 -0.270533  ...    0.408542 -0.009431   \n",
       "\n",
       "        V22       V23       V24       V25       V26       V27       V28  Class  \n",
       "0  0.277838 -0.110474  0.066928  0.128539 -0.189115  0.133558 -0.021053      0  \n",
       "1 -0.638672  0.101288 -0.339846  0.167170  0.125895 -0.008983  0.014724      0  \n",
       "2  0.771679  0.909412 -0.689281 -0.327642 -0.139097 -0.055353 -0.059752      0  \n",
       "3  0.005274 -0.190321 -1.175575  0.647376 -0.221929  0.062723  0.061458      0  \n",
       "4  0.798278 -0.137458  0.141267 -0.206010  0.502292  0.219422  0.215153      0  \n",
       "\n",
       "[5 rows x 31 columns]"
      ]
     },
     "execution_count": 16,
     "metadata": {},
     "output_type": "execute_result"
    }
   ],
   "source": [
    "\n",
    "X = df.drop('Class', axis=1)\n",
    "y = df['Class']\n",
    "\n",
    "sss = StratifiedShuffleSplit(n_splits=5, test_size=0.2, random_state=42)\n",
    "\n",
    "for train_index, test_index in sss.split(X, y):\n",
    "    print(\"Train:\", train_index, \"Test:\", test_index)\n",
    "    original_Xtrain, original_Xtest = X.iloc[train_index], X.iloc[test_index]\n",
    "    original_ytrain, original_ytest = y.iloc[train_index], y.iloc[test_index]\n",
    "\n",
    "# We already have X_train and y_train for undersample data thats why I am using original to distinguish and to not overwrite these variables.\n",
    "# original_Xtrain, original_Xtest, original_ytrain, original_ytest = train_test_split(X, y, test_size=0.2, random_state=42)\n",
    "\n",
    "# Check the Distribution of the labels\n",
    "\n",
    "\n",
    "# Turn into an array\n",
    "original_Xtrain = original_Xtrain.values\n",
    "original_Xtest = original_Xtest.values\n",
    "original_ytrain = original_ytrain.values\n",
    "original_ytest = original_ytest.values\n",
    "scaled_amount = df['scaled_amount']\n",
    "scaled_time = df['scaled_time']\n",
    "\n",
    "df.drop(['scaled_amount', 'scaled_time'], axis=1, inplace=True)\n",
    "df.insert(0, 'scaled_amount', scaled_amount)\n",
    "df.insert(1, 'scaled_time', scaled_time)\n",
    "\n",
    "# Amount and Time are Scaled!\n",
    "\n",
    "df.head()"
   ]
  },
  {
   "cell_type": "code",
   "execution_count": 17,
   "metadata": {},
   "outputs": [
    {
     "data": {
      "text/html": [
       "<div>\n",
       "<style scoped>\n",
       "    .dataframe tbody tr th:only-of-type {\n",
       "        vertical-align: middle;\n",
       "    }\n",
       "\n",
       "    .dataframe tbody tr th {\n",
       "        vertical-align: top;\n",
       "    }\n",
       "\n",
       "    .dataframe thead th {\n",
       "        text-align: right;\n",
       "    }\n",
       "</style>\n",
       "<table border=\"1\" class=\"dataframe\">\n",
       "  <thead>\n",
       "    <tr style=\"text-align: right;\">\n",
       "      <th></th>\n",
       "      <th>scaled_amount</th>\n",
       "      <th>scaled_time</th>\n",
       "      <th>V1</th>\n",
       "      <th>V2</th>\n",
       "      <th>V3</th>\n",
       "      <th>V4</th>\n",
       "      <th>V5</th>\n",
       "      <th>V6</th>\n",
       "      <th>V7</th>\n",
       "      <th>V8</th>\n",
       "      <th>...</th>\n",
       "      <th>V20</th>\n",
       "      <th>V21</th>\n",
       "      <th>V22</th>\n",
       "      <th>V23</th>\n",
       "      <th>V24</th>\n",
       "      <th>V25</th>\n",
       "      <th>V26</th>\n",
       "      <th>V27</th>\n",
       "      <th>V28</th>\n",
       "      <th>Class</th>\n",
       "    </tr>\n",
       "  </thead>\n",
       "  <tbody>\n",
       "    <tr>\n",
       "      <th>237802</th>\n",
       "      <td>-0.296793</td>\n",
       "      <td>0.760206</td>\n",
       "      <td>2.161543</td>\n",
       "      <td>0.068915</td>\n",
       "      <td>-2.465194</td>\n",
       "      <td>-0.051840</td>\n",
       "      <td>1.251262</td>\n",
       "      <td>-0.251903</td>\n",
       "      <td>0.578921</td>\n",
       "      <td>-0.291859</td>\n",
       "      <td>...</td>\n",
       "      <td>-0.129114</td>\n",
       "      <td>0.084667</td>\n",
       "      <td>0.423257</td>\n",
       "      <td>-0.141324</td>\n",
       "      <td>-0.195630</td>\n",
       "      <td>0.527179</td>\n",
       "      <td>0.720999</td>\n",
       "      <td>-0.118347</td>\n",
       "      <td>-0.097244</td>\n",
       "      <td>0</td>\n",
       "    </tr>\n",
       "    <tr>\n",
       "      <th>6717</th>\n",
       "      <td>-0.293440</td>\n",
       "      <td>-0.896204</td>\n",
       "      <td>-1.813280</td>\n",
       "      <td>4.917851</td>\n",
       "      <td>-5.926130</td>\n",
       "      <td>5.701500</td>\n",
       "      <td>1.204393</td>\n",
       "      <td>-3.035138</td>\n",
       "      <td>-1.713402</td>\n",
       "      <td>0.561257</td>\n",
       "      <td>...</td>\n",
       "      <td>0.576656</td>\n",
       "      <td>0.615642</td>\n",
       "      <td>-0.406427</td>\n",
       "      <td>-0.737018</td>\n",
       "      <td>-0.279642</td>\n",
       "      <td>1.106766</td>\n",
       "      <td>0.323885</td>\n",
       "      <td>0.894767</td>\n",
       "      <td>0.569519</td>\n",
       "      <td>1</td>\n",
       "    </tr>\n",
       "    <tr>\n",
       "      <th>60693</th>\n",
       "      <td>-0.279466</td>\n",
       "      <td>-0.414020</td>\n",
       "      <td>-0.117841</td>\n",
       "      <td>0.392402</td>\n",
       "      <td>0.999877</td>\n",
       "      <td>-0.831140</td>\n",
       "      <td>-0.555012</td>\n",
       "      <td>-1.063975</td>\n",
       "      <td>0.343171</td>\n",
       "      <td>-0.248752</td>\n",
       "      <td>...</td>\n",
       "      <td>-0.450110</td>\n",
       "      <td>-0.314370</td>\n",
       "      <td>-0.504158</td>\n",
       "      <td>-0.013244</td>\n",
       "      <td>0.392363</td>\n",
       "      <td>-0.681389</td>\n",
       "      <td>0.994878</td>\n",
       "      <td>-0.057940</td>\n",
       "      <td>0.139269</td>\n",
       "      <td>0</td>\n",
       "    </tr>\n",
       "    <tr>\n",
       "      <th>280149</th>\n",
       "      <td>0.780968</td>\n",
       "      <td>0.994596</td>\n",
       "      <td>-0.676143</td>\n",
       "      <td>1.126366</td>\n",
       "      <td>-2.213700</td>\n",
       "      <td>0.468308</td>\n",
       "      <td>-1.120541</td>\n",
       "      <td>-0.003346</td>\n",
       "      <td>-2.234739</td>\n",
       "      <td>1.210158</td>\n",
       "      <td>...</td>\n",
       "      <td>0.247968</td>\n",
       "      <td>0.751826</td>\n",
       "      <td>0.834108</td>\n",
       "      <td>0.190944</td>\n",
       "      <td>0.032070</td>\n",
       "      <td>-0.739695</td>\n",
       "      <td>0.471111</td>\n",
       "      <td>0.385107</td>\n",
       "      <td>0.194361</td>\n",
       "      <td>1</td>\n",
       "    </tr>\n",
       "    <tr>\n",
       "      <th>143728</th>\n",
       "      <td>-0.293440</td>\n",
       "      <td>0.010350</td>\n",
       "      <td>-1.756712</td>\n",
       "      <td>3.266574</td>\n",
       "      <td>-4.153388</td>\n",
       "      <td>3.924526</td>\n",
       "      <td>-1.753772</td>\n",
       "      <td>-1.005787</td>\n",
       "      <td>-4.313217</td>\n",
       "      <td>1.560712</td>\n",
       "      <td>...</td>\n",
       "      <td>0.874720</td>\n",
       "      <td>0.911427</td>\n",
       "      <td>0.053061</td>\n",
       "      <td>-0.367701</td>\n",
       "      <td>-0.776338</td>\n",
       "      <td>0.292094</td>\n",
       "      <td>0.026000</td>\n",
       "      <td>1.062968</td>\n",
       "      <td>0.501148</td>\n",
       "      <td>1</td>\n",
       "    </tr>\n",
       "  </tbody>\n",
       "</table>\n",
       "<p>5 rows × 31 columns</p>\n",
       "</div>"
      ],
      "text/plain": [
       "        scaled_amount  scaled_time        V1        V2        V3        V4  \\\n",
       "237802      -0.296793     0.760206  2.161543  0.068915 -2.465194 -0.051840   \n",
       "6717        -0.293440    -0.896204 -1.813280  4.917851 -5.926130  5.701500   \n",
       "60693       -0.279466    -0.414020 -0.117841  0.392402  0.999877 -0.831140   \n",
       "280149       0.780968     0.994596 -0.676143  1.126366 -2.213700  0.468308   \n",
       "143728      -0.293440     0.010350 -1.756712  3.266574 -4.153388  3.924526   \n",
       "\n",
       "              V5        V6        V7        V8  ...         V20       V21  \\\n",
       "237802  1.251262 -0.251903  0.578921 -0.291859  ...   -0.129114  0.084667   \n",
       "6717    1.204393 -3.035138 -1.713402  0.561257  ...    0.576656  0.615642   \n",
       "60693  -0.555012 -1.063975  0.343171 -0.248752  ...   -0.450110 -0.314370   \n",
       "280149 -1.120541 -0.003346 -2.234739  1.210158  ...    0.247968  0.751826   \n",
       "143728 -1.753772 -1.005787 -4.313217  1.560712  ...    0.874720  0.911427   \n",
       "\n",
       "             V22       V23       V24       V25       V26       V27       V28  \\\n",
       "237802  0.423257 -0.141324 -0.195630  0.527179  0.720999 -0.118347 -0.097244   \n",
       "6717   -0.406427 -0.737018 -0.279642  1.106766  0.323885  0.894767  0.569519   \n",
       "60693  -0.504158 -0.013244  0.392363 -0.681389  0.994878 -0.057940  0.139269   \n",
       "280149  0.834108  0.190944  0.032070 -0.739695  0.471111  0.385107  0.194361   \n",
       "143728  0.053061 -0.367701 -0.776338  0.292094  0.026000  1.062968  0.501148   \n",
       "\n",
       "        Class  \n",
       "237802      0  \n",
       "6717        1  \n",
       "60693       0  \n",
       "280149      1  \n",
       "143728      1  \n",
       "\n",
       "[5 rows x 31 columns]"
      ]
     },
     "execution_count": 17,
     "metadata": {},
     "output_type": "execute_result"
    }
   ],
   "source": [
    "# Since our classes are highly skewed we should make them equivalent in order to have a normal distribution of the classes.\n",
    "\n",
    "# Lets shuffle the data before creating the subsamples\n",
    "\n",
    "df = df.sample(frac=1)\n",
    "\n",
    "# amount of fraud classes 492 rows.\n",
    "fraud_df = df.loc[df['Class'] == 1]\n",
    "non_fraud_df = df.loc[df['Class'] == 0][:492]\n",
    "\n",
    "normal_distributed_df = pd.concat([fraud_df, non_fraud_df])\n",
    "\n",
    "# Shuffle dataframe rows\n",
    "new_df = normal_distributed_df.sample(frac=1, random_state=42)\n",
    "\n",
    "new_df.head()"
   ]
  },
  {
   "cell_type": "code",
   "execution_count": 18,
   "metadata": {},
   "outputs": [],
   "source": [
    "X = new_df.drop('Class', axis=1)\n",
    "y = new_df['Class']"
   ]
  },
  {
   "cell_type": "code",
   "execution_count": 19,
   "metadata": {},
   "outputs": [],
   "source": [
    "X_train, X_test, y_train, y_test = train_test_split(X, y, test_size=0.2, random_state=42)"
   ]
  },
  {
   "cell_type": "code",
   "execution_count": 20,
   "metadata": {},
   "outputs": [],
   "source": [
    "X_train = X_train.values\n",
    "X_test = X_test.values\n",
    "y_train = y_train.values\n",
    "y_test = y_test.values"
   ]
  },
  {
   "cell_type": "code",
   "execution_count": 106,
   "metadata": {},
   "outputs": [],
   "source": [
    "def smallest_sub(array):\n",
    "    smallest = array[0][-1]\n",
    "    idx = 0\n",
    "    for i in range(0, len(array)):\n",
    "        if (array[i][-1] < smallest):\n",
    "            smallest = array[i][-1]\n",
    "            idx = i\n",
    "    return idx"
   ]
  },
  {
   "cell_type": "markdown",
   "metadata": {},
   "source": [
    "## Gradient Descent Baseline"
   ]
  },
  {
   "cell_type": "code",
   "execution_count": 21,
   "metadata": {},
   "outputs": [
    {
     "data": {
      "text/plain": [
       "array([0.93037975, 0.93037975, 0.91719745, 0.93630573, 0.94267516])"
      ]
     },
     "execution_count": 21,
     "metadata": {},
     "output_type": "execute_result"
    }
   ],
   "source": [
    "cross_val_score(mlrose.NeuralNetworkClassifier(hidden_nodes = [30], activation ='relu', \n",
    "                    algorithm ='gradient_descent', \n",
    "                    max_iters = 1000,\n",
    "                    learning_rate = 0.001, \n",
    "                    curve=True), X_train, y_train, cv=5)"
   ]
  },
  {
   "cell_type": "code",
   "execution_count": 22,
   "metadata": {},
   "outputs": [],
   "source": [
    "param_dist_rhc = {\n",
    "    \"max_attempts\": randint(1, 501),\n",
    "    \"learning_rate\": uniform(.01, 1),\n",
    "    \"restarts\": randint(1, 101)       \n",
    "}\n",
    "\n",
    "rand_nn_rhc = RandomizedSearchCV(mlrose.NeuralNetworkClassifier(hidden_nodes = [30], activation ='relu', \n",
    "                             algorithm ='random_hill_climb', max_iters=2000, curve=True),\n",
    "                             param_dist_rhc, cv=5, n_jobs=-1, n_iter=50)"
   ]
  },
  {
   "cell_type": "code",
   "execution_count": 23,
   "metadata": {},
   "outputs": [],
   "source": [
    "rand_nn_rhc.fit(X_train, y_train)\n",
    "rand_nn_rhc_clf = rand_nn_rhc.best_estimator_\n",
    "rand_nn_rhc_score = cross_val_score(rand_nn_rhc_clf, X_train, y_train, cv=5, n_jobs=-1)"
   ]
  },
  {
   "cell_type": "code",
   "execution_count": 24,
   "metadata": {},
   "outputs": [
    {
     "data": {
      "text/plain": [
       "NeuralNetworkClassifier(activation='relu', algorithm='random_hill_climb',\n",
       "            bias=True, clip_max=10000000000.0, curve=True,\n",
       "            early_stopping=False, hidden_nodes=[30],\n",
       "            learning_rate=0.2755097923626352, max_attempts=109,\n",
       "            max_iters=2000, mutation_prob=0.1, pop_size=200, restarts=100,\n",
       "            schedule=<mlrose.decay.GeomDecay object at 0x0000022D864A2940>)"
      ]
     },
     "execution_count": 24,
     "metadata": {},
     "output_type": "execute_result"
    }
   ],
   "source": [
    "rand_nn_rhc_clf"
   ]
  },
  {
   "cell_type": "code",
   "execution_count": 25,
   "metadata": {},
   "outputs": [],
   "source": [
    "param_dist_ga = {\n",
    "    \"max_attempts\": randint(1, 501),\n",
    "    \"pop_size\": randint(1, 201),\n",
    "    \"mutation_prob\": uniform(0, 1)       \n",
    "}\n",
    "\n",
    "rand_nn_ga = RandomizedSearchCV(mlrose.NeuralNetworkClassifier(hidden_nodes = [30], activation ='relu', \n",
    "                             algorithm ='genetic_alg', max_iters=2000, curve=True),\n",
    "                             param_dist_ga, cv=5, n_jobs=-1, n_iter=50)"
   ]
  },
  {
   "cell_type": "code",
   "execution_count": 26,
   "metadata": {},
   "outputs": [],
   "source": [
    "rand_nn_ga.fit(X_train, y_train)\n",
    "rand_nn_ga_clf = rand_nn_ga.best_estimator_\n",
    "rand_nn_ga_score = cross_val_score(rand_nn_ga_clf, X_train, y_train, cv=5, n_jobs=-1)"
   ]
  },
  {
   "cell_type": "code",
   "execution_count": 107,
   "metadata": {},
   "outputs": [
    {
     "data": {
      "text/plain": [
       "78"
      ]
     },
     "execution_count": 107,
     "metadata": {},
     "output_type": "execute_result"
    }
   ],
   "source": [
    "smallest_sub(rand_nn_rhc_clf.fitness_curve)"
   ]
  },
  {
   "cell_type": "code",
   "execution_count": 28,
   "metadata": {},
   "outputs": [],
   "source": [
    "param_dist_sa = {\n",
    "    \"schedule\": [mlrose.ExpDecay(), mlrose.GeomDecay(), mlrose.ArithDecay()],\n",
    "    \"max_attempts\": randint(1, 501)     \n",
    "}\n",
    "\n",
    "rand_nn_sa = RandomizedSearchCV(mlrose.NeuralNetworkClassifier(hidden_nodes = [30], activation ='relu', \n",
    "                             algorithm ='simulated_annealing', max_iters=2000, curve=True),\n",
    "                             param_dist_sa, cv=5, n_jobs=-1, n_iter=50)"
   ]
  },
  {
   "cell_type": "code",
   "execution_count": 29,
   "metadata": {},
   "outputs": [],
   "source": [
    "rand_nn_sa.fit(X_train, y_train)\n",
    "rand_nn_sa_clf = rand_nn_sa.best_estimator_\n",
    "rand_nn_sa_score = cross_val_score(rand_nn_sa_clf, X_train, y_train, cv=5, n_jobs=-1)"
   ]
  },
  {
   "cell_type": "code",
   "execution_count": 31,
   "metadata": {},
   "outputs": [
    {
     "data": {
      "text/plain": [
       "0.7304845601870515"
      ]
     },
     "execution_count": 31,
     "metadata": {},
     "output_type": "execute_result"
    }
   ],
   "source": [
    "rand_nn_sa_score.mean()"
   ]
  },
  {
   "cell_type": "code",
   "execution_count": 103,
   "metadata": {},
   "outputs": [
    {
     "data": {
      "text/plain": [
       "0.8932838829315488"
      ]
     },
     "execution_count": 103,
     "metadata": {},
     "output_type": "execute_result"
    }
   ],
   "source": [
    "rand_nn_ga_score.mean()"
   ]
  },
  {
   "cell_type": "code",
   "execution_count": 33,
   "metadata": {},
   "outputs": [
    {
     "data": {
      "text/plain": [
       "0.9149399338869628"
      ]
     },
     "execution_count": 33,
     "metadata": {},
     "output_type": "execute_result"
    }
   ],
   "source": [
    "rand_nn_rhc_score.mean()"
   ]
  },
  {
   "cell_type": "code",
   "execution_count": 34,
   "metadata": {},
   "outputs": [
    {
     "data": {
      "text/plain": [
       "-0.11541920789723663"
      ]
     },
     "execution_count": 34,
     "metadata": {},
     "output_type": "execute_result"
    }
   ],
   "source": [
    "rand_nn_rhc_clf.fitness_curve[40][-1]"
   ]
  },
  {
   "cell_type": "code",
   "execution_count": 109,
   "metadata": {},
   "outputs": [
    {
     "data": {
      "text/plain": [
       "NeuralNetworkClassifier(activation='relu', algorithm='genetic_alg', bias=True,\n",
       "            clip_max=10000000000.0, curve=True, early_stopping=False,\n",
       "            hidden_nodes=[30], learning_rate=0.1, max_attempts=500,\n",
       "            max_iters=2000, mutation_prob=0.7869253729345153, pop_size=114,\n",
       "            restarts=0,\n",
       "            schedule=<mlrose.decay.GeomDecay object at 0x0000022D86490080>)"
      ]
     },
     "execution_count": 109,
     "metadata": {},
     "output_type": "execute_result"
    }
   ],
   "source": [
    "rand_nn_ga_clf"
   ]
  },
  {
   "cell_type": "code",
   "execution_count": 36,
   "metadata": {},
   "outputs": [
    {
     "data": {
      "text/plain": [
       "[{'max_attempts': 126, 'schedule': <mlrose.decay.ArithDecay at 0x22d8647e358>},\n",
       " {'max_attempts': 255, 'schedule': <mlrose.decay.ArithDecay at 0x22d8647e358>},\n",
       " {'max_attempts': 97, 'schedule': <mlrose.decay.ExpDecay at 0x22d8647ed30>},\n",
       " {'max_attempts': 244, 'schedule': <mlrose.decay.ExpDecay at 0x22d8647ed30>},\n",
       " {'max_attempts': 423, 'schedule': <mlrose.decay.ArithDecay at 0x22d8647e358>},\n",
       " {'max_attempts': 31, 'schedule': <mlrose.decay.GeomDecay at 0x22d8647ec50>},\n",
       " {'max_attempts': 288, 'schedule': <mlrose.decay.ExpDecay at 0x22d8647ed30>},\n",
       " {'max_attempts': 193, 'schedule': <mlrose.decay.ExpDecay at 0x22d8647ed30>},\n",
       " {'max_attempts': 151, 'schedule': <mlrose.decay.ArithDecay at 0x22d8647e358>},\n",
       " {'max_attempts': 146, 'schedule': <mlrose.decay.ArithDecay at 0x22d8647e358>},\n",
       " {'max_attempts': 213, 'schedule': <mlrose.decay.GeomDecay at 0x22d8647ec50>},\n",
       " {'max_attempts': 280, 'schedule': <mlrose.decay.ExpDecay at 0x22d8647ed30>},\n",
       " {'max_attempts': 182, 'schedule': <mlrose.decay.ArithDecay at 0x22d8647e358>},\n",
       " {'max_attempts': 229, 'schedule': <mlrose.decay.ExpDecay at 0x22d8647ed30>},\n",
       " {'max_attempts': 218, 'schedule': <mlrose.decay.ExpDecay at 0x22d8647ed30>},\n",
       " {'max_attempts': 56, 'schedule': <mlrose.decay.ExpDecay at 0x22d8647ed30>},\n",
       " {'max_attempts': 160, 'schedule': <mlrose.decay.GeomDecay at 0x22d8647ec50>},\n",
       " {'max_attempts': 168, 'schedule': <mlrose.decay.GeomDecay at 0x22d8647ec50>},\n",
       " {'max_attempts': 323, 'schedule': <mlrose.decay.ArithDecay at 0x22d8647e358>},\n",
       " {'max_attempts': 341, 'schedule': <mlrose.decay.ExpDecay at 0x22d8647ed30>},\n",
       " {'max_attempts': 436, 'schedule': <mlrose.decay.GeomDecay at 0x22d8647ec50>},\n",
       " {'max_attempts': 72, 'schedule': <mlrose.decay.ExpDecay at 0x22d8647ed30>},\n",
       " {'max_attempts': 286, 'schedule': <mlrose.decay.GeomDecay at 0x22d8647ec50>},\n",
       " {'max_attempts': 398, 'schedule': <mlrose.decay.ExpDecay at 0x22d8647ed30>},\n",
       " {'max_attempts': 12, 'schedule': <mlrose.decay.ExpDecay at 0x22d8647ed30>},\n",
       " {'max_attempts': 358, 'schedule': <mlrose.decay.GeomDecay at 0x22d8647ec50>},\n",
       " {'max_attempts': 216, 'schedule': <mlrose.decay.GeomDecay at 0x22d8647ec50>},\n",
       " {'max_attempts': 60, 'schedule': <mlrose.decay.ArithDecay at 0x22d8647e358>},\n",
       " {'max_attempts': 406, 'schedule': <mlrose.decay.ExpDecay at 0x22d8647ed30>},\n",
       " {'max_attempts': 92, 'schedule': <mlrose.decay.ArithDecay at 0x22d8647e358>},\n",
       " {'max_attempts': 455, 'schedule': <mlrose.decay.GeomDecay at 0x22d8647ec50>},\n",
       " {'max_attempts': 436, 'schedule': <mlrose.decay.ExpDecay at 0x22d8647ed30>},\n",
       " {'max_attempts': 497, 'schedule': <mlrose.decay.GeomDecay at 0x22d8647ec50>},\n",
       " {'max_attempts': 412, 'schedule': <mlrose.decay.ExpDecay at 0x22d8647ed30>},\n",
       " {'max_attempts': 301, 'schedule': <mlrose.decay.ArithDecay at 0x22d8647e358>},\n",
       " {'max_attempts': 123, 'schedule': <mlrose.decay.ExpDecay at 0x22d8647ed30>},\n",
       " {'max_attempts': 119, 'schedule': <mlrose.decay.ExpDecay at 0x22d8647ed30>},\n",
       " {'max_attempts': 262, 'schedule': <mlrose.decay.ArithDecay at 0x22d8647e358>},\n",
       " {'max_attempts': 296, 'schedule': <mlrose.decay.GeomDecay at 0x22d8647ec50>},\n",
       " {'max_attempts': 281, 'schedule': <mlrose.decay.ArithDecay at 0x22d8647e358>},\n",
       " {'max_attempts': 438, 'schedule': <mlrose.decay.ExpDecay at 0x22d8647ed30>},\n",
       " {'max_attempts': 252, 'schedule': <mlrose.decay.ExpDecay at 0x22d8647ed30>},\n",
       " {'max_attempts': 77, 'schedule': <mlrose.decay.ArithDecay at 0x22d8647e358>},\n",
       " {'max_attempts': 173, 'schedule': <mlrose.decay.ArithDecay at 0x22d8647e358>},\n",
       " {'max_attempts': 41, 'schedule': <mlrose.decay.ArithDecay at 0x22d8647e358>},\n",
       " {'max_attempts': 4, 'schedule': <mlrose.decay.ExpDecay at 0x22d8647ed30>},\n",
       " {'max_attempts': 113, 'schedule': <mlrose.decay.ExpDecay at 0x22d8647ed30>},\n",
       " {'max_attempts': 456, 'schedule': <mlrose.decay.ExpDecay at 0x22d8647ed30>},\n",
       " {'max_attempts': 450, 'schedule': <mlrose.decay.GeomDecay at 0x22d8647ec50>},\n",
       " {'max_attempts': 80, 'schedule': <mlrose.decay.ExpDecay at 0x22d8647ed30>}]"
      ]
     },
     "execution_count": 36,
     "metadata": {},
     "output_type": "execute_result"
    }
   ],
   "source": [
    "rand_nn_sa.cv_results_[\"params\"]"
   ]
  },
  {
   "cell_type": "code",
   "execution_count": 37,
   "metadata": {},
   "outputs": [],
   "source": [
    "saParams = {\n",
    "    'ExpDecay' : {\n",
    "        'xs': [],\n",
    "        'ys': [],\n",
    "    },\n",
    "    'GeomDecay': {\n",
    "        'xs': [],\n",
    "        'ys': [],\n",
    "    },\n",
    "    'ArithDecay': {\n",
    "        'xs': [],\n",
    "        'ys': [],\n",
    "    }\n",
    "}\n",
    "\n",
    "for i in range(0, len(rand_nn_sa.cv_results_['params'])):\n",
    "    saParams[rand_nn_sa.cv_results_['params'][i]['schedule'].__class__.__name__]['xs'].append(rand_nn_sa.cv_results_['params'][i]['max_attempts'])\n",
    "    saParams[rand_nn_sa.cv_results_['params'][i]['schedule'].__class__.__name__]['ys'].append(rand_nn_sa.cv_results_['mean_test_score'][i])\n",
    "    "
   ]
  },
  {
   "cell_type": "code",
   "execution_count": 38,
   "metadata": {},
   "outputs": [
    {
     "data": {
      "text/plain": [
       "{'ExpDecay': {'xs': [97,\n",
       "   244,\n",
       "   288,\n",
       "   193,\n",
       "   280,\n",
       "   229,\n",
       "   218,\n",
       "   56,\n",
       "   341,\n",
       "   72,\n",
       "   398,\n",
       "   12,\n",
       "   406,\n",
       "   436,\n",
       "   412,\n",
       "   123,\n",
       "   119,\n",
       "   438,\n",
       "   252,\n",
       "   4,\n",
       "   113,\n",
       "   456,\n",
       "   80],\n",
       "  'ys': [0.6836086404066074,\n",
       "   0.7534942820838628,\n",
       "   0.7369758576874206,\n",
       "   0.7878017789072427,\n",
       "   0.8144853875476493,\n",
       "   0.6886912325285895,\n",
       "   0.7141041931385006,\n",
       "   0.7280813214739518,\n",
       "   0.7776365946632783,\n",
       "   0.7331639135959339,\n",
       "   0.7026683608640406,\n",
       "   0.7229987293519695,\n",
       "   0.7763659466327827,\n",
       "   0.7141041931385006,\n",
       "   0.7763659466327827,\n",
       "   0.7001270648030495,\n",
       "   0.735705209656925,\n",
       "   0.7039390088945362,\n",
       "   0.8030495552731893,\n",
       "   0.7153748411689962,\n",
       "   0.7674714104193139,\n",
       "   0.7153748411689962,\n",
       "   0.6861499364675985]},\n",
       " 'GeomDecay': {'xs': [31,\n",
       "   213,\n",
       "   160,\n",
       "   168,\n",
       "   436,\n",
       "   286,\n",
       "   358,\n",
       "   216,\n",
       "   455,\n",
       "   497,\n",
       "   296,\n",
       "   450],\n",
       "  'ys': [0.8246505717916137,\n",
       "   0.7382465057179162,\n",
       "   0.7928843710292249,\n",
       "   0.7318932655654383,\n",
       "   0.7801778907242694,\n",
       "   0.7649301143583227,\n",
       "   0.7649301143583227,\n",
       "   0.7522236340533672,\n",
       "   0.7623888182973316,\n",
       "   0.6721728081321474,\n",
       "   0.7598475222363406,\n",
       "   0.7560355781448539]},\n",
       " 'ArithDecay': {'xs': [126,\n",
       "   255,\n",
       "   423,\n",
       "   151,\n",
       "   146,\n",
       "   182,\n",
       "   323,\n",
       "   60,\n",
       "   92,\n",
       "   301,\n",
       "   262,\n",
       "   281,\n",
       "   77,\n",
       "   173,\n",
       "   41],\n",
       "  'ys': [0.5832274459974587,\n",
       "   0.4777636594663278,\n",
       "   0.613722998729352,\n",
       "   0.4815756035578145,\n",
       "   0.5756035578144854,\n",
       "   0.6645489199491741,\n",
       "   0.5120711562897078,\n",
       "   0.5095298602287166,\n",
       "   0.4625158831003812,\n",
       "   0.565438373570521,\n",
       "   0.47903430749682335,\n",
       "   0.565438373570521,\n",
       "   0.5324015247776366,\n",
       "   0.5095298602287166,\n",
       "   0.5222363405336722]}}"
      ]
     },
     "execution_count": 38,
     "metadata": {},
     "output_type": "execute_result"
    }
   ],
   "source": [
    "saParams"
   ]
  },
  {
   "cell_type": "code",
   "execution_count": 39,
   "metadata": {},
   "outputs": [
    {
     "data": {
      "text/plain": [
       "Text(0.5,0,'Attempts')"
      ]
     },
     "execution_count": 39,
     "metadata": {},
     "output_type": "execute_result"
    },
    {
     "data": {
      "image/png": "[encoded data removed]",
      "text/plain": [
       "<Figure size 576x432 with 1 Axes>"
      ]
     },
     "metadata": {
      "needs_background": "light"
     },
     "output_type": "display_data"
    }
   ],
   "source": [
    "\n",
    "plt.figure(figsize=(8, 6))\n",
    "legendNames = [];\n",
    "for x in saParams.keys():\n",
    "    legendNames.append(x)\n",
    "    plt.scatter(saParams[x]['xs'], saParams[x]['ys'])\n",
    "plt.legend(legendNames)\n",
    "plt.ylabel(\"5-fold mean accuracy\")\n",
    "plt.xlabel(\"Attempts\")"
   ]
  },
  {
   "cell_type": "code",
   "execution_count": 40,
   "metadata": {},
   "outputs": [
    {
     "data": {
      "text/plain": [
       "Text(0,0.5,'Fitness')"
      ]
     },
     "execution_count": 40,
     "metadata": {},
     "output_type": "execute_result"
    },
    {
     "data": {
      "image/png": "[encoded data removed]",
      "text/plain": [
       "<Figure size 576x432 with 1 Axes>"
      ]
     },
     "metadata": {
      "needs_background": "light"
     },
     "output_type": "display_data"
    }
   ],
   "source": [
    "plt.figure(figsize=(8, 6))\n",
    "best_pop = smallest_sub(rand_nn_ga_clf.fitness_curve)\n",
    "best_attempt = smallest_sub(rand_nn_rhc_clf.fitness_curve)\n",
    "plt.scatter(np.arange(len(rand_nn_sa_clf.fitness_curve)), rand_nn_sa_clf.fitness_curve *-1)\n",
    "plt.scatter(np.arange(len(rand_nn_rhc_clf.fitness_curve[best_attempt])), np.array(rand_nn_rhc_clf.fitness_curve[best_attempt]) *-1)\n",
    "plt.legend([\"SA\", \"RHC\"])\n",
    "plt.xlabel(\"Iterations\")\n",
    "plt.ylabel(\"Fitness\")"
   ]
  },
  {
   "cell_type": "code",
   "execution_count": 41,
   "metadata": {},
   "outputs": [
    {
     "data": {
      "text/plain": [
       "2000"
      ]
     },
     "execution_count": 41,
     "metadata": {},
     "output_type": "execute_result"
    }
   ],
   "source": [
    "len(rand_nn_rhc_clf.fitness_curve[0])"
   ]
  },
  {
   "cell_type": "code",
   "execution_count": 42,
   "metadata": {},
   "outputs": [
    {
     "data": {
      "text/plain": [
       "array([6.14703945, 6.11357617, 6.10525415, ..., 0.1042955 , 0.1042955 ,\n",
       "       0.1042955 ])"
      ]
     },
     "execution_count": 42,
     "metadata": {},
     "output_type": "execute_result"
    }
   ],
   "source": [
    "np.array(rand_nn_rhc_clf.fitness_curve[0]) * -1"
   ]
  },
  {
   "cell_type": "code",
   "execution_count": 43,
   "metadata": {},
   "outputs": [],
   "source": [
    "def smallest_sub(array):\n",
    "    smallest = array[0][-1]\n",
    "    idx = 0\n",
    "    for i in range(0, len(array)):\n",
    "        if (array[i][-1] > smallest):\n",
    "            smallest = array[i][-1]\n",
    "            idx = i\n",
    "    return idx"
   ]
  },
  {
   "cell_type": "code",
   "execution_count": 44,
   "metadata": {},
   "outputs": [
    {
     "data": {
      "text/plain": [
       "744"
      ]
     },
     "execution_count": 44,
     "metadata": {},
     "output_type": "execute_result"
    }
   ],
   "source": [
    "smallest_sub(rand_nn_ga_clf.fitness_curve)"
   ]
  },
  {
   "cell_type": "code",
   "execution_count": 45,
   "metadata": {},
   "outputs": [
    {
     "data": {
      "text/plain": [
       "835"
      ]
     },
     "execution_count": 45,
     "metadata": {},
     "output_type": "execute_result"
    }
   ],
   "source": [
    "len(rand_nn_ga_clf.fitness_curve)"
   ]
  },
  {
   "cell_type": "code",
   "execution_count": 46,
   "metadata": {},
   "outputs": [],
   "source": [
    "best_ga_fitness = []\n",
    "for i in rand_nn_ga_clf.fitness_curve:\n",
    "    best_ga_fitness.append(i.max() * -1)"
   ]
  },
  {
   "cell_type": "code",
   "execution_count": 47,
   "metadata": {},
   "outputs": [
    {
     "data": {
      "text/plain": [
       "Text(0,0.5,'Best Individual Fitness')"
      ]
     },
     "execution_count": 47,
     "metadata": {},
     "output_type": "execute_result"
    },
    {
     "data": {
      "image/png": "[encoded data removed]",
      "text/plain": [
       "<Figure size 576x432 with 1 Axes>"
      ]
     },
     "metadata": {
      "needs_background": "light"
     },
     "output_type": "display_data"
    }
   ],
   "source": [
    "plt.figure(figsize=(8, 6))\n",
    "plt.scatter(np.arange(len(best_ga_fitness)), best_ga_fitness)\n",
    "plt.xlabel(\"Population Number\")\n",
    "plt.ylabel(\"Best Individual Fitness\")"
   ]
  },
  {
   "cell_type": "code",
   "execution_count": 48,
   "metadata": {},
   "outputs": [
    {
     "ename": "NameError",
     "evalue": "name 'rand_nn_' is not defined",
     "output_type": "error",
     "traceback": [
      "\u001b[1;31m---------------------------------------------------------------------------\u001b[0m",
      "\u001b[1;31mNameError\u001b[0m                                 Traceback (most recent call last)",
      "\u001b[1;32m<ipython-input-48-ef3919f6e80f>\u001b[0m in \u001b[0;36m<module>\u001b[1;34m()\u001b[0m\n\u001b[1;32m----> 1\u001b[1;33m \u001b[0mrand_nn_\u001b[0m\u001b[1;33m\u001b[0m\u001b[0m\n\u001b[0m\u001b[0;32m      2\u001b[0m \u001b[1;33m\u001b[0m\u001b[0m\n",
      "\u001b[1;31mNameError\u001b[0m: name 'rand_nn_' is not defined"
     ]
    }
   ],
   "source": [
    "\n"
   ]
  },
  {
   "cell_type": "code",
   "execution_count": 49,
   "metadata": {},
   "outputs": [
    {
     "data": {
      "text/plain": [
       "0.5832274459974587"
      ]
     },
     "execution_count": 49,
     "metadata": {},
     "output_type": "execute_result"
    }
   ],
   "source": [
    "(rand_nn_sa.cv_results_['mean_test_score'][0])"
   ]
  },
  {
   "cell_type": "code",
   "execution_count": 72,
   "metadata": {},
   "outputs": [],
   "source": [
    "ys = []\n",
    "xs = []\n",
    "qs = []\n",
    "zs = [];\n",
    "for i in range(0, len(rand_nn_ga.cv_results_[\"params\"])):\n",
    "    zs.append(rand_nn_ga.cv_results_['mean_test_score'][i])\n",
    "    xs.append(rand_nn_ga.cv_results_[\"params\"][i][\"max_attempts\"])\n",
    "    ys.append(rand_nn_ga.cv_results_[\"params\"][i][\"mutation_prob\"])\n",
    "    qs.append(rand_nn_ga.cv_results_[\"params\"][i][\"pop_size\"])"
   ]
  },
  {
   "cell_type": "code",
   "execution_count": 51,
   "metadata": {},
   "outputs": [
    {
     "data": {
      "text/plain": [
       "<matplotlib.collections.PathCollection at 0x22d869c8f28>"
      ]
     },
     "execution_count": 51,
     "metadata": {},
     "output_type": "execute_result"
    },
    {
     "data": {
      "image/png": "[encoded data removed]",
      "text/plain": [
       "<Figure size 432x288 with 1 Axes>"
      ]
     },
     "metadata": {
      "needs_background": "light"
     },
     "output_type": "display_data"
    }
   ],
   "source": [
    "plt.scatter(qs, zs)"
   ]
  },
  {
   "cell_type": "code",
   "execution_count": 52,
   "metadata": {},
   "outputs": [
    {
     "data": {
      "text/plain": [
       "<matplotlib.collections.PathCollection at 0x22d80afe860>"
      ]
     },
     "execution_count": 52,
     "metadata": {},
     "output_type": "execute_result"
    },
    {
     "data": {
      "image/png": "[encoded data removed]",
      "text/plain": [
       "<Figure size 432x288 with 1 Axes>"
      ]
     },
     "metadata": {
      "needs_background": "light"
     },
     "output_type": "display_data"
    }
   ],
   "source": [
    "plt.scatter(xs, zs)"
   ]
  },
  {
   "cell_type": "code",
   "execution_count": 53,
   "metadata": {},
   "outputs": [
    {
     "data": {
      "text/plain": [
       "<matplotlib.collections.PathCollection at 0x22d8707cc88>"
      ]
     },
     "execution_count": 53,
     "metadata": {},
     "output_type": "execute_result"
    },
    {
     "data": {
      "image/png": "[encoded data removed]",
      "text/plain": [
       "<Figure size 432x288 with 1 Axes>"
      ]
     },
     "metadata": {
      "needs_background": "light"
     },
     "output_type": "display_data"
    }
   ],
   "source": [
    "plt.scatter(ys, zs)"
   ]
  },
  {
   "cell_type": "code",
   "execution_count": 73,
   "metadata": {},
   "outputs": [
    {
     "data": {
      "image/png": "[encoded data removed]",
      "text/plain": [
       "<Figure size 576x432 with 1 Axes>"
      ]
     },
     "metadata": {
      "needs_background": "light"
     },
     "output_type": "display_data"
    }
   ],
   "source": [
    "fig = plt.figure(figsize=(8, 6))\n",
    "\n",
    "ax = fig.add_subplot(111, projection='3d')\n",
    "\n",
    "ax.scatter(qs, ys, zs)\n",
    "\n",
    "ax.set_xlabel('Population Size')\n",
    "ax.set_ylabel('Mutation Probability')\n",
    "ax.set_zlabel('Mean 5-fold score')\n",
    "\n",
    "plt.show()"
   ]
  },
  {
   "cell_type": "code",
   "execution_count": 91,
   "metadata": {},
   "outputs": [
    {
     "data": {
      "text/plain": [
       "Text(0.5,0,'Mean 5-fold score')"
      ]
     },
     "execution_count": 91,
     "metadata": {},
     "output_type": "execute_result"
    },
    {
     "data": {
      "image/png": "[encoded data removed]",
      "text/plain": [
       "<Figure size 648x432 with 2 Axes>"
      ]
     },
     "metadata": {
      "needs_background": "light"
     },
     "output_type": "display_data"
    }
   ],
   "source": [
    "fig = plt.figure(figsize=(9, 6))\n",
    "ax = Axes3D(fig)\n",
    "surf = ax.plot_trisurf(qs, ys, zs, cmap=cm.jet, linewidth=0.1)\n",
    "# ax.set_zlim(.7, 1.01)\n",
    "\n",
    "# ax.zaxis.set_major_locator(LinearLocator(10))\n",
    "# ax.zaxis.set_major_formatter(FormatStrFormatter('%.02f'))\n",
    "\n",
    "# fig.colorbar(surf, shrink=0.5, aspect=5)\n",
    "fig.colorbar(surf)\n",
    "ax.set_xlabel('Population Size')\n",
    "ax.set_ylabel('Mutation Probability')\n",
    "ax.set_zlabel('Mean 5-fold score')\n"
   ]
  },
  {
   "cell_type": "code",
   "execution_count": 55,
   "metadata": {},
   "outputs": [],
   "source": [
    "ys = []\n",
    "xs = []\n",
    "zs = [];\n",
    "qs = [];\n",
    "for i in range(0, len(rand_nn_rhc.cv_results_[\"params\"])):\n",
    "    zs.append(rand_nn_rhc.cv_results_['mean_test_score'][i])\n",
    "    xs.append(rand_nn_rhc.cv_results_[\"params\"][i][\"max_attempts\"])\n",
    "    ys.append(rand_nn_rhc.cv_results_[\"params\"][i][\"learning_rate\"])    \n",
    "    qs.append(rand_nn_rhc.cv_results_[\"params\"][i][\"restarts\"])        "
   ]
  },
  {
   "cell_type": "code",
   "execution_count": 56,
   "metadata": {},
   "outputs": [
    {
     "data": {
      "text/plain": [
       "Text(0,0.5,'Mean 5-fold Accuracy')"
      ]
     },
     "execution_count": 56,
     "metadata": {},
     "output_type": "execute_result"
    },
    {
     "data": {
      "image/png": "[encoded data removed]",
      "text/plain": [
       "<Figure size 432x288 with 1 Axes>"
      ]
     },
     "metadata": {
      "needs_background": "light"
     },
     "output_type": "display_data"
    }
   ],
   "source": [
    "plt.scatter(xs, zs)\n",
    "plt.xlabel(\"Max Attempts\")\n",
    "plt.ylabel(\"Mean 5-fold Accuracy\")"
   ]
  },
  {
   "cell_type": "code",
   "execution_count": 57,
   "metadata": {},
   "outputs": [
    {
     "data": {
      "text/plain": [
       "Text(0,0.5,'Mean 5-fold Accuracy')"
      ]
     },
     "execution_count": 57,
     "metadata": {},
     "output_type": "execute_result"
    },
    {
     "data": {
      "image/png": "[encoded data removed]",
      "text/plain": [
       "<Figure size 432x288 with 1 Axes>"
      ]
     },
     "metadata": {
      "needs_background": "light"
     },
     "output_type": "display_data"
    }
   ],
   "source": [
    "plt.scatter(ys, zs)\n",
    "plt.xlabel(\"Learning Rate\")\n",
    "plt.ylabel(\"Mean 5-fold Accuracy\")"
   ]
  },
  {
   "cell_type": "code",
   "execution_count": 58,
   "metadata": {},
   "outputs": [
    {
     "data": {
      "text/plain": [
       "Text(0,0.5,'Mean 5-fold Accuracy')"
      ]
     },
     "execution_count": 58,
     "metadata": {},
     "output_type": "execute_result"
    },
    {
     "data": {
      "image/png": "[encoded data removed]",
      "text/plain": [
       "<Figure size 432x288 with 1 Axes>"
      ]
     },
     "metadata": {
      "needs_background": "light"
     },
     "output_type": "display_data"
    }
   ],
   "source": [
    "plt.scatter(qs, zs)\n",
    "plt.xlabel(\"Restarts\")\n",
    "plt.ylabel(\"Mean 5-fold Accuracy\")"
   ]
  },
  {
   "cell_type": "code",
   "execution_count": 59,
   "metadata": {},
   "outputs": [
    {
     "data": {
      "text/plain": [
       "5.621166038513183"
      ]
     },
     "execution_count": 59,
     "metadata": {},
     "output_type": "execute_result"
    }
   ],
   "source": [
    "np.median(rand_nn_sa.cv_results_['mean_fit_time'])"
   ]
  },
  {
   "cell_type": "code",
   "execution_count": 60,
   "metadata": {},
   "outputs": [
    {
     "data": {
      "text/plain": [
       "251.88968567848207"
      ]
     },
     "execution_count": 60,
     "metadata": {},
     "output_type": "execute_result"
    }
   ],
   "source": [
    "np.median(rand_nn_rhc.cv_results_['mean_fit_time'])"
   ]
  },
  {
   "cell_type": "code",
   "execution_count": 61,
   "metadata": {},
   "outputs": [
    {
     "data": {
      "text/plain": [
       "139.97218184471132"
      ]
     },
     "execution_count": 61,
     "metadata": {},
     "output_type": "execute_result"
    }
   ],
   "source": [
    "np.median(rand_nn_ga.cv_results_['mean_fit_time'])"
   ]
  },
  {
   "cell_type": "code",
   "execution_count": 62,
   "metadata": {},
   "outputs": [
    {
     "data": {
      "text/plain": [
       "{'mean_fit_time': array([198.39566627, 282.49009142, 348.59979687, 268.67776384,\n",
       "        196.3895155 , 138.47023282,  36.19658542, 361.68180666,\n",
       "         13.34311175, 120.99397707, 372.84953594,  27.84931178,\n",
       "        325.92065678, 254.75001845, 382.29527063, 257.54672828,\n",
       "        348.84726872, 230.7825789 , 249.0293529 , 358.02837982,\n",
       "         13.40594325, 324.1883616 , 407.86820908,  57.94479709,\n",
       "        169.36685147, 439.00829606,  92.19577088, 339.92411819,\n",
       "         11.07882957, 291.31451335,  24.42929945, 261.83562613,\n",
       "          9.99201608, 260.35999165, 149.7042563 , 357.89669304,\n",
       "        295.64671102, 198.50287294, 232.64510546,   5.18233876,\n",
       "        427.1819622 ,  54.36888981, 197.93986626, 321.84030681,\n",
       "        257.21082225,   7.95412555,  90.84061971, 387.33286152,\n",
       "        311.88165946, 222.32614155]),\n",
       " 'std_fit_time': array([ 1.53631689,  4.52077264,  9.06577005,  6.73515991,  3.00374094,\n",
       "         1.01252048,  0.59451378,  5.18283683,  0.19221935,  1.51009708,\n",
       "         5.89201578,  0.29667848,  7.20682295,  3.35232672,  5.93566287,\n",
       "         5.92015588,  3.98830599,  6.08563423,  5.36489332,  3.45593039,\n",
       "         0.25350117,  3.70864137,  6.1974409 ,  0.26082647,  2.99838863,\n",
       "         6.42706446,  1.29679074,  8.62078421,  2.61656672,  2.98123925,\n",
       "         0.2992622 ,  3.5264961 ,  0.83409937,  3.76092607,  1.97325028,\n",
       "         4.0865107 ,  6.92807411,  2.30739752,  5.27693978,  0.24866138,\n",
       "         5.08790278,  0.63129623,  3.02002595,  5.57458355,  0.58883129,\n",
       "         0.13363069,  2.08245689,  5.97825985, 16.73276147,  3.92930866]),\n",
       " 'mean_score_time': array([0.00059814, 0.00079679, 0.0001997 , 0.00039954, 0.000599  ,\n",
       "        0.00099654, 0.00039868, 0.00059752, 0.00059881, 0.00059834,\n",
       "        0.00079737, 0.0005981 , 0.00079813, 0.00079765, 0.00059867,\n",
       "        0.00059786, 0.00039902, 0.00059786, 0.00059819, 0.00019994,\n",
       "        0.00039892, 0.00039926, 0.00039864, 0.00019927, 0.0009975 ,\n",
       "        0.00059834, 0.00039864, 0.00079765, 0.00079713, 0.00059824,\n",
       "        0.0005991 , 0.0001996 , 0.00019965, 0.00039835, 0.00019937,\n",
       "        0.00039878, 0.00039878, 0.0007978 , 0.00039859, 0.00059857,\n",
       "        0.00019937, 0.00099711, 0.00059786, 0.00059838, 0.00059848,\n",
       "        0.00059843, 0.00019927, 0.00059791, 0.00039864, 0.00039892]),\n",
       " 'std_score_time': array([4.88383345e-04, 3.98398145e-04, 3.99398804e-04, 4.89336843e-04,\n",
       "        4.89084172e-04, 6.30148097e-04, 4.88285776e-04, 4.87876898e-04,\n",
       "        4.88928105e-04, 4.88539568e-04, 3.98684247e-04, 4.88346615e-04,\n",
       "        3.99065146e-04, 3.98826656e-04, 4.88811443e-04, 4.88149860e-04,\n",
       "        4.88694457e-04, 4.88149511e-04, 4.88421953e-04, 3.99875641e-04,\n",
       "        4.88578773e-04, 4.88986906e-04, 4.88227323e-04, 3.98540497e-04,\n",
       "        6.30525065e-04, 4.88539195e-04, 4.88228721e-04, 3.98827397e-04,\n",
       "        3.98564606e-04, 4.88461041e-04, 4.89162357e-04, 3.99208069e-04,\n",
       "        3.99303436e-04, 4.87877038e-04, 3.98731232e-04, 4.88403136e-04,\n",
       "        4.88402577e-04, 3.98901270e-04, 4.88168836e-04, 4.88733491e-04,\n",
       "        3.98731232e-04, 3.81469727e-07, 4.88149417e-04, 4.88577656e-04,\n",
       "        4.88655554e-04, 4.88616574e-04, 3.98540497e-04, 4.88189166e-04,\n",
       "        4.88227254e-04, 4.88577656e-04]),\n",
       " 'param_learning_rate': masked_array(data=[0.05302850967927652, 0.5497128475036744,\n",
       "                    0.9125942336298627, 0.9962618322686929,\n",
       "                    0.8023622132724522, 0.08481492300187331,\n",
       "                    0.7269552942479587, 0.633454078216068,\n",
       "                    0.1336427629764737, 0.42277444413071685,\n",
       "                    0.285702873892975, 0.7599224091066301,\n",
       "                    0.4669774662023961, 0.9944158606671117,\n",
       "                    0.4401464127083148, 0.7974856210654196,\n",
       "                    0.24085904234035072, 0.9299575469787864,\n",
       "                    0.9152512473227329, 0.14893018428226368,\n",
       "                    0.15175513396433193, 0.17674224454420884,\n",
       "                    0.03570972557009488, 0.12055134697567248,\n",
       "                    0.11306208841974362, 0.2755097923626352,\n",
       "                    0.49593098779317557, 0.8538470891428775,\n",
       "                    0.9775841603398213, 0.8522557798384445,\n",
       "                    0.6163104239595487, 0.8682613308501581,\n",
       "                    0.6768715221760662, 0.6098279203468701,\n",
       "                    0.2649213606981091, 0.23499205464663597,\n",
       "                    0.9779317939984309, 0.10875220436765042,\n",
       "                    0.40254254577366155, 0.2685898586177684,\n",
       "                    0.15424383986633028, 0.10899587004466003,\n",
       "                    0.24218937834067944, 0.3989188962563486,\n",
       "                    0.5860306739895794, 0.6493152826031956,\n",
       "                    0.31042609827035417, 0.03764602379082715,\n",
       "                    0.6090477614740597, 0.10138309053659776],\n",
       "              mask=[False, False, False, False, False, False, False, False,\n",
       "                    False, False, False, False, False, False, False, False,\n",
       "                    False, False, False, False, False, False, False, False,\n",
       "                    False, False, False, False, False, False, False, False,\n",
       "                    False, False, False, False, False, False, False, False,\n",
       "                    False, False, False, False, False, False, False, False,\n",
       "                    False, False],\n",
       "        fill_value='?',\n",
       "             dtype=object),\n",
       " 'param_max_attempts': masked_array(data=[67, 436, 400, 312, 190, 430, 371, 299, 64, 228, 472,\n",
       "                    422, 186, 438, 21, 324, 39, 221, 144, 259, 206, 401,\n",
       "                    228, 309, 106, 109, 269, 28, 13, 62, 68, 175, 5, 213,\n",
       "                    452, 194, 35, 150, 129, 4, 487, 50, 66, 483, 121, 463,\n",
       "                    218, 462, 253, 161],\n",
       "              mask=[False, False, False, False, False, False, False, False,\n",
       "                    False, False, False, False, False, False, False, False,\n",
       "                    False, False, False, False, False, False, False, False,\n",
       "                    False, False, False, False, False, False, False, False,\n",
       "                    False, False, False, False, False, False, False, False,\n",
       "                    False, False, False, False, False, False, False, False,\n",
       "                    False, False],\n",
       "        fill_value='?',\n",
       "             dtype=object),\n",
       " 'param_restarts': masked_array(data=[42, 67, 88, 69, 49, 30, 8, 87, 2, 28, 85, 6, 78, 65,\n",
       "                    94, 64, 79, 59, 63, 79, 2, 72, 88, 12, 37, 100, 21, 94,\n",
       "                    8, 74, 5, 67, 85, 64, 33, 81, 79, 43, 54, 81, 95, 11,\n",
       "                    44, 76, 63, 1, 20, 84, 80, 52],\n",
       "              mask=[False, False, False, False, False, False, False, False,\n",
       "                    False, False, False, False, False, False, False, False,\n",
       "                    False, False, False, False, False, False, False, False,\n",
       "                    False, False, False, False, False, False, False, False,\n",
       "                    False, False, False, False, False, False, False, False,\n",
       "                    False, False, False, False, False, False, False, False,\n",
       "                    False, False],\n",
       "        fill_value='?',\n",
       "             dtype=object),\n",
       " 'params': [{'learning_rate': 0.05302850967927652,\n",
       "   'max_attempts': 67,\n",
       "   'restarts': 42},\n",
       "  {'learning_rate': 0.5497128475036744, 'max_attempts': 436, 'restarts': 67},\n",
       "  {'learning_rate': 0.9125942336298627, 'max_attempts': 400, 'restarts': 88},\n",
       "  {'learning_rate': 0.9962618322686929, 'max_attempts': 312, 'restarts': 69},\n",
       "  {'learning_rate': 0.8023622132724522, 'max_attempts': 190, 'restarts': 49},\n",
       "  {'learning_rate': 0.08481492300187331, 'max_attempts': 430, 'restarts': 30},\n",
       "  {'learning_rate': 0.7269552942479587, 'max_attempts': 371, 'restarts': 8},\n",
       "  {'learning_rate': 0.633454078216068, 'max_attempts': 299, 'restarts': 87},\n",
       "  {'learning_rate': 0.1336427629764737, 'max_attempts': 64, 'restarts': 2},\n",
       "  {'learning_rate': 0.42277444413071685, 'max_attempts': 228, 'restarts': 28},\n",
       "  {'learning_rate': 0.285702873892975, 'max_attempts': 472, 'restarts': 85},\n",
       "  {'learning_rate': 0.7599224091066301, 'max_attempts': 422, 'restarts': 6},\n",
       "  {'learning_rate': 0.4669774662023961, 'max_attempts': 186, 'restarts': 78},\n",
       "  {'learning_rate': 0.9944158606671117, 'max_attempts': 438, 'restarts': 65},\n",
       "  {'learning_rate': 0.4401464127083148, 'max_attempts': 21, 'restarts': 94},\n",
       "  {'learning_rate': 0.7974856210654196, 'max_attempts': 324, 'restarts': 64},\n",
       "  {'learning_rate': 0.24085904234035072, 'max_attempts': 39, 'restarts': 79},\n",
       "  {'learning_rate': 0.9299575469787864, 'max_attempts': 221, 'restarts': 59},\n",
       "  {'learning_rate': 0.9152512473227329, 'max_attempts': 144, 'restarts': 63},\n",
       "  {'learning_rate': 0.14893018428226368, 'max_attempts': 259, 'restarts': 79},\n",
       "  {'learning_rate': 0.15175513396433193, 'max_attempts': 206, 'restarts': 2},\n",
       "  {'learning_rate': 0.17674224454420884, 'max_attempts': 401, 'restarts': 72},\n",
       "  {'learning_rate': 0.03570972557009488, 'max_attempts': 228, 'restarts': 88},\n",
       "  {'learning_rate': 0.12055134697567248, 'max_attempts': 309, 'restarts': 12},\n",
       "  {'learning_rate': 0.11306208841974362, 'max_attempts': 106, 'restarts': 37},\n",
       "  {'learning_rate': 0.2755097923626352, 'max_attempts': 109, 'restarts': 100},\n",
       "  {'learning_rate': 0.49593098779317557, 'max_attempts': 269, 'restarts': 21},\n",
       "  {'learning_rate': 0.8538470891428775, 'max_attempts': 28, 'restarts': 94},\n",
       "  {'learning_rate': 0.9775841603398213, 'max_attempts': 13, 'restarts': 8},\n",
       "  {'learning_rate': 0.8522557798384445, 'max_attempts': 62, 'restarts': 74},\n",
       "  {'learning_rate': 0.6163104239595487, 'max_attempts': 68, 'restarts': 5},\n",
       "  {'learning_rate': 0.8682613308501581, 'max_attempts': 175, 'restarts': 67},\n",
       "  {'learning_rate': 0.6768715221760662, 'max_attempts': 5, 'restarts': 85},\n",
       "  {'learning_rate': 0.6098279203468701, 'max_attempts': 213, 'restarts': 64},\n",
       "  {'learning_rate': 0.2649213606981091, 'max_attempts': 452, 'restarts': 33},\n",
       "  {'learning_rate': 0.23499205464663597, 'max_attempts': 194, 'restarts': 81},\n",
       "  {'learning_rate': 0.9779317939984309, 'max_attempts': 35, 'restarts': 79},\n",
       "  {'learning_rate': 0.10875220436765042, 'max_attempts': 150, 'restarts': 43},\n",
       "  {'learning_rate': 0.40254254577366155, 'max_attempts': 129, 'restarts': 54},\n",
       "  {'learning_rate': 0.2685898586177684, 'max_attempts': 4, 'restarts': 81},\n",
       "  {'learning_rate': 0.15424383986633028, 'max_attempts': 487, 'restarts': 95},\n",
       "  {'learning_rate': 0.10899587004466003, 'max_attempts': 50, 'restarts': 11},\n",
       "  {'learning_rate': 0.24218937834067944, 'max_attempts': 66, 'restarts': 44},\n",
       "  {'learning_rate': 0.3989188962563486, 'max_attempts': 483, 'restarts': 76},\n",
       "  {'learning_rate': 0.5860306739895794, 'max_attempts': 121, 'restarts': 63},\n",
       "  {'learning_rate': 0.6493152826031956, 'max_attempts': 463, 'restarts': 1},\n",
       "  {'learning_rate': 0.31042609827035417, 'max_attempts': 218, 'restarts': 20},\n",
       "  {'learning_rate': 0.03764602379082715, 'max_attempts': 462, 'restarts': 84},\n",
       "  {'learning_rate': 0.6090477614740597, 'max_attempts': 253, 'restarts': 80},\n",
       "  {'learning_rate': 0.10138309053659776, 'max_attempts': 161, 'restarts': 52}],\n",
       " 'split0_test_score': array([0.74683544, 0.89873418, 0.91139241, 0.89873418, 0.93037975,\n",
       "        0.83544304, 0.90506329, 0.94303797, 0.86708861, 0.93037975,\n",
       "        0.93037975, 0.91772152, 0.93670886, 0.90506329, 0.92405063,\n",
       "        0.92405063, 0.93037975, 0.91139241, 0.92405063, 0.91772152,\n",
       "        0.89240506, 0.92405063, 0.48101266, 0.91139241, 0.89873418,\n",
       "        0.94303797, 0.94303797, 0.91772152, 0.89240506, 0.90506329,\n",
       "        0.91772152, 0.91772152, 0.67088608, 0.92405063, 0.9556962 ,\n",
       "        0.91139241, 0.91772152, 0.86075949, 0.94936709, 0.34177215,\n",
       "        0.94303797, 0.91772152, 0.91772152, 0.89240506, 0.92405063,\n",
       "        0.91139241, 0.93670886, 0.74050633, 0.91772152, 0.84177215]),\n",
       " 'split1_test_score': array([0.79746835, 0.91772152, 0.91139241, 0.93670886, 0.91139241,\n",
       "        0.8164557 , 0.90506329, 0.91772152, 0.91139241, 0.96202532,\n",
       "        0.90506329, 0.91139241, 0.92405063, 0.91772152, 0.91139241,\n",
       "        0.90506329, 0.91139241, 0.94303797, 0.91772152, 0.90506329,\n",
       "        0.87341772, 0.89240506, 0.56962025, 0.87974684, 0.78481013,\n",
       "        0.93037975, 0.94303797, 0.91772152, 0.92405063, 0.90506329,\n",
       "        0.91139241, 0.91772152, 0.75316456, 0.94303797, 0.91139241,\n",
       "        0.90506329, 0.93670886, 0.81012658, 0.91139241, 0.63924051,\n",
       "        0.89873418, 0.70886076, 0.91772152, 0.93037975, 0.92405063,\n",
       "        0.91772152, 0.93037975, 0.65822785, 0.91139241, 0.83544304]),\n",
       " 'split2_test_score': array([0.57961783, 0.92993631, 0.92356688, 0.92993631, 0.94267516,\n",
       "        0.85987261, 0.95541401, 0.93630573, 0.89171975, 0.92993631,\n",
       "        0.91082803, 0.93630573, 0.92993631, 0.94267516, 0.92993631,\n",
       "        0.92356688, 0.94904459, 0.92356688, 0.93630573, 0.95541401,\n",
       "        0.9044586 , 0.92993631, 0.82802548, 0.92993631, 0.82165605,\n",
       "        0.94267516, 0.93630573, 0.92993631, 0.91082803, 0.94904459,\n",
       "        0.94267516, 0.93630573, 0.84076433, 0.92356688, 0.91082803,\n",
       "        0.93630573, 0.94267516, 0.88535032, 0.93630573, 0.61783439,\n",
       "        0.93630573, 0.91719745, 0.93630573, 0.95541401, 0.89808917,\n",
       "        0.91719745, 0.93630573, 0.75159236, 0.95541401, 0.8089172 ]),\n",
       " 'split3_test_score': array([0.89808917, 0.94267516, 0.91719745, 0.92356688, 0.91082803,\n",
       "        0.75159236, 0.91082803, 0.93630573, 0.87261146, 0.89808917,\n",
       "        0.89808917, 0.91719745, 0.91719745, 0.95541401, 0.94267516,\n",
       "        0.91082803, 0.92356688, 0.94267516, 0.91082803, 0.9044586 ,\n",
       "        0.9044586 , 0.93630573, 0.75796178, 0.75159236, 0.84076433,\n",
       "        0.94267516, 0.93630573, 0.91082803, 0.9044586 , 0.92356688,\n",
       "        0.9044586 , 0.91082803, 0.69426752, 0.91719745, 0.89171975,\n",
       "        0.9044586 , 0.87898089, 0.92356688, 0.94904459, 0.64968153,\n",
       "        0.94267516, 0.85350318, 0.92993631, 0.91719745, 0.9044586 ,\n",
       "        0.89808917, 0.92993631, 0.61146497, 0.92993631, 0.87898089]),\n",
       " 'split4_test_score': array([0.5477707 , 0.91719745, 0.93630573, 0.92993631, 0.91719745,\n",
       "        0.94904459, 0.94904459, 0.94904459, 0.70063694, 0.95541401,\n",
       "        0.91719745, 0.93630573, 0.94904459, 0.94904459, 0.93630573,\n",
       "        0.94267516, 0.94267516, 0.92993631, 0.96178344, 0.92993631,\n",
       "        0.91719745, 0.94904459, 0.77707006, 0.91719745, 0.94267516,\n",
       "        0.92993631, 0.91719745, 0.94904459, 0.93630573, 0.92356688,\n",
       "        0.92993631, 0.92993631, 0.71974522, 0.94267516, 0.95541401,\n",
       "        0.91719745, 0.94904459, 0.93630573, 0.93630573, 0.66878981,\n",
       "        0.94267516, 0.92356688, 0.94267516, 0.92993631, 0.95541401,\n",
       "        0.94904459, 0.93630573, 0.61783439, 0.92993631, 0.91719745]),\n",
       " 'mean_test_score': array([0.71410419, 0.92121982, 0.91994917, 0.92376112, 0.92249047,\n",
       "        0.84243964, 0.92503177, 0.9364676 , 0.84879288, 0.93519695,\n",
       "        0.91232529, 0.92376112, 0.93138501, 0.9339263 , 0.92884371,\n",
       "        0.92121982, 0.93138501, 0.93011436, 0.93011436, 0.92249047,\n",
       "        0.89834816, 0.92630241, 0.68233799, 0.87801779, 0.85768742,\n",
       "        0.93773825, 0.93519695, 0.92503177, 0.91359593, 0.92121982,\n",
       "        0.92121982, 0.92249047, 0.73570521, 0.93011436, 0.92503177,\n",
       "        0.91486658, 0.92503177, 0.88310038, 0.9364676 , 0.58322745,\n",
       "        0.93265565, 0.86404066, 0.92884371, 0.92503177, 0.92121982,\n",
       "        0.91867853, 0.9339263 , 0.67598475, 0.92884371, 0.85641677]),\n",
       " 'std_test_score': array([0.13225209, 0.01463489, 0.00932158, 0.0132146 , 0.01229726,\n",
       "        0.06418411, 0.02235012, 0.0105254 , 0.07558831, 0.02260346,\n",
       "        0.01102914, 0.01046032, 0.01092141, 0.01931177, 0.01073614,\n",
       "        0.01298032, 0.013427  , 0.01199724, 0.01789252, 0.01891307,\n",
       "        0.01475282, 0.01890701, 0.13361647, 0.06524371, 0.05622773,\n",
       "        0.00619493, 0.00947674, 0.01347341, 0.01526975, 0.0161697 ,\n",
       "        0.01359707, 0.00924124, 0.05916027, 0.01068757, 0.02592093,\n",
       "        0.01166641, 0.02526444, 0.04540602, 0.01382768, 0.12212629,\n",
       "        0.01718614, 0.08188871, 0.00995895, 0.0205096 , 0.01998125,\n",
       "        0.0167272 , 0.00308455, 0.05953569, 0.01507615, 0.0376831 ]),\n",
       " 'rank_test_score': array([47, 28, 33, 23, 25, 45, 18,  2, 44,  4, 37, 23,  9,  6, 14, 28,  9,\n",
       "        11, 11, 25, 38, 17, 48, 40, 42,  1,  4, 18, 36, 28, 28, 25, 46, 11,\n",
       "        18, 35, 18, 39,  2, 50,  8, 41, 14, 18, 28, 34,  6, 49, 14, 43]),\n",
       " 'split0_train_score': array([0.75675676, 0.98887122, 1.        , 0.9936407 , 0.99523052,\n",
       "        0.86486486, 0.9872814 , 0.99523052, 0.89984102, 0.98887122,\n",
       "        0.98887122, 0.99205087, 0.9936407 , 0.99523052, 0.98410175,\n",
       "        0.9936407 , 0.97138315, 0.99682035, 0.99523052, 0.91891892,\n",
       "        0.936407  , 0.94117647, 0.43879173, 0.90937997, 0.91573927,\n",
       "        0.98887122, 0.99682035, 0.99841017, 0.95389507, 0.99523052,\n",
       "        0.98410175, 0.99682035, 0.69793323, 0.99205087, 0.9745628 ,\n",
       "        0.96343402, 0.99841017, 0.89030207, 0.97933227, 0.3354531 ,\n",
       "        0.95707472, 0.93004769, 0.96661367, 0.99205087, 0.9936407 ,\n",
       "        0.99046105, 0.98251192, 0.76947536, 0.99841017, 0.83942766]),\n",
       " 'split1_train_score': array([0.81558029, 0.9936407 , 0.99841017, 0.99523052, 0.99205087,\n",
       "        0.87917329, 0.98887122, 0.99205087, 0.93481717, 0.99046105,\n",
       "        0.97138315, 0.99841017, 0.9936407 , 0.99523052, 0.98887122,\n",
       "        0.99205087, 0.96343402, 0.99523052, 0.99682035, 0.95389507,\n",
       "        0.94753577, 0.95071542, 0.52782194, 0.92845787, 0.86168521,\n",
       "        0.9554849 , 0.98569157, 0.99841017, 0.95866455, 1.        ,\n",
       "        0.9936407 , 0.99682035, 0.78060413, 1.        , 0.9682035 ,\n",
       "        0.9745628 , 0.99523052, 0.91573927, 0.9872814 , 0.61844197,\n",
       "        0.93799682, 0.76470588, 0.96979332, 0.99205087, 0.99046105,\n",
       "        0.99205087, 0.97933227, 0.67408585, 0.99523052, 0.91096979]),\n",
       " 'split2_train_score': array([0.57619048, 0.99365079, 0.9984127 , 0.9984127 , 0.99047619,\n",
       "        0.81587302, 0.99206349, 0.99047619, 0.92380952, 0.98095238,\n",
       "        0.95714286, 0.99365079, 0.99206349, 0.9984127 , 0.98571429,\n",
       "        0.9984127 , 0.97460317, 0.9952381 , 0.99206349, 0.97619048,\n",
       "        0.9015873 , 0.94126984, 0.84285714, 0.93333333, 0.81111111,\n",
       "        0.97936508, 0.9952381 , 0.9984127 , 0.96190476, 0.9952381 ,\n",
       "        0.99365079, 0.9984127 , 0.85714286, 0.9952381 , 0.97460317,\n",
       "        0.97460317, 1.        , 0.8968254 , 0.98253968, 0.57142857,\n",
       "        0.96190476, 0.91269841, 0.96984127, 0.99047619, 0.9952381 ,\n",
       "        0.99206349, 0.97142857, 0.74444444, 0.99365079, 0.83015873]),\n",
       " 'split3_train_score': array([0.89047619, 0.9968254 , 0.9984127 , 0.9952381 , 0.9968254 ,\n",
       "        0.76666667, 0.9952381 , 0.9952381 , 0.89365079, 0.98888889,\n",
       "        0.98888889, 0.9968254 , 0.99206349, 0.9984127 , 0.99047619,\n",
       "        0.9968254 , 0.97301587, 0.99206349, 0.9968254 , 0.95079365,\n",
       "        0.93174603, 0.97301587, 0.73968254, 0.74126984, 0.82063492,\n",
       "        0.97777778, 0.99365079, 0.9984127 , 0.97460317, 0.99365079,\n",
       "        0.99365079, 0.99365079, 0.75079365, 0.99206349, 0.96825397,\n",
       "        0.98253968, 0.9968254 , 0.8984127 , 0.99047619, 0.62539683,\n",
       "        0.95873016, 0.89047619, 0.96190476, 0.98571429, 0.99365079,\n",
       "        0.98888889, 0.96507937, 0.63333333, 0.99206349, 0.86825397]),\n",
       " 'split4_train_score': array([0.50634921, 0.98888889, 0.99365079, 0.99365079, 0.99047619,\n",
       "        0.91746032, 0.98888889, 0.98571429, 0.72857143, 0.98888889,\n",
       "        0.95396825, 0.99047619, 0.98412698, 0.9984127 , 0.99365079,\n",
       "        0.9952381 , 0.97142857, 0.99047619, 0.99365079, 0.94920635,\n",
       "        0.94761905, 0.96031746, 0.70952381, 0.92063492, 0.95079365,\n",
       "        0.96507937, 0.98888889, 0.99365079, 0.96984127, 0.9952381 ,\n",
       "        0.98412698, 0.99365079, 0.77301587, 0.98730159, 0.95873016,\n",
       "        0.96190476, 0.99365079, 0.92380952, 0.98571429, 0.7031746 ,\n",
       "        0.95238095, 0.92698413, 0.96507937, 0.98571429, 0.98888889,\n",
       "        0.99365079, 0.98253968, 0.66349206, 0.98571429, 0.93492063]),\n",
       " 'mean_train_score': array([0.70907058, 0.9923754 , 0.99777727, 0.99523456, 0.99301184,\n",
       "        0.84880763, 0.99046862, 0.99174199, 0.87613799, 0.98761249,\n",
       "        0.97205087, 0.99428269, 0.99110707, 0.99713983, 0.98856285,\n",
       "        0.99523355, 0.97077296, 0.99396573, 0.99491811, 0.94980089,\n",
       "        0.93297903, 0.95329901, 0.65173543, 0.88661519, 0.87199283,\n",
       "        0.97331567, 0.99205794, 0.99745931, 0.96378176, 0.9958715 ,\n",
       "        0.9898342 , 0.995871  , 0.77189795, 0.99333081, 0.96887072,\n",
       "        0.97140889, 0.99682338, 0.90501779, 0.98506877, 0.57077901,\n",
       "        0.95361748, 0.88498246, 0.96664648, 0.9892013 , 0.99237591,\n",
       "        0.99142302, 0.97617836, 0.69696621, 0.99301385, 0.87674616]),\n",
       " 'std_train_score': array([0.14510642, 0.00308107, 0.00215297, 0.00174065, 0.00257869,\n",
       "        0.05239261, 0.00284595, 0.00353337, 0.075313  , 0.00338568,\n",
       "        0.01494068, 0.00294521, 0.00356061, 0.00155894, 0.00339585,\n",
       "        0.00224978, 0.00385651, 0.00233079, 0.0018498 , 0.01826586,\n",
       "        0.01688159, 0.01213544, 0.14717423, 0.07312215, 0.05398849,\n",
       "        0.01169833, 0.00414499, 0.00190426, 0.00750035, 0.00215357,\n",
       "        0.00467024, 0.00190375, 0.0514974 , 0.00418836, 0.00581235,\n",
       "        0.00771974, 0.0022455 , 0.01261249, 0.00384334, 0.12502973,\n",
       "        0.00839411, 0.06174111, 0.00300167, 0.00290462, 0.00233423,\n",
       "        0.00161954, 0.00687424, 0.05139053, 0.00421014, 0.04047395])}"
      ]
     },
     "execution_count": 62,
     "metadata": {},
     "output_type": "execute_result"
    }
   ],
   "source": [
    "rand_nn_rhc.cv_results_"
   ]
  },
  {
   "cell_type": "code",
   "execution_count": 63,
   "metadata": {},
   "outputs": [],
   "source": [
    "test_time = mlrose.NeuralNetworkClassifier(hidden_nodes = [30], activation ='relu', \n",
    "                             algorithm ='random_hill_climb', max_iters=2000, curve=True)"
   ]
  },
  {
   "cell_type": "code",
   "execution_count": 64,
   "metadata": {},
   "outputs": [
    {
     "name": "stdout",
     "output_type": "stream",
     "text": [
      "--- 0.47475528717041016 seconds ---\n"
     ]
    }
   ],
   "source": [
    "start_time = time.time()\n",
    "test_time.fit(X_train, y_train)\n",
    "print(\"--- %s seconds ---\" % (time.time() - start_time))"
   ]
  },
  {
   "cell_type": "code",
   "execution_count": 95,
   "metadata": {
    "scrolled": true
   },
   "outputs": [
    {
     "data": {
      "text/plain": [
       "0.9289340101522843"
      ]
     },
     "execution_count": 95,
     "metadata": {},
     "output_type": "execute_result"
    }
   ],
   "source": [
    "accuracy_score(y_test, rand_nn_rhc_clf.predict(X_test))"
   ]
  },
  {
   "cell_type": "code",
   "execution_count": 96,
   "metadata": {},
   "outputs": [
    {
     "data": {
      "text/plain": [
       "0.8071065989847716"
      ]
     },
     "execution_count": 96,
     "metadata": {},
     "output_type": "execute_result"
    }
   ],
   "source": [
    "accuracy_score(y_test, rand_nn_sa_clf.predict(X_test))"
   ]
  },
  {
   "cell_type": "code",
   "execution_count": 97,
   "metadata": {},
   "outputs": [
    {
     "data": {
      "text/plain": [
       "0.8883248730964467"
      ]
     },
     "execution_count": 97,
     "metadata": {},
     "output_type": "execute_result"
    }
   ],
   "source": [
    "accuracy_score(y_test, rand_nn_ga_clf.predict(X_test))"
   ]
  },
  {
   "cell_type": "code",
   "execution_count": 100,
   "metadata": {},
   "outputs": [],
   "source": [
    "descent = mlrose.NeuralNetworkClassifier(hidden_nodes = [30], activation ='relu', \n",
    "                    algorithm ='gradient_descent', \n",
    "                    max_iters = 1000,\n",
    "                    learning_rate = 0.001, \n",
    "                    curve=True)"
   ]
  },
  {
   "cell_type": "code",
   "execution_count": 101,
   "metadata": {},
   "outputs": [
    {
     "name": "stdout",
     "output_type": "stream",
     "text": [
      "--- 3.0358798503875732 seconds ---\n"
     ]
    }
   ],
   "source": [
    "start_time = time.time()\n",
    "descent.fit(X_train, y_train)\n",
    "print(\"--- %s seconds ---\" % (time.time() - start_time))"
   ]
  },
  {
   "cell_type": "code",
   "execution_count": 102,
   "metadata": {},
   "outputs": [
    {
     "data": {
      "text/plain": [
       "0.934010152284264"
      ]
     },
     "execution_count": 102,
     "metadata": {},
     "output_type": "execute_result"
    }
   ],
   "source": [
    "accuracy_score(y_test, descent.predict(X_test))"
   ]
  },
  {
   "cell_type": "code",
   "execution_count": 110,
   "metadata": {},
   "outputs": [
    {
     "data": {
      "text/plain": [
       "NeuralNetworkClassifier(activation='relu', algorithm='genetic_alg', bias=True,\n",
       "            clip_max=10000000000.0, curve=True, early_stopping=False,\n",
       "            hidden_nodes=[30], learning_rate=0.1, max_attempts=500,\n",
       "            max_iters=2000, mutation_prob=0.7869253729345153, pop_size=114,\n",
       "            restarts=0,\n",
       "            schedule=<mlrose.decay.GeomDecay object at 0x0000022D86490080>)"
      ]
     },
     "execution_count": 110,
     "metadata": {},
     "output_type": "execute_result"
    }
   ],
   "source": [
    "rand_nn_ga_clf"
   ]
  }
 ],
 "metadata": {
  "kernelspec": {
   "display_name": "Python 3",
   "language": "python",
   "name": "python3"
  },
  "language_info": {
   "codemirror_mode": {
    "name": "ipython",
    "version": 3
   },
   "file_extension": ".py",
   "mimetype": "text/x-python",
   "name": "python",
   "nbconvert_exporter": "python",
   "pygments_lexer": "ipython3",
   "version": "3.6.6"
  }
 },
 "nbformat": 4,
 "nbformat_minor": 2
}
