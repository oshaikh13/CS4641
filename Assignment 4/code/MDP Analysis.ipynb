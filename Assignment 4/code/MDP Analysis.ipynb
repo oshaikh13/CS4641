{
 "cells": [
  {
   "cell_type": "code",
   "execution_count": 1,
   "metadata": {},
   "outputs": [],
   "source": [
    "import numpy as np\n",
    "import pprint\n",
    "import sys \n",
    "import gym\n",
    "from lib.envs.frozen_lake import RewardingFrozenLakeEnv\n",
    "from lib.solvers import PolicyIterationSolver, ValueIterationSolver\n",
    "import matplotlib.pyplot as plt\n",
    "import matplotlib.patheffects as path_effects"
   ]
  },
  {
   "cell_type": "code",
   "execution_count": 3,
   "metadata": {},
   "outputs": [],
   "source": [
    "def plot_policy_map(title, policy, map_desc, color_map, direction_map, size):\n",
    "    fig = plt.figure(figsize=size)\n",
    "    ax = fig.add_subplot(111, xlim=(0, policy.shape[1]), ylim=(0, policy.shape[0]))\n",
    "    font_size = 'x-large'\n",
    "    if policy.shape[1] > 16:\n",
    "        font_size = 'small'\n",
    "    plt.title(title)\n",
    "    for i in range(policy.shape[0]):\n",
    "        for j in range(policy.shape[1]):\n",
    "            y = policy.shape[0] - i - 1\n",
    "            x = j\n",
    "            p = plt.Rectangle([x, y], 1, 1)\n",
    "            p.set_facecolor(color_map[map_desc[i, j]])\n",
    "            ax.add_patch(p)\n",
    "\n",
    "            text = ax.text(x+0.5, y+0.5, direction_map[policy[i, j]], weight='bold', size=font_size,\n",
    "                           horizontalalignment='center', verticalalignment='center', color='w')\n",
    "            text.set_path_effects([path_effects.Stroke(linewidth=2, foreground='black'),\n",
    "                                   path_effects.Normal()])\n",
    "\n",
    "    plt.axis('off')\n",
    "    plt.xlim((0, policy.shape[1]))\n",
    "    plt.ylim((0, policy.shape[0]))\n",
    "    plt.tight_layout()\n",
    "\n",
    "    return plt\n",
    "\n",
    "def plot_value_map(title, v, map_desc, color_map, size):\n",
    "    fig = plt.figure(figsize=size)\n",
    "    ax = fig.add_subplot(111, xlim=(0, v.shape[1]), ylim=(0, v.shape[0]))\n",
    "    font_size = 'x-large'\n",
    "    if v.shape[1] > 16:\n",
    "        font_size = 'small'\n",
    "\n",
    "    v_min = np.min(v)\n",
    "    v_max = np.max(v)\n",
    "    bins = np.linspace(v_min, v_max, 100)\n",
    "    v_red = np.digitize(v, bins)/100.0\n",
    "    for i in range(v.shape[0]):\n",
    "        for j in range(v.shape[1]):\n",
    "            value = np.round(v[i, j], 2)\n",
    "            if len(str(value)) > 4:\n",
    "                font_size = 'small'\n",
    "\n",
    "    plt.title(title)\n",
    "    for i in range(v.shape[0]):\n",
    "        for j in range(v.shape[1]):\n",
    "            y = v.shape[0] - i - 1\n",
    "            x = j\n",
    "            p = plt.Rectangle([x, y], 1, 1)\n",
    "            p.set_facecolor(color_map[map_desc[i, j]])\n",
    "            ax.add_patch(p)\n",
    "\n",
    "            value = np.round(v[i, j], 2)\n",
    "\n",
    "            red = v_red[i, j]\n",
    "            text2 = ax.text(x+0.5, y+0.5, value, size=font_size,\n",
    "                            horizontalalignment='center', verticalalignment='center', color=(1.0, 1.0-red, 1.0-red))\n",
    "            text2.set_path_effects([path_effects.Stroke(linewidth=1, foreground='black'),\n",
    "                                   path_effects.Normal()])\n",
    "\n",
    "    plt.axis('off')\n",
    "    plt.xlim((0, v.shape[1]))\n",
    "    plt.ylim((0, v.shape[0]))\n",
    "    plt.tight_layout()\n",
    "\n",
    "    return plt"
   ]
  },
  {
   "cell_type": "code",
   "execution_count": 4,
   "metadata": {},
   "outputs": [
    {
     "name": "stdout",
     "output_type": "stream",
     "text": [
      "done with p=0.0\n",
      "done with p=0.05\n",
      "done with p=0.1\n",
      "done with p=0.15\n",
      "done with p=0.2\n",
      "done with p=0.25\n",
      "done with p=0.3\n",
      "done with p=0.35\n",
      "done with p=0.4\n",
      "done with p=0.45\n",
      "done with p=0.5\n",
      "done with p=0.55\n",
      "done with p=0.6\n",
      "done with p=0.65\n",
      "done with p=0.7\n",
      "done with p=0.75\n",
      "done with p=0.8\n",
      "done with p=0.85\n",
      "done with p=0.9\n",
      "done with p=0.95\n",
      "done with p=1.0\n"
     ]
    }
   ],
   "source": [
    "reward_smallPolicyIterationIters = []\n",
    "reward_smallPolicyIterationTime = []\n",
    "reward_largePolicyIterationIters = []\n",
    "reward_largePolicyIterationTime = []\n",
    "for p in np.around(np.linspace(0, 1, 21), decimals=2):\n",
    "    \n",
    "    smallRewardingFrozenLakeEnv = RewardingFrozenLakeEnv(transition_prob=p,  map_name=\"4x4\")\n",
    "    solver_1 = PolicyIterationSolver(smallRewardingFrozenLakeEnv, discount_factor=1)\n",
    "    solver_1.run_until_converged()\n",
    "    reward_smallPolicyIterationTime.append(sum(solver_1._step_times))\n",
    "    reward_smallPolicyIterationIters.append(solver_1._steps)\n",
    "    \n",
    "    largeRewardingFrozenLakeEnv = RewardingFrozenLakeEnv(transition_prob=p, map_name=\"20x20\")\n",
    "    solver_2 = PolicyIterationSolver(largeRewardingFrozenLakeEnv, discount_factor=1)\n",
    "    solver_2.run_until_converged()\n",
    "    reward_largePolicyIterationTime.append(sum(solver_2._step_times))\n",
    "    reward_largePolicyIterationIters.append(solver_2._steps)\n",
    "\n",
    "    print(\"done with p=\" + str(p))\n",
    "    "
   ]
  },
  {
   "cell_type": "code",
   "execution_count": 5,
   "metadata": {},
   "outputs": [
    {
     "name": "stdout",
     "output_type": "stream",
     "text": [
      "Done with p=0.0\n",
      "Done with p=0.05\n",
      "Done with p=0.1\n",
      "Done with p=0.15\n",
      "Done with p=0.2\n",
      "Done with p=0.25\n",
      "Done with p=0.3\n",
      "Done with p=0.35\n",
      "Done with p=0.4\n",
      "Done with p=0.45\n",
      "Done with p=0.5\n",
      "Done with p=0.55\n",
      "Done with p=0.6\n",
      "Done with p=0.65\n",
      "Done with p=0.7\n",
      "Done with p=0.75\n",
      "Done with p=0.8\n",
      "Done with p=0.85\n",
      "Done with p=0.9\n",
      "Done with p=0.95\n",
      "Done with p=1.0\n"
     ]
    }
   ],
   "source": [
    "discount_smallPolicyIterationEvalTime = []\n",
    "discount_smallPolicyIterationIterations = []\n",
    "discount_largePolicyIterationEvalTime = []\n",
    "discount_largePolicyIterationIterations = []\n",
    "for p in np.around(np.linspace(0, 1, 21), decimals=2):\n",
    "    \n",
    "    smallRewardingFrozenLakeEnv = RewardingFrozenLakeEnv(transition_prob=p, map_name=\"4x4\", step_reward=0)\n",
    "    solver_1 = PolicyIterationSolver(smallRewardingFrozenLakeEnv, discount_factor=.9)\n",
    "    solver_1.run_until_converged()\n",
    "    discount_smallPolicyIterationEvalTime.append(sum(solver_1._step_times))\n",
    "    discount_smallPolicyIterationIterations.append(solver_1._steps)\n",
    "    \n",
    "    largeRewardingFrozenLakeEnv = RewardingFrozenLakeEnv(transition_prob=p, map_name=\"20x20\", step_reward=0)\n",
    "    solver_2 = PolicyIterationSolver(smallRewardingFrozenLakeEnv, discount_factor=.9)\n",
    "    solver_2.run_until_converged()\n",
    "    discount_largePolicyIterationEvalTime.append(sum(solver_2._step_times))\n",
    "    discount_largePolicyIterationIterations.append(solver_2._steps)\n",
    "    print(\"Done with p=\" + str(p))"
   ]
  },
  {
   "cell_type": "code",
   "execution_count": 6,
   "metadata": {},
   "outputs": [
    {
     "name": "stdout",
     "output_type": "stream",
     "text": [
      "Done with p=0.0\n",
      "Done with p=0.05\n",
      "Done with p=0.1\n",
      "Done with p=0.15\n",
      "Done with p=0.2\n",
      "Done with p=0.25\n",
      "Done with p=0.3\n",
      "Done with p=0.35\n",
      "Done with p=0.4\n",
      "Done with p=0.45\n",
      "Done with p=0.5\n",
      "Done with p=0.55\n",
      "Done with p=0.6\n",
      "Done with p=0.65\n",
      "Done with p=0.7\n",
      "Done with p=0.75\n",
      "Done with p=0.8\n",
      "Done with p=0.85\n",
      "Done with p=0.9\n",
      "Done with p=0.95\n",
      "Done with p=1.0\n"
     ]
    }
   ],
   "source": [
    "reward_smallValueIterationEvalTime = []\n",
    "reward_smallValueIterationIterations = []\n",
    "reward_largeValueIterationEvalTime = []\n",
    "reward_largeValueIterationtIterations = []\n",
    "for p in np.around(np.linspace(0, 1, 21), decimals=2):\n",
    "    \n",
    "    smallRewardingFrozenLakeEnv = RewardingFrozenLakeEnv(transition_prob=p, map_name=\"4x4\")\n",
    "    solver_1 = ValueIterationSolver(smallRewardingFrozenLakeEnv, discount_factor=1)\n",
    "    solver_1.run_until_converged()\n",
    "    reward_smallValueIterationEvalTime.append(sum(solver_1._step_times))\n",
    "    reward_smallValueIterationIterations.append(solver_1._steps)\n",
    "    \n",
    "    largeRewardingFrozenLakeEnv = RewardingFrozenLakeEnv(transition_prob=p, map_name=\"20x20\")\n",
    "    solver_2 = ValueIterationSolver(smallRewardingFrozenLakeEnv, discount_factor=1)\n",
    "    solver_2.run_until_converged()\n",
    "    \n",
    "    reward_largeValueIterationEvalTime.append(sum(solver_2._step_times))\n",
    "    reward_largeValueIterationtIterations.append(solver_2._steps)\n",
    "    \n",
    "    print(\"Done with p=\" + str(p))"
   ]
  },
  {
   "cell_type": "code",
   "execution_count": 7,
   "metadata": {},
   "outputs": [
    {
     "name": "stdout",
     "output_type": "stream",
     "text": [
      "Done with p=0.0\n",
      "Done with p=0.05\n",
      "Done with p=0.1\n",
      "Done with p=0.15\n",
      "Done with p=0.2\n",
      "Done with p=0.25\n",
      "Done with p=0.3\n",
      "Done with p=0.35\n",
      "Done with p=0.4\n",
      "Done with p=0.45\n",
      "Done with p=0.5\n",
      "Done with p=0.55\n",
      "Done with p=0.6\n",
      "Done with p=0.65\n",
      "Done with p=0.7\n",
      "Done with p=0.75\n",
      "Done with p=0.8\n",
      "Done with p=0.85\n",
      "Done with p=0.9\n",
      "Done with p=0.95\n",
      "Done with p=1.0\n"
     ]
    }
   ],
   "source": [
    "discount_smallValueIterationEvalTime = []\n",
    "discount_smallValueIterationIterations = []\n",
    "discount_largeValueIterationEvalTime = []\n",
    "discount_largeValueIterationtIterations = []\n",
    "for p in np.around(np.linspace(0, 1, 21), decimals=2):\n",
    "    \n",
    "    smallRewardingFrozenLakeEnv = RewardingFrozenLakeEnv(transition_prob=p, map_name=\"4x4\", step_reward=0)\n",
    "    solver_1 = ValueIterationSolver(smallRewardingFrozenLakeEnv, discount_factor=.9)\n",
    "    solver_1.run_until_converged()\n",
    "    discount_smallValueIterationEvalTime.append(sum(solver_1._step_times))\n",
    "    discount_smallValueIterationIterations.append(solver_1._steps)\n",
    "    \n",
    "    largeRewardingFrozenLakeEnv = RewardingFrozenLakeEnv(transition_prob=p, map_name=\"20x20\", step_reward=0)\n",
    "    solver_2 = ValueIterationSolver(smallRewardingFrozenLakeEnv, discount_factor=.9)\n",
    "    solver_2.run_until_converged()\n",
    "    discount_largeValueIterationEvalTime.append(sum(solver_2._step_times))\n",
    "    discount_largeValueIterationtIterations.append(solver_2._steps)\n",
    "    \n",
    "    print(\"Done with p=\" + str(p))"
   ]
  },
  {
   "cell_type": "code",
   "execution_count": 13,
   "metadata": {},
   "outputs": [
    {
     "data": {
      "text/plain": [
       "<matplotlib.legend.Legend at 0x234269cb748>"
      ]
     },
     "execution_count": 13,
     "metadata": {},
     "output_type": "execute_result"
    },
    {
     "data": {
      "image/png": "[encoded data removed]",
      "text/plain": [
       "<Figure size 432x288 with 1 Axes>"
      ]
     },
     "metadata": {
      "needs_background": "light"
     },
     "output_type": "display_data"
    }
   ],
   "source": [
    "plt.plot(np.linspace(0, 1, 21), discount_smallPolicyIterationEvalTime)\n",
    "plt.plot(np.linspace(0, 1, 21), discount_smallValueIterationEvalTime)\n",
    "plt.legend([\"Policy Iteration\", \"Value Iteration\"])"
   ]
  },
  {
   "cell_type": "code",
   "execution_count": 14,
   "metadata": {},
   "outputs": [
    {
     "data": {
      "text/plain": [
       "<matplotlib.legend.Legend at 0x23426a316a0>"
      ]
     },
     "execution_count": 14,
     "metadata": {},
     "output_type": "execute_result"
    },
    {
     "data": {
      "image/png": "[encoded data removed]",
      "text/plain": [
       "<Figure size 432x288 with 1 Axes>"
      ]
     },
     "metadata": {
      "needs_background": "light"
     },
     "output_type": "display_data"
    }
   ],
   "source": [
    "plt.plot(np.linspace(0, 1, 21), discount_smallPolicyIterationIterations)\n",
    "plt.plot(np.linspace(0, 1, 21), discount_smallValueIterationIterations)\n",
    "plt.legend([\"Policy Iteration\", \"Value Iteration\"])"
   ]
  },
  {
   "cell_type": "code",
   "execution_count": 18,
   "metadata": {},
   "outputs": [
    {
     "data": {
      "text/plain": [
       "<matplotlib.legend.Legend at 0x23427b318d0>"
      ]
     },
     "execution_count": 18,
     "metadata": {},
     "output_type": "execute_result"
    },
    {
     "data": {
      "image/png": "[encoded data removed]",
      "text/plain": [
       "<Figure size 432x288 with 1 Axes>"
      ]
     },
     "metadata": {
      "needs_background": "light"
     },
     "output_type": "display_data"
    }
   ],
   "source": [
    "plt.plot(np.linspace(0, 1, 21), reward_largePolicyIterationTime)\n",
    "plt.plot(np.linspace(0, 1, 21), reward_largeValueIterationEvalTime)\n",
    "plt.legend([\"Policy Iteration\", \"Value Iteration\"])"
   ]
  },
  {
   "cell_type": "code",
   "execution_count": 19,
   "metadata": {},
   "outputs": [
    {
     "data": {
      "text/plain": [
       "<matplotlib.legend.Legend at 0x23427b9c160>"
      ]
     },
     "execution_count": 19,
     "metadata": {},
     "output_type": "execute_result"
    },
    {
     "data": {
      "image/png": "[encoded data removed]",
      "text/plain": [
       "<Figure size 432x288 with 1 Axes>"
      ]
     },
     "metadata": {
      "needs_background": "light"
     },
     "output_type": "display_data"
    }
   ],
   "source": [
    "plt.plot(np.linspace(0, 1, 21), reward_largePolicyIterationIters)\n",
    "plt.plot(np.linspace(0, 1, 21), reward_largeValueIterationtIterations)\n",
    "plt.legend([\"Policy Iteration\", \"Value Iteration\"])"
   ]
  },
  {
   "cell_type": "code",
   "execution_count": null,
   "metadata": {},
   "outputs": [],
   "source": [
    "testEnv = RewardingFrozenLakeEnv(transition_prob=.2, map_name=\"20x20\")\n",
    "policy, V, eval_time, iterations, _ = lib.algorithms.policy_improvement(testEnv, discount_factor=.9)"
   ]
  },
  {
   "cell_type": "code",
   "execution_count": null,
   "metadata": {},
   "outputs": [],
   "source": [
    "f = np.array([np.where(r==1)[0][0] for r in policy]).reshape(20, 20)"
   ]
  },
  {
   "cell_type": "code",
   "execution_count": null,
   "metadata": {},
   "outputs": [],
   "source": [
    "plot_policy_map(\"fuck\", f, testEnv.desc, testEnv.colors(), testEnv.directions(), (10, 10))"
   ]
  },
  {
   "cell_type": "code",
   "execution_count": null,
   "metadata": {},
   "outputs": [],
   "source": [
    "testEnv = RewardingFrozenLakeEnv(transition_prob=.8, map_name=\"20x20\", goal_reward=10)\n",
    "policy, V, eval_time, iterations = lib.algorithms.value_iteration(testEnv, discount_factor=.5)"
   ]
  },
  {
   "cell_type": "code",
   "execution_count": null,
   "metadata": {},
   "outputs": [],
   "source": [
    "f = np.array([np.where(r==1)[0][0] for r in policy]).reshape(20, 20)"
   ]
  },
  {
   "cell_type": "code",
   "execution_count": null,
   "metadata": {},
   "outputs": [],
   "source": [
    "plot_value_map(\"fuck\", V.reshape(20, 20), testEnv.desc, testEnv.colors(), (10, 10))"
   ]
  }
 ],
 "metadata": {
  "anaconda-cloud": {},
  "kernelspec": {
   "display_name": "Python 3",
   "language": "python",
   "name": "python3"
  },
  "language_info": {
   "codemirror_mode": {
    "name": "ipython",
    "version": 3
   },
   "file_extension": ".py",
   "mimetype": "text/x-python",
   "name": "python",
   "nbconvert_exporter": "python",
   "pygments_lexer": "ipython3",
   "version": "3.6.6"
  }
 },
 "nbformat": 4,
 "nbformat_minor": 1
}
