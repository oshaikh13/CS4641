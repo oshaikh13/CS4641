{
 "cells": [
  {
   "cell_type": "code",
   "execution_count": 2,
   "metadata": {},
   "outputs": [],
   "source": [
    "import numpy as np\n",
    "import pprint\n",
    "import sys \n",
    "import gym\n",
    "import lib.algorithms"
   ]
  },
  {
   "cell_type": "code",
   "execution_count": 4,
   "metadata": {},
   "outputs": [
    {
     "name": "stdout",
     "output_type": "stream",
     "text": [
      "Episode 2000/2000."
     ]
    },
    {
     "data": {
      "text/plain": [
       "(defaultdict(<function lib.algorithms.sarsa.<locals>.<lambda>()>,\n",
       "             {0: array([0., 0., 0., 0.]),\n",
       "              4: array([0., 0., 0., 0.]),\n",
       "              8: array([0., 0., 0., 0.]),\n",
       "              12: array([0., 0., 0., 0.]),\n",
       "              5: array([0., 0., 0., 0.]),\n",
       "              9: array([0., 0., 0., 0.]),\n",
       "              1: array([0., 0., 0., 0.]),\n",
       "              13: array([0., 0., 0., 0.]),\n",
       "              2: array([0., 0., 0., 0.]),\n",
       "              6: array([0., 0., 0., 0.]),\n",
       "              10: array([0., 0., 0., 0.]),\n",
       "              14: array([0., 0., 0., 0.]),\n",
       "              7: array([0., 0., 0., 0.])}),\n",
       " Stats(episode_lengths=array([ 2., 32.,  7., ..., 11., 25.,  4.]), episode_rewards=array([0., 0., 0., ..., 0., 0., 0.])))"
      ]
     },
     "execution_count": 4,
     "metadata": {},
     "output_type": "execute_result"
    }
   ],
   "source": [
    "lib.algorithms.sarsa(gym.make(\"FrozenLake-v0\"), 2000)"
   ]
  },
  {
   "cell_type": "code",
   "execution_count": null,
   "metadata": {},
   "outputs": [],
   "source": []
  }
 ],
 "metadata": {
  "anaconda-cloud": {},
  "kernelspec": {
   "display_name": "Python 3",
   "language": "python",
   "name": "python3"
  },
  "language_info": {
   "codemirror_mode": {
    "name": "ipython",
    "version": 3
   },
   "file_extension": ".py",
   "mimetype": "text/x-python",
   "name": "python",
   "nbconvert_exporter": "python",
   "pygments_lexer": "ipython3",
   "version": "3.6.6"
  }
 },
 "nbformat": 4,
 "nbformat_minor": 1
}
